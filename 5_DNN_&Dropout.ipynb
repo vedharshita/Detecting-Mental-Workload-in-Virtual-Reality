{
  "nbformat": 4,
  "nbformat_minor": 0,
  "metadata": {
    "colab": {
      "name": "5_DNN_&Dropout.ipynb",
      "provenance": [],
      "collapsed_sections": [],
      "include_colab_link": true
    },
    "kernelspec": {
      "name": "python3",
      "display_name": "Python 3"
    },
    "language_info": {
      "name": "python"
    }
  },
  "cells": [
    {
      "cell_type": "markdown",
      "metadata": {
        "id": "view-in-github",
        "colab_type": "text"
      },
      "source": [
        "<a href=\"https://colab.research.google.com/github/vedharshita/Detecting-Mental-Workload-in-Virtual-Reality/blob/main/5_DNN_%26Dropout.ipynb\" target=\"_parent\"><img src=\"https://colab.research.google.com/assets/colab-badge.svg\" alt=\"Open In Colab\"/></a>"
      ]
    },
    {
      "cell_type": "code",
      "metadata": {
        "colab": {
          "base_uri": "https://localhost:8080/"
        },
        "id": "OeNNNIOc1S-e",
        "outputId": "6f8e4bfe-5086-46ac-e9b5-cf3cab57de10"
      },
      "source": [
        "## Mounting gdrive\n",
        "from google.colab import drive\n",
        "drive.mount(\"/content/drive\")"
      ],
      "execution_count": null,
      "outputs": [
        {
          "output_type": "stream",
          "text": [
            "Drive already mounted at /content/drive; to attempt to forcibly remount, call drive.mount(\"/content/drive\", force_remount=True).\n"
          ],
          "name": "stdout"
        }
      ]
    },
    {
      "cell_type": "code",
      "metadata": {
        "id": "Yu9nNiDe1-Fr",
        "colab": {
          "base_uri": "https://localhost:8080/"
        },
        "outputId": "0223a83c-c38a-4edb-ff70-658dabd2be8e"
      },
      "source": [
        "## Imports\n",
        "import os\n",
        "import pandas as pd\n",
        "from keras.models import Sequential\n",
        "from keras.layers import Dense, Dropout\n",
        "from keras.wrappers.scikit_learn import KerasClassifier\n",
        "from keras.utils import np_utils\n",
        "from sklearn.model_selection import cross_val_score\n",
        "from sklearn.model_selection import KFold\n",
        "from sklearn.preprocessing import LabelEncoder\n",
        "from sklearn.pipeline import Pipeline\n",
        "from sklearn.metrics import classification_report\n",
        "import matplotlib.pyplot as plt\n",
        "!ls"
      ],
      "execution_count": null,
      "outputs": [
        {
          "output_type": "stream",
          "text": [
            "drive  sample_data\n"
          ],
          "name": "stdout"
        }
      ]
    },
    {
      "cell_type": "code",
      "metadata": {
        "id": "chTc41Ap2HPV"
      },
      "source": [
        "## Setting path for data files on colab\n",
        "root_dir = \"/content/drive/MyDrive/VR Mental Workload/\"\n",
        "raw_dir = root_dir + \"data/VRData2019/\"\n",
        "model_file_dir = raw_dir + \"model_file_dir/\"\n",
        "os.chdir(model_file_dir)\n",
        "train_data = pd.read_csv('train.csv')\n",
        "test_data = pd.read_csv('test.csv')"
      ],
      "execution_count": null,
      "outputs": []
    },
    {
      "cell_type": "code",
      "metadata": {
        "colab": {
          "base_uri": "https://localhost:8080/",
          "height": 227
        },
        "id": "CUvZO-Dg2uVt",
        "outputId": "46a85476-080e-44b8-c642-e52e9284a5eb"
      },
      "source": [
        "train_data.head()"
      ],
      "execution_count": null,
      "outputs": [
        {
          "output_type": "execute_result",
          "data": {
            "text/html": [
              "<div>\n",
              "<style scoped>\n",
              "    .dataframe tbody tr th:only-of-type {\n",
              "        vertical-align: middle;\n",
              "    }\n",
              "\n",
              "    .dataframe tbody tr th {\n",
              "        vertical-align: top;\n",
              "    }\n",
              "\n",
              "    .dataframe thead th {\n",
              "        text-align: right;\n",
              "    }\n",
              "</style>\n",
              "<table border=\"1\" class=\"dataframe\">\n",
              "  <thead>\n",
              "    <tr style=\"text-align: right;\">\n",
              "      <th></th>\n",
              "      <th>Unnamed: 0</th>\n",
              "      <th>Unnamed: 0.1</th>\n",
              "      <th>nback</th>\n",
              "      <th>signal_1_Alpha</th>\n",
              "      <th>signal_1_Beta</th>\n",
              "      <th>signal_1_Delta</th>\n",
              "      <th>signal_1_Gamma</th>\n",
              "      <th>signal_1_Theta</th>\n",
              "      <th>signal_2_Delta</th>\n",
              "      <th>signal_2_Theta</th>\n",
              "      <th>signal_2_Alpha</th>\n",
              "      <th>signal_2_Beta</th>\n",
              "      <th>signal_2_Gamma</th>\n",
              "      <th>signal_3_Delta</th>\n",
              "      <th>signal_3_Theta</th>\n",
              "      <th>signal_3_Alpha</th>\n",
              "      <th>signal_3_Beta</th>\n",
              "      <th>signal_3_Gamma</th>\n",
              "      <th>signal_4_Delta</th>\n",
              "      <th>signal_4_Theta</th>\n",
              "      <th>signal_4_Alpha</th>\n",
              "      <th>signal_4_Beta</th>\n",
              "      <th>signal_4_Gamma</th>\n",
              "      <th>signal_5_Delta</th>\n",
              "      <th>signal_5_Theta</th>\n",
              "      <th>signal_5_Alpha</th>\n",
              "      <th>signal_5_Beta</th>\n",
              "      <th>signal_5_Gamma</th>\n",
              "      <th>signal_6_Delta</th>\n",
              "      <th>signal_6_Theta</th>\n",
              "      <th>signal_6_Alpha</th>\n",
              "      <th>signal_6_Beta</th>\n",
              "      <th>signal_6_Gamma</th>\n",
              "      <th>signal_7_Delta</th>\n",
              "      <th>signal_7_Theta</th>\n",
              "      <th>signal_7_Alpha</th>\n",
              "      <th>signal_7_Beta</th>\n",
              "      <th>signal_7_Gamma</th>\n",
              "      <th>signal_8_Delta</th>\n",
              "      <th>signal_8_Theta</th>\n",
              "      <th>signal_8_Alpha</th>\n",
              "      <th>signal_8_Beta</th>\n",
              "      <th>signal_8_Gamma</th>\n",
              "    </tr>\n",
              "  </thead>\n",
              "  <tbody>\n",
              "    <tr>\n",
              "      <th>0</th>\n",
              "      <td>0</td>\n",
              "      <td>0</td>\n",
              "      <td>0.0</td>\n",
              "      <td>0.266018</td>\n",
              "      <td>0.294520</td>\n",
              "      <td>0.385813</td>\n",
              "      <td>0.410344</td>\n",
              "      <td>0.253298</td>\n",
              "      <td>0.383796</td>\n",
              "      <td>0.253239</td>\n",
              "      <td>0.210673</td>\n",
              "      <td>0.301570</td>\n",
              "      <td>0.817269</td>\n",
              "      <td>0.060986</td>\n",
              "      <td>0.131818</td>\n",
              "      <td>0.158013</td>\n",
              "      <td>0.347443</td>\n",
              "      <td>0.638562</td>\n",
              "      <td>0.223512</td>\n",
              "      <td>0.340940</td>\n",
              "      <td>0.283580</td>\n",
              "      <td>0.129391</td>\n",
              "      <td>0.170462</td>\n",
              "      <td>0.155590</td>\n",
              "      <td>0.304002</td>\n",
              "      <td>0.171143</td>\n",
              "      <td>0.295214</td>\n",
              "      <td>0.618234</td>\n",
              "      <td>0.165466</td>\n",
              "      <td>0.454573</td>\n",
              "      <td>0.156849</td>\n",
              "      <td>0.281819</td>\n",
              "      <td>0.388474</td>\n",
              "      <td>0.251002</td>\n",
              "      <td>0.405565</td>\n",
              "      <td>0.124216</td>\n",
              "      <td>0.294665</td>\n",
              "      <td>0.605851</td>\n",
              "      <td>0.221655</td>\n",
              "      <td>0.310003</td>\n",
              "      <td>0.164401</td>\n",
              "      <td>0.260282</td>\n",
              "      <td>0.566941</td>\n",
              "    </tr>\n",
              "    <tr>\n",
              "      <th>1</th>\n",
              "      <td>1</td>\n",
              "      <td>1</td>\n",
              "      <td>0.0</td>\n",
              "      <td>0.191110</td>\n",
              "      <td>0.271432</td>\n",
              "      <td>0.468044</td>\n",
              "      <td>0.172179</td>\n",
              "      <td>0.457963</td>\n",
              "      <td>0.516171</td>\n",
              "      <td>0.418904</td>\n",
              "      <td>0.168601</td>\n",
              "      <td>0.325636</td>\n",
              "      <td>0.336779</td>\n",
              "      <td>0.170683</td>\n",
              "      <td>0.392779</td>\n",
              "      <td>0.204583</td>\n",
              "      <td>0.427291</td>\n",
              "      <td>0.303840</td>\n",
              "      <td>0.334297</td>\n",
              "      <td>0.320686</td>\n",
              "      <td>0.276742</td>\n",
              "      <td>0.169615</td>\n",
              "      <td>0.080482</td>\n",
              "      <td>0.217758</td>\n",
              "      <td>0.231276</td>\n",
              "      <td>0.114483</td>\n",
              "      <td>0.498197</td>\n",
              "      <td>0.276957</td>\n",
              "      <td>0.158247</td>\n",
              "      <td>0.261737</td>\n",
              "      <td>0.233057</td>\n",
              "      <td>0.302173</td>\n",
              "      <td>0.245500</td>\n",
              "      <td>0.192510</td>\n",
              "      <td>0.266221</td>\n",
              "      <td>0.157693</td>\n",
              "      <td>0.310169</td>\n",
              "      <td>0.322129</td>\n",
              "      <td>0.139224</td>\n",
              "      <td>0.317097</td>\n",
              "      <td>0.092767</td>\n",
              "      <td>0.365378</td>\n",
              "      <td>0.344554</td>\n",
              "    </tr>\n",
              "    <tr>\n",
              "      <th>2</th>\n",
              "      <td>2</td>\n",
              "      <td>2</td>\n",
              "      <td>0.0</td>\n",
              "      <td>0.189766</td>\n",
              "      <td>0.306445</td>\n",
              "      <td>0.552279</td>\n",
              "      <td>0.160472</td>\n",
              "      <td>0.783429</td>\n",
              "      <td>0.672530</td>\n",
              "      <td>0.745817</td>\n",
              "      <td>0.194307</td>\n",
              "      <td>0.253789</td>\n",
              "      <td>0.169661</td>\n",
              "      <td>0.517334</td>\n",
              "      <td>0.921741</td>\n",
              "      <td>0.382999</td>\n",
              "      <td>0.649521</td>\n",
              "      <td>0.252736</td>\n",
              "      <td>0.228446</td>\n",
              "      <td>0.565367</td>\n",
              "      <td>0.257771</td>\n",
              "      <td>0.133108</td>\n",
              "      <td>0.053085</td>\n",
              "      <td>0.240091</td>\n",
              "      <td>0.555457</td>\n",
              "      <td>0.416031</td>\n",
              "      <td>0.355722</td>\n",
              "      <td>0.125605</td>\n",
              "      <td>0.284920</td>\n",
              "      <td>0.348354</td>\n",
              "      <td>0.462096</td>\n",
              "      <td>0.324393</td>\n",
              "      <td>0.158415</td>\n",
              "      <td>0.321020</td>\n",
              "      <td>0.317640</td>\n",
              "      <td>0.537149</td>\n",
              "      <td>0.379074</td>\n",
              "      <td>0.196813</td>\n",
              "      <td>0.371210</td>\n",
              "      <td>0.285062</td>\n",
              "      <td>0.522069</td>\n",
              "      <td>0.349100</td>\n",
              "      <td>0.225607</td>\n",
              "    </tr>\n",
              "    <tr>\n",
              "      <th>3</th>\n",
              "      <td>3</td>\n",
              "      <td>3</td>\n",
              "      <td>0.0</td>\n",
              "      <td>0.154737</td>\n",
              "      <td>0.222392</td>\n",
              "      <td>0.284091</td>\n",
              "      <td>0.062936</td>\n",
              "      <td>0.160012</td>\n",
              "      <td>0.250234</td>\n",
              "      <td>0.047567</td>\n",
              "      <td>0.057630</td>\n",
              "      <td>0.194010</td>\n",
              "      <td>0.196889</td>\n",
              "      <td>0.558831</td>\n",
              "      <td>0.822565</td>\n",
              "      <td>0.517139</td>\n",
              "      <td>0.941359</td>\n",
              "      <td>0.658276</td>\n",
              "      <td>0.256797</td>\n",
              "      <td>0.201080</td>\n",
              "      <td>0.227552</td>\n",
              "      <td>0.150117</td>\n",
              "      <td>0.064237</td>\n",
              "      <td>0.151770</td>\n",
              "      <td>0.169213</td>\n",
              "      <td>0.068875</td>\n",
              "      <td>0.253258</td>\n",
              "      <td>0.127017</td>\n",
              "      <td>0.220441</td>\n",
              "      <td>0.166712</td>\n",
              "      <td>0.095225</td>\n",
              "      <td>0.169286</td>\n",
              "      <td>0.147321</td>\n",
              "      <td>0.178260</td>\n",
              "      <td>0.110365</td>\n",
              "      <td>0.038773</td>\n",
              "      <td>0.216661</td>\n",
              "      <td>0.186516</td>\n",
              "      <td>0.259792</td>\n",
              "      <td>0.153686</td>\n",
              "      <td>0.026826</td>\n",
              "      <td>0.229342</td>\n",
              "      <td>0.189899</td>\n",
              "    </tr>\n",
              "    <tr>\n",
              "      <th>4</th>\n",
              "      <td>4</td>\n",
              "      <td>4</td>\n",
              "      <td>0.0</td>\n",
              "      <td>0.350462</td>\n",
              "      <td>0.324042</td>\n",
              "      <td>0.599809</td>\n",
              "      <td>0.141858</td>\n",
              "      <td>0.597639</td>\n",
              "      <td>0.241636</td>\n",
              "      <td>0.523333</td>\n",
              "      <td>0.227335</td>\n",
              "      <td>0.188517</td>\n",
              "      <td>0.294807</td>\n",
              "      <td>0.546578</td>\n",
              "      <td>0.829825</td>\n",
              "      <td>0.267715</td>\n",
              "      <td>0.497650</td>\n",
              "      <td>0.351674</td>\n",
              "      <td>0.280050</td>\n",
              "      <td>0.464064</td>\n",
              "      <td>0.372683</td>\n",
              "      <td>0.148794</td>\n",
              "      <td>0.063512</td>\n",
              "      <td>0.140780</td>\n",
              "      <td>0.313919</td>\n",
              "      <td>0.163404</td>\n",
              "      <td>0.204074</td>\n",
              "      <td>0.121872</td>\n",
              "      <td>0.116243</td>\n",
              "      <td>0.256015</td>\n",
              "      <td>0.258989</td>\n",
              "      <td>0.167808</td>\n",
              "      <td>0.172970</td>\n",
              "      <td>0.215536</td>\n",
              "      <td>0.154868</td>\n",
              "      <td>0.172222</td>\n",
              "      <td>0.254555</td>\n",
              "      <td>0.200052</td>\n",
              "      <td>0.121890</td>\n",
              "      <td>0.226238</td>\n",
              "      <td>0.138336</td>\n",
              "      <td>0.254526</td>\n",
              "      <td>0.228053</td>\n",
              "    </tr>\n",
              "  </tbody>\n",
              "</table>\n",
              "</div>"
            ],
            "text/plain": [
              "   Unnamed: 0  Unnamed: 0.1  ...  signal_8_Beta  signal_8_Gamma\n",
              "0           0             0  ...       0.260282        0.566941\n",
              "1           1             1  ...       0.365378        0.344554\n",
              "2           2             2  ...       0.349100        0.225607\n",
              "3           3             3  ...       0.229342        0.189899\n",
              "4           4             4  ...       0.254526        0.228053\n",
              "\n",
              "[5 rows x 43 columns]"
            ]
          },
          "metadata": {
            "tags": []
          },
          "execution_count": 4
        }
      ]
    },
    {
      "cell_type": "code",
      "metadata": {
        "colab": {
          "base_uri": "https://localhost:8080/",
          "height": 227
        },
        "id": "tQMw7-Gl2wWo",
        "outputId": "5ac7a993-025d-4f38-c5ee-a5a4356a6367"
      },
      "source": [
        "test_data.head()"
      ],
      "execution_count": null,
      "outputs": [
        {
          "output_type": "execute_result",
          "data": {
            "text/html": [
              "<div>\n",
              "<style scoped>\n",
              "    .dataframe tbody tr th:only-of-type {\n",
              "        vertical-align: middle;\n",
              "    }\n",
              "\n",
              "    .dataframe tbody tr th {\n",
              "        vertical-align: top;\n",
              "    }\n",
              "\n",
              "    .dataframe thead th {\n",
              "        text-align: right;\n",
              "    }\n",
              "</style>\n",
              "<table border=\"1\" class=\"dataframe\">\n",
              "  <thead>\n",
              "    <tr style=\"text-align: right;\">\n",
              "      <th></th>\n",
              "      <th>Unnamed: 0</th>\n",
              "      <th>Unnamed: 0.1</th>\n",
              "      <th>nback</th>\n",
              "      <th>signal_1_Alpha</th>\n",
              "      <th>signal_1_Beta</th>\n",
              "      <th>signal_1_Delta</th>\n",
              "      <th>signal_1_Gamma</th>\n",
              "      <th>signal_1_Theta</th>\n",
              "      <th>signal_2_Delta</th>\n",
              "      <th>signal_2_Theta</th>\n",
              "      <th>signal_2_Alpha</th>\n",
              "      <th>signal_2_Beta</th>\n",
              "      <th>signal_2_Gamma</th>\n",
              "      <th>signal_3_Delta</th>\n",
              "      <th>signal_3_Theta</th>\n",
              "      <th>signal_3_Alpha</th>\n",
              "      <th>signal_3_Beta</th>\n",
              "      <th>signal_3_Gamma</th>\n",
              "      <th>signal_4_Delta</th>\n",
              "      <th>signal_4_Theta</th>\n",
              "      <th>signal_4_Alpha</th>\n",
              "      <th>signal_4_Beta</th>\n",
              "      <th>signal_4_Gamma</th>\n",
              "      <th>signal_5_Delta</th>\n",
              "      <th>signal_5_Theta</th>\n",
              "      <th>signal_5_Alpha</th>\n",
              "      <th>signal_5_Beta</th>\n",
              "      <th>signal_5_Gamma</th>\n",
              "      <th>signal_6_Delta</th>\n",
              "      <th>signal_6_Theta</th>\n",
              "      <th>signal_6_Alpha</th>\n",
              "      <th>signal_6_Beta</th>\n",
              "      <th>signal_6_Gamma</th>\n",
              "      <th>signal_7_Delta</th>\n",
              "      <th>signal_7_Theta</th>\n",
              "      <th>signal_7_Alpha</th>\n",
              "      <th>signal_7_Beta</th>\n",
              "      <th>signal_7_Gamma</th>\n",
              "      <th>signal_8_Delta</th>\n",
              "      <th>signal_8_Theta</th>\n",
              "      <th>signal_8_Alpha</th>\n",
              "      <th>signal_8_Beta</th>\n",
              "      <th>signal_8_Gamma</th>\n",
              "    </tr>\n",
              "  </thead>\n",
              "  <tbody>\n",
              "    <tr>\n",
              "      <th>0</th>\n",
              "      <td>0</td>\n",
              "      <td>0</td>\n",
              "      <td>0</td>\n",
              "      <td>0.607747</td>\n",
              "      <td>0.616270</td>\n",
              "      <td>0.173890</td>\n",
              "      <td>0.854061</td>\n",
              "      <td>0.569678</td>\n",
              "      <td>0.157937</td>\n",
              "      <td>0.656183</td>\n",
              "      <td>0.500220</td>\n",
              "      <td>0.579066</td>\n",
              "      <td>0.699287</td>\n",
              "      <td>0.159762</td>\n",
              "      <td>0.652134</td>\n",
              "      <td>0.634274</td>\n",
              "      <td>0.694576</td>\n",
              "      <td>0.728485</td>\n",
              "      <td>0.139161</td>\n",
              "      <td>0.368111</td>\n",
              "      <td>0.530244</td>\n",
              "      <td>0.582842</td>\n",
              "      <td>0.553637</td>\n",
              "      <td>0.132289</td>\n",
              "      <td>0.441801</td>\n",
              "      <td>0.610471</td>\n",
              "      <td>0.431606</td>\n",
              "      <td>0.543872</td>\n",
              "      <td>0.210270</td>\n",
              "      <td>0.577226</td>\n",
              "      <td>0.455377</td>\n",
              "      <td>1.000000</td>\n",
              "      <td>1.000000</td>\n",
              "      <td>0.080334</td>\n",
              "      <td>0.393168</td>\n",
              "      <td>0.427275</td>\n",
              "      <td>1.000000</td>\n",
              "      <td>1.000000</td>\n",
              "      <td>0.130254</td>\n",
              "      <td>0.472512</td>\n",
              "      <td>0.575952</td>\n",
              "      <td>0.943013</td>\n",
              "      <td>1.000000</td>\n",
              "    </tr>\n",
              "    <tr>\n",
              "      <th>1</th>\n",
              "      <td>1</td>\n",
              "      <td>1</td>\n",
              "      <td>0</td>\n",
              "      <td>0.604399</td>\n",
              "      <td>0.552454</td>\n",
              "      <td>0.243694</td>\n",
              "      <td>0.396213</td>\n",
              "      <td>0.670841</td>\n",
              "      <td>0.254591</td>\n",
              "      <td>0.632238</td>\n",
              "      <td>0.448229</td>\n",
              "      <td>0.615845</td>\n",
              "      <td>0.304191</td>\n",
              "      <td>0.272506</td>\n",
              "      <td>0.611222</td>\n",
              "      <td>0.474813</td>\n",
              "      <td>0.984255</td>\n",
              "      <td>0.518242</td>\n",
              "      <td>0.228701</td>\n",
              "      <td>0.527532</td>\n",
              "      <td>0.319955</td>\n",
              "      <td>0.535507</td>\n",
              "      <td>0.246978</td>\n",
              "      <td>0.259135</td>\n",
              "      <td>0.466196</td>\n",
              "      <td>0.472080</td>\n",
              "      <td>0.520168</td>\n",
              "      <td>0.228577</td>\n",
              "      <td>0.227682</td>\n",
              "      <td>0.661205</td>\n",
              "      <td>0.556639</td>\n",
              "      <td>0.831096</td>\n",
              "      <td>0.451752</td>\n",
              "      <td>0.241132</td>\n",
              "      <td>0.193345</td>\n",
              "      <td>0.594435</td>\n",
              "      <td>0.650206</td>\n",
              "      <td>0.321901</td>\n",
              "      <td>0.243728</td>\n",
              "      <td>0.467632</td>\n",
              "      <td>0.619204</td>\n",
              "      <td>0.784680</td>\n",
              "      <td>0.348615</td>\n",
              "    </tr>\n",
              "    <tr>\n",
              "      <th>2</th>\n",
              "      <td>2</td>\n",
              "      <td>2</td>\n",
              "      <td>0</td>\n",
              "      <td>0.358542</td>\n",
              "      <td>0.217932</td>\n",
              "      <td>0.251591</td>\n",
              "      <td>0.223542</td>\n",
              "      <td>0.311861</td>\n",
              "      <td>0.268535</td>\n",
              "      <td>0.439048</td>\n",
              "      <td>0.446451</td>\n",
              "      <td>0.246019</td>\n",
              "      <td>0.168078</td>\n",
              "      <td>0.262510</td>\n",
              "      <td>0.414642</td>\n",
              "      <td>0.460139</td>\n",
              "      <td>0.333566</td>\n",
              "      <td>0.170638</td>\n",
              "      <td>0.239419</td>\n",
              "      <td>0.177133</td>\n",
              "      <td>0.301280</td>\n",
              "      <td>0.211233</td>\n",
              "      <td>0.170671</td>\n",
              "      <td>0.245811</td>\n",
              "      <td>0.300163</td>\n",
              "      <td>0.276397</td>\n",
              "      <td>0.220222</td>\n",
              "      <td>0.167602</td>\n",
              "      <td>0.245900</td>\n",
              "      <td>0.226009</td>\n",
              "      <td>0.318642</td>\n",
              "      <td>0.322865</td>\n",
              "      <td>0.331170</td>\n",
              "      <td>0.132329</td>\n",
              "      <td>0.275264</td>\n",
              "      <td>0.379369</td>\n",
              "      <td>0.445798</td>\n",
              "      <td>0.306290</td>\n",
              "      <td>0.187162</td>\n",
              "      <td>0.254617</td>\n",
              "      <td>0.367365</td>\n",
              "      <td>0.454398</td>\n",
              "      <td>0.282335</td>\n",
              "    </tr>\n",
              "    <tr>\n",
              "      <th>3</th>\n",
              "      <td>3</td>\n",
              "      <td>3</td>\n",
              "      <td>0</td>\n",
              "      <td>0.193092</td>\n",
              "      <td>0.098966</td>\n",
              "      <td>0.083297</td>\n",
              "      <td>0.073249</td>\n",
              "      <td>0.242991</td>\n",
              "      <td>0.088864</td>\n",
              "      <td>0.216212</td>\n",
              "      <td>0.191126</td>\n",
              "      <td>0.134907</td>\n",
              "      <td>0.070046</td>\n",
              "      <td>0.075040</td>\n",
              "      <td>0.204114</td>\n",
              "      <td>0.132906</td>\n",
              "      <td>0.193210</td>\n",
              "      <td>0.097710</td>\n",
              "      <td>0.053822</td>\n",
              "      <td>0.130130</td>\n",
              "      <td>0.146380</td>\n",
              "      <td>0.182901</td>\n",
              "      <td>0.079663</td>\n",
              "      <td>0.056384</td>\n",
              "      <td>0.140316</td>\n",
              "      <td>0.144444</td>\n",
              "      <td>0.212416</td>\n",
              "      <td>0.083525</td>\n",
              "      <td>0.060888</td>\n",
              "      <td>0.074234</td>\n",
              "      <td>0.185327</td>\n",
              "      <td>0.221323</td>\n",
              "      <td>0.162587</td>\n",
              "      <td>0.100606</td>\n",
              "      <td>0.103113</td>\n",
              "      <td>0.210243</td>\n",
              "      <td>0.227528</td>\n",
              "      <td>0.152426</td>\n",
              "      <td>0.034445</td>\n",
              "      <td>0.073284</td>\n",
              "      <td>0.122232</td>\n",
              "      <td>0.272932</td>\n",
              "      <td>0.144881</td>\n",
              "    </tr>\n",
              "    <tr>\n",
              "      <th>4</th>\n",
              "      <td>4</td>\n",
              "      <td>4</td>\n",
              "      <td>0</td>\n",
              "      <td>0.167760</td>\n",
              "      <td>0.136098</td>\n",
              "      <td>0.061571</td>\n",
              "      <td>0.112131</td>\n",
              "      <td>0.268139</td>\n",
              "      <td>0.064839</td>\n",
              "      <td>0.142419</td>\n",
              "      <td>0.129471</td>\n",
              "      <td>0.168859</td>\n",
              "      <td>0.085068</td>\n",
              "      <td>0.077207</td>\n",
              "      <td>0.088391</td>\n",
              "      <td>0.174215</td>\n",
              "      <td>0.176882</td>\n",
              "      <td>0.064668</td>\n",
              "      <td>0.065199</td>\n",
              "      <td>0.182422</td>\n",
              "      <td>0.171215</td>\n",
              "      <td>0.143294</td>\n",
              "      <td>0.050318</td>\n",
              "      <td>0.068659</td>\n",
              "      <td>0.074434</td>\n",
              "      <td>0.149738</td>\n",
              "      <td>0.120903</td>\n",
              "      <td>0.051284</td>\n",
              "      <td>0.064214</td>\n",
              "      <td>0.235394</td>\n",
              "      <td>0.139471</td>\n",
              "      <td>0.229491</td>\n",
              "      <td>0.096636</td>\n",
              "      <td>0.029307</td>\n",
              "      <td>0.125357</td>\n",
              "      <td>0.205839</td>\n",
              "      <td>0.247305</td>\n",
              "      <td>0.106152</td>\n",
              "      <td>0.041187</td>\n",
              "      <td>0.152287</td>\n",
              "      <td>0.209606</td>\n",
              "      <td>0.219849</td>\n",
              "      <td>0.110918</td>\n",
              "    </tr>\n",
              "  </tbody>\n",
              "</table>\n",
              "</div>"
            ],
            "text/plain": [
              "   Unnamed: 0  Unnamed: 0.1  ...  signal_8_Beta  signal_8_Gamma\n",
              "0           0             0  ...       0.943013        1.000000\n",
              "1           1             1  ...       0.784680        0.348615\n",
              "2           2             2  ...       0.454398        0.282335\n",
              "3           3             3  ...       0.272932        0.144881\n",
              "4           4             4  ...       0.219849        0.110918\n",
              "\n",
              "[5 rows x 43 columns]"
            ]
          },
          "metadata": {
            "tags": []
          },
          "execution_count": 5
        }
      ]
    },
    {
      "cell_type": "code",
      "metadata": {
        "colab": {
          "base_uri": "https://localhost:8080/"
        },
        "id": "Tmp8EPtx2zwK",
        "outputId": "6ab4d2e2-0881-42ed-d979-9b1834434cbc"
      },
      "source": [
        "## Preview data\n",
        "train_data = train_data.iloc[:,2:]\n",
        "test_data = test_data.iloc[:,2:]\n",
        "print(\"Train data:\\n\", train_data.head())\n",
        "print(\"Test data:\\n\", test_data.head())"
      ],
      "execution_count": null,
      "outputs": [
        {
          "output_type": "stream",
          "text": [
            "Train data:\n",
            "    nback  signal_1_Alpha  ...  signal_8_Beta  signal_8_Gamma\n",
            "0    0.0        0.266018  ...       0.260282        0.566941\n",
            "1    0.0        0.191110  ...       0.365378        0.344554\n",
            "2    0.0        0.189766  ...       0.349100        0.225607\n",
            "3    0.0        0.154737  ...       0.229342        0.189899\n",
            "4    0.0        0.350462  ...       0.254526        0.228053\n",
            "\n",
            "[5 rows x 41 columns]\n",
            "Test data:\n",
            "    nback  signal_1_Alpha  ...  signal_8_Beta  signal_8_Gamma\n",
            "0      0        0.607747  ...       0.943013        1.000000\n",
            "1      0        0.604399  ...       0.784680        0.348615\n",
            "2      0        0.358542  ...       0.454398        0.282335\n",
            "3      0        0.193092  ...       0.272932        0.144881\n",
            "4      0        0.167760  ...       0.219849        0.110918\n",
            "\n",
            "[5 rows x 41 columns]\n"
          ],
          "name": "stdout"
        }
      ]
    },
    {
      "cell_type": "code",
      "metadata": {
        "colab": {
          "base_uri": "https://localhost:8080/",
          "height": 211
        },
        "id": "an3hp6PT5W2a",
        "outputId": "9c038118-cd2b-44ec-caa4-58c05ac534ff"
      },
      "source": [
        "train_data['nback'] = train_data['nback'].astype(int)\n",
        "train_data.head()"
      ],
      "execution_count": null,
      "outputs": [
        {
          "output_type": "execute_result",
          "data": {
            "text/html": [
              "<div>\n",
              "<style scoped>\n",
              "    .dataframe tbody tr th:only-of-type {\n",
              "        vertical-align: middle;\n",
              "    }\n",
              "\n",
              "    .dataframe tbody tr th {\n",
              "        vertical-align: top;\n",
              "    }\n",
              "\n",
              "    .dataframe thead th {\n",
              "        text-align: right;\n",
              "    }\n",
              "</style>\n",
              "<table border=\"1\" class=\"dataframe\">\n",
              "  <thead>\n",
              "    <tr style=\"text-align: right;\">\n",
              "      <th></th>\n",
              "      <th>nback</th>\n",
              "      <th>signal_1_Alpha</th>\n",
              "      <th>signal_1_Beta</th>\n",
              "      <th>signal_1_Delta</th>\n",
              "      <th>signal_1_Gamma</th>\n",
              "      <th>signal_1_Theta</th>\n",
              "      <th>signal_2_Delta</th>\n",
              "      <th>signal_2_Theta</th>\n",
              "      <th>signal_2_Alpha</th>\n",
              "      <th>signal_2_Beta</th>\n",
              "      <th>signal_2_Gamma</th>\n",
              "      <th>signal_3_Delta</th>\n",
              "      <th>signal_3_Theta</th>\n",
              "      <th>signal_3_Alpha</th>\n",
              "      <th>signal_3_Beta</th>\n",
              "      <th>signal_3_Gamma</th>\n",
              "      <th>signal_4_Delta</th>\n",
              "      <th>signal_4_Theta</th>\n",
              "      <th>signal_4_Alpha</th>\n",
              "      <th>signal_4_Beta</th>\n",
              "      <th>signal_4_Gamma</th>\n",
              "      <th>signal_5_Delta</th>\n",
              "      <th>signal_5_Theta</th>\n",
              "      <th>signal_5_Alpha</th>\n",
              "      <th>signal_5_Beta</th>\n",
              "      <th>signal_5_Gamma</th>\n",
              "      <th>signal_6_Delta</th>\n",
              "      <th>signal_6_Theta</th>\n",
              "      <th>signal_6_Alpha</th>\n",
              "      <th>signal_6_Beta</th>\n",
              "      <th>signal_6_Gamma</th>\n",
              "      <th>signal_7_Delta</th>\n",
              "      <th>signal_7_Theta</th>\n",
              "      <th>signal_7_Alpha</th>\n",
              "      <th>signal_7_Beta</th>\n",
              "      <th>signal_7_Gamma</th>\n",
              "      <th>signal_8_Delta</th>\n",
              "      <th>signal_8_Theta</th>\n",
              "      <th>signal_8_Alpha</th>\n",
              "      <th>signal_8_Beta</th>\n",
              "      <th>signal_8_Gamma</th>\n",
              "    </tr>\n",
              "  </thead>\n",
              "  <tbody>\n",
              "    <tr>\n",
              "      <th>0</th>\n",
              "      <td>0</td>\n",
              "      <td>0.266018</td>\n",
              "      <td>0.294520</td>\n",
              "      <td>0.385813</td>\n",
              "      <td>0.410344</td>\n",
              "      <td>0.253298</td>\n",
              "      <td>0.383796</td>\n",
              "      <td>0.253239</td>\n",
              "      <td>0.210673</td>\n",
              "      <td>0.301570</td>\n",
              "      <td>0.817269</td>\n",
              "      <td>0.060986</td>\n",
              "      <td>0.131818</td>\n",
              "      <td>0.158013</td>\n",
              "      <td>0.347443</td>\n",
              "      <td>0.638562</td>\n",
              "      <td>0.223512</td>\n",
              "      <td>0.340940</td>\n",
              "      <td>0.283580</td>\n",
              "      <td>0.129391</td>\n",
              "      <td>0.170462</td>\n",
              "      <td>0.155590</td>\n",
              "      <td>0.304002</td>\n",
              "      <td>0.171143</td>\n",
              "      <td>0.295214</td>\n",
              "      <td>0.618234</td>\n",
              "      <td>0.165466</td>\n",
              "      <td>0.454573</td>\n",
              "      <td>0.156849</td>\n",
              "      <td>0.281819</td>\n",
              "      <td>0.388474</td>\n",
              "      <td>0.251002</td>\n",
              "      <td>0.405565</td>\n",
              "      <td>0.124216</td>\n",
              "      <td>0.294665</td>\n",
              "      <td>0.605851</td>\n",
              "      <td>0.221655</td>\n",
              "      <td>0.310003</td>\n",
              "      <td>0.164401</td>\n",
              "      <td>0.260282</td>\n",
              "      <td>0.566941</td>\n",
              "    </tr>\n",
              "    <tr>\n",
              "      <th>1</th>\n",
              "      <td>0</td>\n",
              "      <td>0.191110</td>\n",
              "      <td>0.271432</td>\n",
              "      <td>0.468044</td>\n",
              "      <td>0.172179</td>\n",
              "      <td>0.457963</td>\n",
              "      <td>0.516171</td>\n",
              "      <td>0.418904</td>\n",
              "      <td>0.168601</td>\n",
              "      <td>0.325636</td>\n",
              "      <td>0.336779</td>\n",
              "      <td>0.170683</td>\n",
              "      <td>0.392779</td>\n",
              "      <td>0.204583</td>\n",
              "      <td>0.427291</td>\n",
              "      <td>0.303840</td>\n",
              "      <td>0.334297</td>\n",
              "      <td>0.320686</td>\n",
              "      <td>0.276742</td>\n",
              "      <td>0.169615</td>\n",
              "      <td>0.080482</td>\n",
              "      <td>0.217758</td>\n",
              "      <td>0.231276</td>\n",
              "      <td>0.114483</td>\n",
              "      <td>0.498197</td>\n",
              "      <td>0.276957</td>\n",
              "      <td>0.158247</td>\n",
              "      <td>0.261737</td>\n",
              "      <td>0.233057</td>\n",
              "      <td>0.302173</td>\n",
              "      <td>0.245500</td>\n",
              "      <td>0.192510</td>\n",
              "      <td>0.266221</td>\n",
              "      <td>0.157693</td>\n",
              "      <td>0.310169</td>\n",
              "      <td>0.322129</td>\n",
              "      <td>0.139224</td>\n",
              "      <td>0.317097</td>\n",
              "      <td>0.092767</td>\n",
              "      <td>0.365378</td>\n",
              "      <td>0.344554</td>\n",
              "    </tr>\n",
              "    <tr>\n",
              "      <th>2</th>\n",
              "      <td>0</td>\n",
              "      <td>0.189766</td>\n",
              "      <td>0.306445</td>\n",
              "      <td>0.552279</td>\n",
              "      <td>0.160472</td>\n",
              "      <td>0.783429</td>\n",
              "      <td>0.672530</td>\n",
              "      <td>0.745817</td>\n",
              "      <td>0.194307</td>\n",
              "      <td>0.253789</td>\n",
              "      <td>0.169661</td>\n",
              "      <td>0.517334</td>\n",
              "      <td>0.921741</td>\n",
              "      <td>0.382999</td>\n",
              "      <td>0.649521</td>\n",
              "      <td>0.252736</td>\n",
              "      <td>0.228446</td>\n",
              "      <td>0.565367</td>\n",
              "      <td>0.257771</td>\n",
              "      <td>0.133108</td>\n",
              "      <td>0.053085</td>\n",
              "      <td>0.240091</td>\n",
              "      <td>0.555457</td>\n",
              "      <td>0.416031</td>\n",
              "      <td>0.355722</td>\n",
              "      <td>0.125605</td>\n",
              "      <td>0.284920</td>\n",
              "      <td>0.348354</td>\n",
              "      <td>0.462096</td>\n",
              "      <td>0.324393</td>\n",
              "      <td>0.158415</td>\n",
              "      <td>0.321020</td>\n",
              "      <td>0.317640</td>\n",
              "      <td>0.537149</td>\n",
              "      <td>0.379074</td>\n",
              "      <td>0.196813</td>\n",
              "      <td>0.371210</td>\n",
              "      <td>0.285062</td>\n",
              "      <td>0.522069</td>\n",
              "      <td>0.349100</td>\n",
              "      <td>0.225607</td>\n",
              "    </tr>\n",
              "    <tr>\n",
              "      <th>3</th>\n",
              "      <td>0</td>\n",
              "      <td>0.154737</td>\n",
              "      <td>0.222392</td>\n",
              "      <td>0.284091</td>\n",
              "      <td>0.062936</td>\n",
              "      <td>0.160012</td>\n",
              "      <td>0.250234</td>\n",
              "      <td>0.047567</td>\n",
              "      <td>0.057630</td>\n",
              "      <td>0.194010</td>\n",
              "      <td>0.196889</td>\n",
              "      <td>0.558831</td>\n",
              "      <td>0.822565</td>\n",
              "      <td>0.517139</td>\n",
              "      <td>0.941359</td>\n",
              "      <td>0.658276</td>\n",
              "      <td>0.256797</td>\n",
              "      <td>0.201080</td>\n",
              "      <td>0.227552</td>\n",
              "      <td>0.150117</td>\n",
              "      <td>0.064237</td>\n",
              "      <td>0.151770</td>\n",
              "      <td>0.169213</td>\n",
              "      <td>0.068875</td>\n",
              "      <td>0.253258</td>\n",
              "      <td>0.127017</td>\n",
              "      <td>0.220441</td>\n",
              "      <td>0.166712</td>\n",
              "      <td>0.095225</td>\n",
              "      <td>0.169286</td>\n",
              "      <td>0.147321</td>\n",
              "      <td>0.178260</td>\n",
              "      <td>0.110365</td>\n",
              "      <td>0.038773</td>\n",
              "      <td>0.216661</td>\n",
              "      <td>0.186516</td>\n",
              "      <td>0.259792</td>\n",
              "      <td>0.153686</td>\n",
              "      <td>0.026826</td>\n",
              "      <td>0.229342</td>\n",
              "      <td>0.189899</td>\n",
              "    </tr>\n",
              "    <tr>\n",
              "      <th>4</th>\n",
              "      <td>0</td>\n",
              "      <td>0.350462</td>\n",
              "      <td>0.324042</td>\n",
              "      <td>0.599809</td>\n",
              "      <td>0.141858</td>\n",
              "      <td>0.597639</td>\n",
              "      <td>0.241636</td>\n",
              "      <td>0.523333</td>\n",
              "      <td>0.227335</td>\n",
              "      <td>0.188517</td>\n",
              "      <td>0.294807</td>\n",
              "      <td>0.546578</td>\n",
              "      <td>0.829825</td>\n",
              "      <td>0.267715</td>\n",
              "      <td>0.497650</td>\n",
              "      <td>0.351674</td>\n",
              "      <td>0.280050</td>\n",
              "      <td>0.464064</td>\n",
              "      <td>0.372683</td>\n",
              "      <td>0.148794</td>\n",
              "      <td>0.063512</td>\n",
              "      <td>0.140780</td>\n",
              "      <td>0.313919</td>\n",
              "      <td>0.163404</td>\n",
              "      <td>0.204074</td>\n",
              "      <td>0.121872</td>\n",
              "      <td>0.116243</td>\n",
              "      <td>0.256015</td>\n",
              "      <td>0.258989</td>\n",
              "      <td>0.167808</td>\n",
              "      <td>0.172970</td>\n",
              "      <td>0.215536</td>\n",
              "      <td>0.154868</td>\n",
              "      <td>0.172222</td>\n",
              "      <td>0.254555</td>\n",
              "      <td>0.200052</td>\n",
              "      <td>0.121890</td>\n",
              "      <td>0.226238</td>\n",
              "      <td>0.138336</td>\n",
              "      <td>0.254526</td>\n",
              "      <td>0.228053</td>\n",
              "    </tr>\n",
              "  </tbody>\n",
              "</table>\n",
              "</div>"
            ],
            "text/plain": [
              "   nback  signal_1_Alpha  ...  signal_8_Beta  signal_8_Gamma\n",
              "0      0        0.266018  ...       0.260282        0.566941\n",
              "1      0        0.191110  ...       0.365378        0.344554\n",
              "2      0        0.189766  ...       0.349100        0.225607\n",
              "3      0        0.154737  ...       0.229342        0.189899\n",
              "4      0        0.350462  ...       0.254526        0.228053\n",
              "\n",
              "[5 rows x 41 columns]"
            ]
          },
          "metadata": {
            "tags": []
          },
          "execution_count": 7
        }
      ]
    },
    {
      "cell_type": "code",
      "metadata": {
        "id": "O1BeAGV-52VM"
      },
      "source": [
        "## Train and Test X, y Split\n",
        "y_train = train_data['nback']\n",
        "X_train = train_data.iloc[:,1:]\n",
        "\n",
        "y_test = test_data['nback']\n",
        "X_test = test_data.iloc[:,1:]"
      ],
      "execution_count": null,
      "outputs": []
    },
    {
      "cell_type": "code",
      "metadata": {
        "colab": {
          "base_uri": "https://localhost:8080/"
        },
        "id": "wt_cmkjf6Lov",
        "outputId": "534b35f9-33ca-44cd-fda6-23f5e25b2dbc"
      },
      "source": [
        "X_train.head"
      ],
      "execution_count": null,
      "outputs": [
        {
          "output_type": "execute_result",
          "data": {
            "text/plain": [
              "<bound method NDFrame.head of       signal_1_Alpha  signal_1_Beta  ...  signal_8_Beta  signal_8_Gamma\n",
              "0           0.266018       0.294520  ...       0.260282        0.566941\n",
              "1           0.191110       0.271432  ...       0.365378        0.344554\n",
              "2           0.189766       0.306445  ...       0.349100        0.225607\n",
              "3           0.154737       0.222392  ...       0.229342        0.189899\n",
              "4           0.350462       0.324042  ...       0.254526        0.228053\n",
              "...              ...            ...  ...            ...             ...\n",
              "9143        0.258102       0.123018  ...       0.153211        0.109711\n",
              "9144        0.154443       0.061221  ...       0.061462        0.058884\n",
              "9145        0.113572       0.060341  ...       0.204715        0.047582\n",
              "9146        0.095712       0.050886  ...       0.136382        0.120461\n",
              "9147        0.104468       0.049446  ...       0.116899        0.028812\n",
              "\n",
              "[9148 rows x 40 columns]>"
            ]
          },
          "metadata": {
            "tags": []
          },
          "execution_count": 9
        }
      ]
    },
    {
      "cell_type": "code",
      "metadata": {
        "id": "A4EzR_uNwqeQ"
      },
      "source": [
        "## Encoded Labels\n",
        "label_encoder = LabelEncoder()\n",
        "label_encoder.fit(y_train)\n",
        "encoded_y_train = label_encoder.transform(y_train)\n",
        "dummy_y_train = np_utils.to_categorical(encoded_y_train)\n",
        "encoded_y_test = label_encoder.transform(y_test)\n",
        "dummy_y_test = np_utils.to_categorical(encoded_y_test)"
      ],
      "execution_count": null,
      "outputs": []
    },
    {
      "cell_type": "code",
      "metadata": {
        "colab": {
          "base_uri": "https://localhost:8080/"
        },
        "id": "jrUKdacsw-7Z",
        "outputId": "20b9df25-31f4-441c-9f3a-1b6064caa515"
      },
      "source": [
        "dummy_y_train"
      ],
      "execution_count": null,
      "outputs": [
        {
          "output_type": "execute_result",
          "data": {
            "text/plain": [
              "array([[1., 0., 0.],\n",
              "       [1., 0., 0.],\n",
              "       [1., 0., 0.],\n",
              "       ...,\n",
              "       [0., 0., 1.],\n",
              "       [0., 0., 1.],\n",
              "       [0., 0., 1.]], dtype=float32)"
            ]
          },
          "metadata": {
            "tags": []
          },
          "execution_count": 11
        }
      ]
    },
    {
      "cell_type": "code",
      "metadata": {
        "colab": {
          "base_uri": "https://localhost:8080/"
        },
        "id": "Zc_BEqV7xg8B",
        "outputId": "339fbb12-0085-443b-f5e9-ed1117d22141"
      },
      "source": [
        "encoded_y_train"
      ],
      "execution_count": null,
      "outputs": [
        {
          "output_type": "execute_result",
          "data": {
            "text/plain": [
              "array([0, 0, 0, ..., 2, 2, 2])"
            ]
          },
          "metadata": {
            "tags": []
          },
          "execution_count": 12
        }
      ]
    },
    {
      "cell_type": "markdown",
      "metadata": {
        "id": "VBKF_GNpDL0X"
      },
      "source": [
        "### **STEP 9: DL Modeling - DNN without Dropout**\n"
      ]
    },
    {
      "cell_type": "code",
      "metadata": {
        "id": "Ggfg3Kcexk0I",
        "colab": {
          "base_uri": "https://localhost:8080/"
        },
        "outputId": "f298dfb6-dcd7-4d41-ca4d-549e102a9619"
      },
      "source": [
        "## Baseline DNN model without Dropout\n",
        "def baseline_model():\n",
        "  model = Sequential()\n",
        "  model.add(Dense(64, input_dim=40, activation='relu'))\n",
        "  model.add(Dense(128,activation='relu'))\n",
        "  model.add(Dense(3, activation='softmax'))\n",
        "  # Compile model\n",
        "  model.compile(loss='categorical_crossentropy', optimizer='adam', metrics=['accuracy'])\n",
        "  model.summary()\n",
        "  return model\n",
        "\n",
        "baseline_model()"
      ],
      "execution_count": null,
      "outputs": [
        {
          "output_type": "stream",
          "text": [
            "Model: \"sequential\"\n",
            "_________________________________________________________________\n",
            "Layer (type)                 Output Shape              Param #   \n",
            "=================================================================\n",
            "dense (Dense)                (None, 64)                2624      \n",
            "_________________________________________________________________\n",
            "dense_1 (Dense)              (None, 128)               8320      \n",
            "_________________________________________________________________\n",
            "dense_2 (Dense)              (None, 3)                 387       \n",
            "=================================================================\n",
            "Total params: 11,331\n",
            "Trainable params: 11,331\n",
            "Non-trainable params: 0\n",
            "_________________________________________________________________\n"
          ],
          "name": "stdout"
        },
        {
          "output_type": "execute_result",
          "data": {
            "text/plain": [
              "<keras.engine.sequential.Sequential at 0x7f943269f850>"
            ]
          },
          "metadata": {
            "tags": []
          },
          "execution_count": 13
        }
      ]
    },
    {
      "cell_type": "code",
      "metadata": {
        "id": "fVjNzmcqx49y"
      },
      "source": [
        "estimator = KerasClassifier(build_fn=baseline_model, epochs=200, batch_size=50, verbose=0)\n",
        "kfold = KFold(n_splits=10, shuffle=True)"
      ],
      "execution_count": null,
      "outputs": []
    },
    {
      "cell_type": "code",
      "metadata": {
        "id": "UG_Jl-lXyJK7",
        "colab": {
          "base_uri": "https://localhost:8080/"
        },
        "outputId": "6034d37f-945f-4ca4-8b24-0f02031dbd0d"
      },
      "source": [
        "results = cross_val_score(estimator, X_train, dummy_y_train, cv=kfold)\n",
        "print(\"Baseline: %.2f%% (%.2f%%)\" % (results.mean()*100, results.std()*100))"
      ],
      "execution_count": null,
      "outputs": [
        {
          "output_type": "stream",
          "text": [
            "Model: \"sequential_1\"\n",
            "_________________________________________________________________\n",
            "Layer (type)                 Output Shape              Param #   \n",
            "=================================================================\n",
            "dense_3 (Dense)              (None, 64)                2624      \n",
            "_________________________________________________________________\n",
            "dense_4 (Dense)              (None, 128)               8320      \n",
            "_________________________________________________________________\n",
            "dense_5 (Dense)              (None, 3)                 387       \n",
            "=================================================================\n",
            "Total params: 11,331\n",
            "Trainable params: 11,331\n",
            "Non-trainable params: 0\n",
            "_________________________________________________________________\n",
            "Model: \"sequential_2\"\n",
            "_________________________________________________________________\n",
            "Layer (type)                 Output Shape              Param #   \n",
            "=================================================================\n",
            "dense_6 (Dense)              (None, 64)                2624      \n",
            "_________________________________________________________________\n",
            "dense_7 (Dense)              (None, 128)               8320      \n",
            "_________________________________________________________________\n",
            "dense_8 (Dense)              (None, 3)                 387       \n",
            "=================================================================\n",
            "Total params: 11,331\n",
            "Trainable params: 11,331\n",
            "Non-trainable params: 0\n",
            "_________________________________________________________________\n",
            "Model: \"sequential_3\"\n",
            "_________________________________________________________________\n",
            "Layer (type)                 Output Shape              Param #   \n",
            "=================================================================\n",
            "dense_9 (Dense)              (None, 64)                2624      \n",
            "_________________________________________________________________\n",
            "dense_10 (Dense)             (None, 128)               8320      \n",
            "_________________________________________________________________\n",
            "dense_11 (Dense)             (None, 3)                 387       \n",
            "=================================================================\n",
            "Total params: 11,331\n",
            "Trainable params: 11,331\n",
            "Non-trainable params: 0\n",
            "_________________________________________________________________\n",
            "Model: \"sequential_4\"\n",
            "_________________________________________________________________\n",
            "Layer (type)                 Output Shape              Param #   \n",
            "=================================================================\n",
            "dense_12 (Dense)             (None, 64)                2624      \n",
            "_________________________________________________________________\n",
            "dense_13 (Dense)             (None, 128)               8320      \n",
            "_________________________________________________________________\n",
            "dense_14 (Dense)             (None, 3)                 387       \n",
            "=================================================================\n",
            "Total params: 11,331\n",
            "Trainable params: 11,331\n",
            "Non-trainable params: 0\n",
            "_________________________________________________________________\n",
            "Model: \"sequential_5\"\n",
            "_________________________________________________________________\n",
            "Layer (type)                 Output Shape              Param #   \n",
            "=================================================================\n",
            "dense_15 (Dense)             (None, 64)                2624      \n",
            "_________________________________________________________________\n",
            "dense_16 (Dense)             (None, 128)               8320      \n",
            "_________________________________________________________________\n",
            "dense_17 (Dense)             (None, 3)                 387       \n",
            "=================================================================\n",
            "Total params: 11,331\n",
            "Trainable params: 11,331\n",
            "Non-trainable params: 0\n",
            "_________________________________________________________________\n",
            "Model: \"sequential_6\"\n",
            "_________________________________________________________________\n",
            "Layer (type)                 Output Shape              Param #   \n",
            "=================================================================\n",
            "dense_18 (Dense)             (None, 64)                2624      \n",
            "_________________________________________________________________\n",
            "dense_19 (Dense)             (None, 128)               8320      \n",
            "_________________________________________________________________\n",
            "dense_20 (Dense)             (None, 3)                 387       \n",
            "=================================================================\n",
            "Total params: 11,331\n",
            "Trainable params: 11,331\n",
            "Non-trainable params: 0\n",
            "_________________________________________________________________\n",
            "Model: \"sequential_7\"\n",
            "_________________________________________________________________\n",
            "Layer (type)                 Output Shape              Param #   \n",
            "=================================================================\n",
            "dense_21 (Dense)             (None, 64)                2624      \n",
            "_________________________________________________________________\n",
            "dense_22 (Dense)             (None, 128)               8320      \n",
            "_________________________________________________________________\n",
            "dense_23 (Dense)             (None, 3)                 387       \n",
            "=================================================================\n",
            "Total params: 11,331\n",
            "Trainable params: 11,331\n",
            "Non-trainable params: 0\n",
            "_________________________________________________________________\n",
            "Model: \"sequential_8\"\n",
            "_________________________________________________________________\n",
            "Layer (type)                 Output Shape              Param #   \n",
            "=================================================================\n",
            "dense_24 (Dense)             (None, 64)                2624      \n",
            "_________________________________________________________________\n",
            "dense_25 (Dense)             (None, 128)               8320      \n",
            "_________________________________________________________________\n",
            "dense_26 (Dense)             (None, 3)                 387       \n",
            "=================================================================\n",
            "Total params: 11,331\n",
            "Trainable params: 11,331\n",
            "Non-trainable params: 0\n",
            "_________________________________________________________________\n",
            "Model: \"sequential_9\"\n",
            "_________________________________________________________________\n",
            "Layer (type)                 Output Shape              Param #   \n",
            "=================================================================\n",
            "dense_27 (Dense)             (None, 64)                2624      \n",
            "_________________________________________________________________\n",
            "dense_28 (Dense)             (None, 128)               8320      \n",
            "_________________________________________________________________\n",
            "dense_29 (Dense)             (None, 3)                 387       \n",
            "=================================================================\n",
            "Total params: 11,331\n",
            "Trainable params: 11,331\n",
            "Non-trainable params: 0\n",
            "_________________________________________________________________\n",
            "Model: \"sequential_10\"\n",
            "_________________________________________________________________\n",
            "Layer (type)                 Output Shape              Param #   \n",
            "=================================================================\n",
            "dense_30 (Dense)             (None, 64)                2624      \n",
            "_________________________________________________________________\n",
            "dense_31 (Dense)             (None, 128)               8320      \n",
            "_________________________________________________________________\n",
            "dense_32 (Dense)             (None, 3)                 387       \n",
            "=================================================================\n",
            "Total params: 11,331\n",
            "Trainable params: 11,331\n",
            "Non-trainable params: 0\n",
            "_________________________________________________________________\n",
            "Baseline: 92.16% (0.77%)\n"
          ],
          "name": "stdout"
        }
      ]
    },
    {
      "cell_type": "code",
      "metadata": {
        "id": "cJGK0Yj-yI9v"
      },
      "source": [
        "all_model = KerasClassifier(build_fn=baseline_model, epochs=110, batch_size=50)"
      ],
      "execution_count": null,
      "outputs": []
    },
    {
      "cell_type": "code",
      "metadata": {
        "colab": {
          "base_uri": "https://localhost:8080/"
        },
        "id": "yiwZmpfY5n6X",
        "outputId": "7372ebca-99ec-4115-9b00-5922feab5e06"
      },
      "source": [
        "hist = all_model.fit(X_train, dummy_y_train, validation_data=(X_test, dummy_y_test)) "
      ],
      "execution_count": null,
      "outputs": [
        {
          "output_type": "stream",
          "text": [
            "Model: \"sequential_11\"\n",
            "_________________________________________________________________\n",
            "Layer (type)                 Output Shape              Param #   \n",
            "=================================================================\n",
            "dense_33 (Dense)             (None, 64)                2624      \n",
            "_________________________________________________________________\n",
            "dense_34 (Dense)             (None, 128)               8320      \n",
            "_________________________________________________________________\n",
            "dense_35 (Dense)             (None, 3)                 387       \n",
            "=================================================================\n",
            "Total params: 11,331\n",
            "Trainable params: 11,331\n",
            "Non-trainable params: 0\n",
            "_________________________________________________________________\n",
            "Epoch 1/110\n",
            "183/183 [==============================] - 2s 5ms/step - loss: 1.0697 - accuracy: 0.4431 - val_loss: 1.2697 - val_accuracy: 0.2793\n",
            "Epoch 2/110\n",
            "183/183 [==============================] - 1s 3ms/step - loss: 0.9059 - accuracy: 0.6002 - val_loss: 1.4888 - val_accuracy: 0.2946\n",
            "Epoch 3/110\n",
            "183/183 [==============================] - 0s 3ms/step - loss: 0.7594 - accuracy: 0.6900 - val_loss: 1.6109 - val_accuracy: 0.2890\n",
            "Epoch 4/110\n",
            "183/183 [==============================] - 1s 3ms/step - loss: 0.6602 - accuracy: 0.7363 - val_loss: 1.8076 - val_accuracy: 0.3080\n",
            "Epoch 5/110\n",
            "183/183 [==============================] - 0s 3ms/step - loss: 0.5798 - accuracy: 0.7716 - val_loss: 2.0914 - val_accuracy: 0.2844\n",
            "Epoch 6/110\n",
            "183/183 [==============================] - 0s 3ms/step - loss: 0.5198 - accuracy: 0.8021 - val_loss: 2.0969 - val_accuracy: 0.2835\n",
            "Epoch 7/110\n",
            "183/183 [==============================] - 1s 3ms/step - loss: 0.4730 - accuracy: 0.8213 - val_loss: 2.0646 - val_accuracy: 0.3123\n",
            "Epoch 8/110\n",
            "183/183 [==============================] - 0s 3ms/step - loss: 0.4345 - accuracy: 0.8398 - val_loss: 2.2327 - val_accuracy: 0.3187\n",
            "Epoch 9/110\n",
            "183/183 [==============================] - 1s 3ms/step - loss: 0.4138 - accuracy: 0.8446 - val_loss: 2.2546 - val_accuracy: 0.3132\n",
            "Epoch 10/110\n",
            "183/183 [==============================] - 0s 2ms/step - loss: 0.3774 - accuracy: 0.8620 - val_loss: 2.3084 - val_accuracy: 0.3266\n",
            "Epoch 11/110\n",
            "183/183 [==============================] - 0s 3ms/step - loss: 0.3667 - accuracy: 0.8668 - val_loss: 2.4482 - val_accuracy: 0.3128\n",
            "Epoch 12/110\n",
            "183/183 [==============================] - 1s 3ms/step - loss: 0.3376 - accuracy: 0.8785 - val_loss: 2.3293 - val_accuracy: 0.3346\n",
            "Epoch 13/110\n",
            "183/183 [==============================] - 0s 3ms/step - loss: 0.3356 - accuracy: 0.8799 - val_loss: 2.7484 - val_accuracy: 0.3410\n",
            "Epoch 14/110\n",
            "183/183 [==============================] - 0s 3ms/step - loss: 0.3111 - accuracy: 0.8843 - val_loss: 2.4735 - val_accuracy: 0.3322\n",
            "Epoch 15/110\n",
            "183/183 [==============================] - 0s 2ms/step - loss: 0.2959 - accuracy: 0.8962 - val_loss: 2.4836 - val_accuracy: 0.3419\n",
            "Epoch 16/110\n",
            "183/183 [==============================] - 0s 3ms/step - loss: 0.2808 - accuracy: 0.8961 - val_loss: 2.4403 - val_accuracy: 0.3296\n",
            "Epoch 17/110\n",
            "183/183 [==============================] - 0s 3ms/step - loss: 0.2684 - accuracy: 0.9037 - val_loss: 2.5100 - val_accuracy: 0.3161\n",
            "Epoch 18/110\n",
            "183/183 [==============================] - 1s 3ms/step - loss: 0.2648 - accuracy: 0.9069 - val_loss: 2.5144 - val_accuracy: 0.3290\n",
            "Epoch 19/110\n",
            "183/183 [==============================] - 1s 3ms/step - loss: 0.2482 - accuracy: 0.9104 - val_loss: 2.7748 - val_accuracy: 0.3110\n",
            "Epoch 20/110\n",
            "183/183 [==============================] - 0s 2ms/step - loss: 0.2441 - accuracy: 0.9118 - val_loss: 2.5776 - val_accuracy: 0.3440\n",
            "Epoch 21/110\n",
            "183/183 [==============================] - 0s 2ms/step - loss: 0.2367 - accuracy: 0.9150 - val_loss: 2.5938 - val_accuracy: 0.3430\n",
            "Epoch 22/110\n",
            "183/183 [==============================] - 0s 3ms/step - loss: 0.2279 - accuracy: 0.9153 - val_loss: 2.8966 - val_accuracy: 0.3163\n",
            "Epoch 23/110\n",
            "183/183 [==============================] - 0s 3ms/step - loss: 0.2245 - accuracy: 0.9202 - val_loss: 2.5259 - val_accuracy: 0.3257\n",
            "Epoch 24/110\n",
            "183/183 [==============================] - 1s 3ms/step - loss: 0.2202 - accuracy: 0.9188 - val_loss: 2.8995 - val_accuracy: 0.3388\n",
            "Epoch 25/110\n",
            "183/183 [==============================] - 0s 2ms/step - loss: 0.2210 - accuracy: 0.9191 - val_loss: 2.9923 - val_accuracy: 0.3277\n",
            "Epoch 26/110\n",
            "183/183 [==============================] - 0s 2ms/step - loss: 0.2056 - accuracy: 0.9232 - val_loss: 2.9204 - val_accuracy: 0.3156\n",
            "Epoch 27/110\n",
            "183/183 [==============================] - 0s 3ms/step - loss: 0.1907 - accuracy: 0.9316 - val_loss: 2.8079 - val_accuracy: 0.3263\n",
            "Epoch 28/110\n",
            "183/183 [==============================] - 1s 3ms/step - loss: 0.1882 - accuracy: 0.9349 - val_loss: 2.9275 - val_accuracy: 0.3196\n",
            "Epoch 29/110\n",
            "183/183 [==============================] - 0s 3ms/step - loss: 0.1882 - accuracy: 0.9288 - val_loss: 2.9198 - val_accuracy: 0.3307\n",
            "Epoch 30/110\n",
            "183/183 [==============================] - 0s 2ms/step - loss: 0.1859 - accuracy: 0.9287 - val_loss: 2.8173 - val_accuracy: 0.3209\n",
            "Epoch 31/110\n",
            "183/183 [==============================] - 0s 3ms/step - loss: 0.1835 - accuracy: 0.9291 - val_loss: 2.8887 - val_accuracy: 0.3274\n",
            "Epoch 32/110\n",
            "183/183 [==============================] - 0s 2ms/step - loss: 0.1736 - accuracy: 0.9379 - val_loss: 2.9974 - val_accuracy: 0.3078\n",
            "Epoch 33/110\n",
            "183/183 [==============================] - 0s 3ms/step - loss: 0.1628 - accuracy: 0.9432 - val_loss: 2.9996 - val_accuracy: 0.3440\n",
            "Epoch 34/110\n",
            "183/183 [==============================] - 0s 3ms/step - loss: 0.1629 - accuracy: 0.9426 - val_loss: 2.8532 - val_accuracy: 0.3161\n",
            "Epoch 35/110\n",
            "183/183 [==============================] - 1s 3ms/step - loss: 0.1743 - accuracy: 0.9392 - val_loss: 3.2256 - val_accuracy: 0.3073\n",
            "Epoch 36/110\n",
            "183/183 [==============================] - 0s 3ms/step - loss: 0.1586 - accuracy: 0.9448 - val_loss: 3.1401 - val_accuracy: 0.3134\n",
            "Epoch 37/110\n",
            "183/183 [==============================] - 1s 3ms/step - loss: 0.1660 - accuracy: 0.9416 - val_loss: 3.0497 - val_accuracy: 0.3399\n",
            "Epoch 38/110\n",
            "183/183 [==============================] - 1s 3ms/step - loss: 0.1532 - accuracy: 0.9442 - val_loss: 3.1183 - val_accuracy: 0.3257\n",
            "Epoch 39/110\n",
            "183/183 [==============================] - 0s 3ms/step - loss: 0.1443 - accuracy: 0.9479 - val_loss: 3.1908 - val_accuracy: 0.3298\n",
            "Epoch 40/110\n",
            "183/183 [==============================] - 0s 3ms/step - loss: 0.1498 - accuracy: 0.9476 - val_loss: 3.2730 - val_accuracy: 0.3237\n",
            "Epoch 41/110\n",
            "183/183 [==============================] - 0s 3ms/step - loss: 0.1334 - accuracy: 0.9530 - val_loss: 3.4329 - val_accuracy: 0.3305\n",
            "Epoch 42/110\n",
            "183/183 [==============================] - 0s 2ms/step - loss: 0.1437 - accuracy: 0.9484 - val_loss: 3.3032 - val_accuracy: 0.3187\n",
            "Epoch 43/110\n",
            "183/183 [==============================] - 1s 3ms/step - loss: 0.1274 - accuracy: 0.9552 - val_loss: 3.0902 - val_accuracy: 0.3320\n",
            "Epoch 44/110\n",
            "183/183 [==============================] - 1s 3ms/step - loss: 0.1332 - accuracy: 0.9538 - val_loss: 3.2722 - val_accuracy: 0.3342\n",
            "Epoch 45/110\n",
            "183/183 [==============================] - 0s 2ms/step - loss: 0.1261 - accuracy: 0.9558 - val_loss: 3.3618 - val_accuracy: 0.3211\n",
            "Epoch 46/110\n",
            "183/183 [==============================] - 0s 3ms/step - loss: 0.1226 - accuracy: 0.9598 - val_loss: 3.3434 - val_accuracy: 0.3185\n",
            "Epoch 47/110\n",
            "183/183 [==============================] - 1s 3ms/step - loss: 0.1306 - accuracy: 0.9540 - val_loss: 3.2784 - val_accuracy: 0.3432\n",
            "Epoch 48/110\n",
            "183/183 [==============================] - 1s 3ms/step - loss: 0.1156 - accuracy: 0.9616 - val_loss: 3.4656 - val_accuracy: 0.3261\n",
            "Epoch 49/110\n",
            "183/183 [==============================] - 1s 3ms/step - loss: 0.1109 - accuracy: 0.9592 - val_loss: 3.2849 - val_accuracy: 0.3314\n",
            "Epoch 50/110\n",
            "183/183 [==============================] - 0s 2ms/step - loss: 0.1201 - accuracy: 0.9583 - val_loss: 3.3077 - val_accuracy: 0.3349\n",
            "Epoch 51/110\n",
            "183/183 [==============================] - 0s 3ms/step - loss: 0.1099 - accuracy: 0.9628 - val_loss: 3.3010 - val_accuracy: 0.3305\n",
            "Epoch 52/110\n",
            "183/183 [==============================] - 0s 3ms/step - loss: 0.1072 - accuracy: 0.9631 - val_loss: 3.5312 - val_accuracy: 0.3270\n",
            "Epoch 53/110\n",
            "183/183 [==============================] - 0s 2ms/step - loss: 0.1006 - accuracy: 0.9638 - val_loss: 3.3968 - val_accuracy: 0.3078\n",
            "Epoch 54/110\n",
            "183/183 [==============================] - 0s 2ms/step - loss: 0.1016 - accuracy: 0.9698 - val_loss: 3.3978 - val_accuracy: 0.3399\n",
            "Epoch 55/110\n",
            "183/183 [==============================] - 1s 3ms/step - loss: 0.1083 - accuracy: 0.9630 - val_loss: 3.5570 - val_accuracy: 0.3174\n",
            "Epoch 56/110\n",
            "183/183 [==============================] - 1s 3ms/step - loss: 0.1011 - accuracy: 0.9652 - val_loss: 3.5095 - val_accuracy: 0.3279\n",
            "Epoch 57/110\n",
            "183/183 [==============================] - 0s 3ms/step - loss: 0.0948 - accuracy: 0.9686 - val_loss: 3.4554 - val_accuracy: 0.3268\n",
            "Epoch 58/110\n",
            "183/183 [==============================] - 0s 3ms/step - loss: 0.0908 - accuracy: 0.9733 - val_loss: 3.7889 - val_accuracy: 0.3239\n",
            "Epoch 59/110\n",
            "183/183 [==============================] - 1s 3ms/step - loss: 0.0919 - accuracy: 0.9696 - val_loss: 3.6431 - val_accuracy: 0.3226\n",
            "Epoch 60/110\n",
            "183/183 [==============================] - 0s 2ms/step - loss: 0.0924 - accuracy: 0.9685 - val_loss: 3.8278 - val_accuracy: 0.3134\n",
            "Epoch 61/110\n",
            "183/183 [==============================] - 1s 3ms/step - loss: 0.0923 - accuracy: 0.9722 - val_loss: 3.8272 - val_accuracy: 0.3231\n",
            "Epoch 62/110\n",
            "183/183 [==============================] - 0s 3ms/step - loss: 0.0922 - accuracy: 0.9686 - val_loss: 3.8502 - val_accuracy: 0.3333\n",
            "Epoch 63/110\n",
            "183/183 [==============================] - 1s 3ms/step - loss: 0.0924 - accuracy: 0.9712 - val_loss: 3.7052 - val_accuracy: 0.3263\n",
            "Epoch 64/110\n",
            "183/183 [==============================] - 0s 3ms/step - loss: 0.0856 - accuracy: 0.9697 - val_loss: 3.9164 - val_accuracy: 0.3331\n",
            "Epoch 65/110\n",
            "183/183 [==============================] - 1s 3ms/step - loss: 0.0817 - accuracy: 0.9723 - val_loss: 3.8416 - val_accuracy: 0.3117\n",
            "Epoch 66/110\n",
            "183/183 [==============================] - 1s 3ms/step - loss: 0.0750 - accuracy: 0.9781 - val_loss: 3.8200 - val_accuracy: 0.3248\n",
            "Epoch 67/110\n",
            "183/183 [==============================] - 0s 3ms/step - loss: 0.0734 - accuracy: 0.9759 - val_loss: 3.9576 - val_accuracy: 0.3148\n",
            "Epoch 68/110\n",
            "183/183 [==============================] - 0s 2ms/step - loss: 0.0809 - accuracy: 0.9728 - val_loss: 3.9688 - val_accuracy: 0.3069\n",
            "Epoch 69/110\n",
            "183/183 [==============================] - 1s 3ms/step - loss: 0.0742 - accuracy: 0.9769 - val_loss: 4.1624 - val_accuracy: 0.3379\n",
            "Epoch 70/110\n",
            "183/183 [==============================] - 0s 3ms/step - loss: 0.0733 - accuracy: 0.9751 - val_loss: 4.1332 - val_accuracy: 0.3080\n",
            "Epoch 71/110\n",
            "183/183 [==============================] - 1s 3ms/step - loss: 0.0840 - accuracy: 0.9717 - val_loss: 3.9562 - val_accuracy: 0.3213\n",
            "Epoch 72/110\n",
            "183/183 [==============================] - 0s 2ms/step - loss: 0.0631 - accuracy: 0.9808 - val_loss: 4.0992 - val_accuracy: 0.3108\n",
            "Epoch 73/110\n",
            "183/183 [==============================] - 0s 3ms/step - loss: 0.0715 - accuracy: 0.9786 - val_loss: 4.1452 - val_accuracy: 0.3257\n",
            "Epoch 74/110\n",
            "183/183 [==============================] - 1s 3ms/step - loss: 0.0723 - accuracy: 0.9764 - val_loss: 4.0984 - val_accuracy: 0.3071\n",
            "Epoch 75/110\n",
            "183/183 [==============================] - 1s 3ms/step - loss: 0.0589 - accuracy: 0.9824 - val_loss: 4.3089 - val_accuracy: 0.3174\n",
            "Epoch 76/110\n",
            "183/183 [==============================] - 1s 3ms/step - loss: 0.0591 - accuracy: 0.9810 - val_loss: 4.2957 - val_accuracy: 0.3268\n",
            "Epoch 77/110\n",
            "183/183 [==============================] - 0s 3ms/step - loss: 0.0567 - accuracy: 0.9823 - val_loss: 4.2034 - val_accuracy: 0.3167\n",
            "Epoch 78/110\n",
            "183/183 [==============================] - 1s 3ms/step - loss: 0.0585 - accuracy: 0.9814 - val_loss: 4.4200 - val_accuracy: 0.3287\n",
            "Epoch 79/110\n",
            "183/183 [==============================] - 0s 3ms/step - loss: 0.0559 - accuracy: 0.9848 - val_loss: 4.1042 - val_accuracy: 0.3113\n",
            "Epoch 80/110\n",
            "183/183 [==============================] - 1s 3ms/step - loss: 0.0652 - accuracy: 0.9788 - val_loss: 4.4894 - val_accuracy: 0.3198\n",
            "Epoch 81/110\n",
            "183/183 [==============================] - 1s 3ms/step - loss: 0.0656 - accuracy: 0.9787 - val_loss: 4.3368 - val_accuracy: 0.3137\n",
            "Epoch 82/110\n",
            "183/183 [==============================] - 0s 3ms/step - loss: 0.0491 - accuracy: 0.9865 - val_loss: 4.2065 - val_accuracy: 0.3242\n",
            "Epoch 83/110\n",
            "183/183 [==============================] - 0s 3ms/step - loss: 0.0615 - accuracy: 0.9804 - val_loss: 4.6256 - val_accuracy: 0.3172\n",
            "Epoch 84/110\n",
            "183/183 [==============================] - 0s 3ms/step - loss: 0.0508 - accuracy: 0.9845 - val_loss: 4.5175 - val_accuracy: 0.3279\n",
            "Epoch 85/110\n",
            "183/183 [==============================] - 1s 3ms/step - loss: 0.0492 - accuracy: 0.9851 - val_loss: 4.3417 - val_accuracy: 0.3152\n",
            "Epoch 86/110\n",
            "183/183 [==============================] - 1s 3ms/step - loss: 0.0549 - accuracy: 0.9826 - val_loss: 4.3950 - val_accuracy: 0.3126\n",
            "Epoch 87/110\n",
            "183/183 [==============================] - 1s 3ms/step - loss: 0.0619 - accuracy: 0.9778 - val_loss: 4.4423 - val_accuracy: 0.3167\n",
            "Epoch 88/110\n",
            "183/183 [==============================] - 0s 3ms/step - loss: 0.0437 - accuracy: 0.9873 - val_loss: 4.5594 - val_accuracy: 0.3279\n",
            "Epoch 89/110\n",
            "183/183 [==============================] - 1s 3ms/step - loss: 0.0491 - accuracy: 0.9858 - val_loss: 4.4758 - val_accuracy: 0.3217\n",
            "Epoch 90/110\n",
            "183/183 [==============================] - 0s 2ms/step - loss: 0.0418 - accuracy: 0.9893 - val_loss: 4.8835 - val_accuracy: 0.3314\n",
            "Epoch 91/110\n",
            "183/183 [==============================] - 1s 3ms/step - loss: 0.0501 - accuracy: 0.9844 - val_loss: 4.6861 - val_accuracy: 0.3268\n",
            "Epoch 92/110\n",
            "183/183 [==============================] - 0s 3ms/step - loss: 0.0436 - accuracy: 0.9877 - val_loss: 4.5414 - val_accuracy: 0.3209\n",
            "Epoch 93/110\n",
            "183/183 [==============================] - 1s 3ms/step - loss: 0.0468 - accuracy: 0.9873 - val_loss: 4.8212 - val_accuracy: 0.3224\n",
            "Epoch 94/110\n",
            "183/183 [==============================] - 1s 3ms/step - loss: 0.0579 - accuracy: 0.9799 - val_loss: 4.5959 - val_accuracy: 0.3340\n",
            "Epoch 95/110\n",
            "183/183 [==============================] - 1s 3ms/step - loss: 0.0498 - accuracy: 0.9832 - val_loss: 5.0357 - val_accuracy: 0.3202\n",
            "Epoch 96/110\n",
            "183/183 [==============================] - 1s 3ms/step - loss: 0.0388 - accuracy: 0.9893 - val_loss: 5.0793 - val_accuracy: 0.3239\n",
            "Epoch 97/110\n",
            "183/183 [==============================] - 1s 3ms/step - loss: 0.0363 - accuracy: 0.9912 - val_loss: 5.0269 - val_accuracy: 0.3235\n",
            "Epoch 98/110\n",
            "183/183 [==============================] - 1s 3ms/step - loss: 0.0390 - accuracy: 0.9889 - val_loss: 5.1445 - val_accuracy: 0.3303\n",
            "Epoch 99/110\n",
            "183/183 [==============================] - 1s 3ms/step - loss: 0.0377 - accuracy: 0.9898 - val_loss: 4.8785 - val_accuracy: 0.3215\n",
            "Epoch 100/110\n",
            "183/183 [==============================] - 1s 3ms/step - loss: 0.0372 - accuracy: 0.9876 - val_loss: 5.4752 - val_accuracy: 0.3139\n",
            "Epoch 101/110\n",
            "183/183 [==============================] - 0s 3ms/step - loss: 0.0521 - accuracy: 0.9811 - val_loss: 5.0780 - val_accuracy: 0.3152\n",
            "Epoch 102/110\n",
            "183/183 [==============================] - 0s 3ms/step - loss: 0.0358 - accuracy: 0.9895 - val_loss: 5.1196 - val_accuracy: 0.3198\n",
            "Epoch 103/110\n",
            "183/183 [==============================] - 1s 3ms/step - loss: 0.0307 - accuracy: 0.9921 - val_loss: 5.0982 - val_accuracy: 0.3174\n",
            "Epoch 104/110\n",
            "183/183 [==============================] - 1s 3ms/step - loss: 0.0317 - accuracy: 0.9924 - val_loss: 4.9149 - val_accuracy: 0.3134\n",
            "Epoch 105/110\n",
            "183/183 [==============================] - 0s 3ms/step - loss: 0.0350 - accuracy: 0.9899 - val_loss: 5.3561 - val_accuracy: 0.3325\n",
            "Epoch 106/110\n",
            "183/183 [==============================] - 0s 3ms/step - loss: 0.0433 - accuracy: 0.9873 - val_loss: 5.2676 - val_accuracy: 0.3263\n",
            "Epoch 107/110\n",
            "183/183 [==============================] - 1s 3ms/step - loss: 0.0326 - accuracy: 0.9916 - val_loss: 5.3522 - val_accuracy: 0.3248\n",
            "Epoch 108/110\n",
            "183/183 [==============================] - 0s 3ms/step - loss: 0.0307 - accuracy: 0.9912 - val_loss: 5.4496 - val_accuracy: 0.3261\n",
            "Epoch 109/110\n",
            "183/183 [==============================] - 0s 3ms/step - loss: 0.0320 - accuracy: 0.9905 - val_loss: 5.4151 - val_accuracy: 0.3272\n",
            "Epoch 110/110\n",
            "183/183 [==============================] - 1s 3ms/step - loss: 0.0245 - accuracy: 0.9955 - val_loss: 5.3843 - val_accuracy: 0.3351\n"
          ],
          "name": "stdout"
        }
      ]
    },
    {
      "cell_type": "code",
      "metadata": {
        "colab": {
          "base_uri": "https://localhost:8080/"
        },
        "id": "s8lPwrP-5vw-",
        "outputId": "08257f74-3a86-41c5-e589-10a2292bd827"
      },
      "source": [
        "predictions = all_model.predict(X_test)"
      ],
      "execution_count": null,
      "outputs": [
        {
          "output_type": "stream",
          "text": [
            "/usr/local/lib/python3.7/dist-packages/keras/engine/sequential.py:450: UserWarning: `model.predict_classes()` is deprecated and will be removed after 2021-01-01. Please use instead:* `np.argmax(model.predict(x), axis=-1)`,   if your model does multi-class classification   (e.g. if it uses a `softmax` last-layer activation).* `(model.predict(x) > 0.5).astype(\"int32\")`,   if your model does binary classification   (e.g. if it uses a `sigmoid` last-layer activation).\n",
            "  warnings.warn('`model.predict_classes()` is deprecated and '\n"
          ],
          "name": "stderr"
        }
      ]
    },
    {
      "cell_type": "code",
      "metadata": {
        "colab": {
          "base_uri": "https://localhost:8080/"
        },
        "id": "g1dX1Pvu6Ryt",
        "outputId": "7dc77095-29cc-4ae3-f517-7f2368ad9f47"
      },
      "source": [
        "predictions"
      ],
      "execution_count": null,
      "outputs": [
        {
          "output_type": "execute_result",
          "data": {
            "text/plain": [
              "array([1, 2, 2, ..., 2, 0, 0])"
            ]
          },
          "metadata": {
            "tags": []
          },
          "execution_count": 19
        }
      ]
    },
    {
      "cell_type": "code",
      "metadata": {
        "colab": {
          "base_uri": "https://localhost:8080/"
        },
        "id": "ZhHRmkhR6VtS",
        "outputId": "f175e393-3bb4-4d57-8d27-7344a6db04c1"
      },
      "source": [
        "sum(y_test == predictions)"
      ],
      "execution_count": null,
      "outputs": [
        {
          "output_type": "execute_result",
          "data": {
            "text/plain": [
              "1533"
            ]
          },
          "metadata": {
            "tags": []
          },
          "execution_count": 20
        }
      ]
    },
    {
      "cell_type": "code",
      "metadata": {
        "colab": {
          "base_uri": "https://localhost:8080/"
        },
        "id": "zTZqwkQ56eK-",
        "outputId": "c236fe9b-2b95-4b9c-cec4-8d43037cf3b4"
      },
      "source": [
        "(sum(y_test == predictions)/len(y_test))*100"
      ],
      "execution_count": null,
      "outputs": [
        {
          "output_type": "execute_result",
          "data": {
            "text/plain": [
              "33.50819672131147"
            ]
          },
          "metadata": {
            "tags": []
          },
          "execution_count": 21
        }
      ]
    },
    {
      "cell_type": "code",
      "metadata": {
        "colab": {
          "base_uri": "https://localhost:8080/"
        },
        "id": "tmGV-JbyNtLO",
        "outputId": "7a1b633f-f3cb-47a8-f4ca-e1a7db47dfdb"
      },
      "source": [
        "print(classification_report(y_test, predictions))"
      ],
      "execution_count": null,
      "outputs": [
        {
          "output_type": "stream",
          "text": [
            "              precision    recall  f1-score   support\n",
            "\n",
            "           0       0.36      0.28      0.31      1525\n",
            "           1       0.32      0.54      0.40      1525\n",
            "           2       0.33      0.19      0.24      1525\n",
            "\n",
            "    accuracy                           0.34      4575\n",
            "   macro avg       0.34      0.34      0.32      4575\n",
            "weighted avg       0.34      0.34      0.32      4575\n",
            "\n"
          ],
          "name": "stdout"
        }
      ]
    },
    {
      "cell_type": "code",
      "metadata": {
        "colab": {
          "base_uri": "https://localhost:8080/",
          "height": 572
        },
        "id": "0aiR7-p9k2g4",
        "outputId": "50af0b76-d4d2-4af3-84af-c412781278a5"
      },
      "source": [
        "# Making plots\n",
        "plt.plot(hist.history['loss'], label='train')\n",
        "plt.plot(hist.history['val_loss'], label='val')\n",
        "plt.title('Baseline without Dropout: Loss and Validation Loss')\n",
        "plt.ylabel('Loss')\n",
        "plt.xlabel('Epochs')\n",
        "plt.legend();\n",
        "plt.show()\n",
        "\n",
        "plt.plot(hist.history['accuracy'], label='train')\n",
        "plt.plot(hist.history['val_accuracy'], label='val')\n",
        "plt.title('Baseline without Dropout: Accuracy and Validation Accuracy')\n",
        "plt.ylabel('Accuracy')\n",
        "plt.xlabel('Epochs')\n",
        "plt.legend();\n",
        "plt.show()"
      ],
      "execution_count": null,
      "outputs": [
        {
          "output_type": "display_data",
          "data": {
            "image/png": "[encoded data removed]",
            "text/plain": [
              "<Figure size 432x288 with 1 Axes>"
            ]
          },
          "metadata": {
            "tags": [],
            "needs_background": "light"
          }
        },
        {
          "output_type": "display_data",
          "data": {
            "image/png": "[encoded data removed]",
            "text/plain": [
              "<Figure size 432x288 with 1 Axes>"
            ]
          },
          "metadata": {
            "tags": [],
            "needs_background": "light"
          }
        }
      ]
    },
    {
      "cell_type": "markdown",
      "metadata": {
        "id": "Zn96LwbiDSDa"
      },
      "source": [
        "### **STEP 10: DL Modeling - DNN with Dropout**\n"
      ]
    },
    {
      "cell_type": "code",
      "metadata": {
        "id": "DYWdCzqC6-tg",
        "colab": {
          "base_uri": "https://localhost:8080/"
        },
        "outputId": "8c43ae72-0353-44bb-fb23-3d874faeaed6"
      },
      "source": [
        "## Multilayer Dropout model (DNN with Dropout)\n",
        "def multilayer_dropout_model():\n",
        "  # create model\n",
        "  model = Sequential()\n",
        "  model.add(Dense(64, input_dim=40, activation='relu'))\n",
        "  model.add(Dropout(0.05))\n",
        "  model.add(Dense(128,activation='relu'))\n",
        "  model.add(Dropout(0.05))\n",
        "  model.add(Dense(3, activation='softmax'))\n",
        "  # Compile model\n",
        "  model.compile(loss='categorical_crossentropy', optimizer='adam', metrics=['accuracy'])\n",
        "  model.summary()\n",
        "  return model\n",
        "\n",
        "multilayer_dropout_model()"
      ],
      "execution_count": null,
      "outputs": [
        {
          "output_type": "stream",
          "text": [
            "Model: \"sequential_12\"\n",
            "_________________________________________________________________\n",
            "Layer (type)                 Output Shape              Param #   \n",
            "=================================================================\n",
            "dense_36 (Dense)             (None, 64)                2624      \n",
            "_________________________________________________________________\n",
            "dropout (Dropout)            (None, 64)                0         \n",
            "_________________________________________________________________\n",
            "dense_37 (Dense)             (None, 128)               8320      \n",
            "_________________________________________________________________\n",
            "dropout_1 (Dropout)          (None, 128)               0         \n",
            "_________________________________________________________________\n",
            "dense_38 (Dense)             (None, 3)                 387       \n",
            "=================================================================\n",
            "Total params: 11,331\n",
            "Trainable params: 11,331\n",
            "Non-trainable params: 0\n",
            "_________________________________________________________________\n"
          ],
          "name": "stdout"
        },
        {
          "output_type": "execute_result",
          "data": {
            "text/plain": [
              "<keras.engine.sequential.Sequential at 0x7f942e1bd5d0>"
            ]
          },
          "metadata": {
            "tags": []
          },
          "execution_count": 24
        }
      ]
    },
    {
      "cell_type": "code",
      "metadata": {
        "id": "kWmz091v8hFc"
      },
      "source": [
        "dropout_model = KerasClassifier(build_fn=multilayer_dropout_model, epochs=110, batch_size=50)"
      ],
      "execution_count": null,
      "outputs": []
    },
    {
      "cell_type": "code",
      "metadata": {
        "colab": {
          "base_uri": "https://localhost:8080/"
        },
        "id": "lAGGqYGJ8o9m",
        "outputId": "6f32f52c-e4f8-4bf8-db7e-a7e6adf2cc6d"
      },
      "source": [
        "hist = dropout_model.fit(X_train, dummy_y_train, validation_data=(X_test, dummy_y_test))"
      ],
      "execution_count": null,
      "outputs": [
        {
          "output_type": "stream",
          "text": [
            "Model: \"sequential_13\"\n",
            "_________________________________________________________________\n",
            "Layer (type)                 Output Shape              Param #   \n",
            "=================================================================\n",
            "dense_39 (Dense)             (None, 64)                2624      \n",
            "_________________________________________________________________\n",
            "dropout_2 (Dropout)          (None, 64)                0         \n",
            "_________________________________________________________________\n",
            "dense_40 (Dense)             (None, 128)               8320      \n",
            "_________________________________________________________________\n",
            "dropout_3 (Dropout)          (None, 128)               0         \n",
            "_________________________________________________________________\n",
            "dense_41 (Dense)             (None, 3)                 387       \n",
            "=================================================================\n",
            "Total params: 11,331\n",
            "Trainable params: 11,331\n",
            "Non-trainable params: 0\n",
            "_________________________________________________________________\n",
            "Epoch 1/110\n",
            "183/183 [==============================] - 2s 5ms/step - loss: 1.0722 - accuracy: 0.4234 - val_loss: 1.3010 - val_accuracy: 0.2590\n",
            "Epoch 2/110\n",
            "183/183 [==============================] - 0s 3ms/step - loss: 0.8919 - accuracy: 0.6219 - val_loss: 1.5139 - val_accuracy: 0.2964\n",
            "Epoch 3/110\n",
            "183/183 [==============================] - 1s 3ms/step - loss: 0.7718 - accuracy: 0.6799 - val_loss: 1.7704 - val_accuracy: 0.2549\n",
            "Epoch 4/110\n",
            "183/183 [==============================] - 1s 3ms/step - loss: 0.6690 - accuracy: 0.7280 - val_loss: 1.8788 - val_accuracy: 0.2842\n",
            "Epoch 5/110\n",
            "183/183 [==============================] - 1s 3ms/step - loss: 0.6089 - accuracy: 0.7540 - val_loss: 1.9436 - val_accuracy: 0.2879\n",
            "Epoch 6/110\n",
            "183/183 [==============================] - 1s 3ms/step - loss: 0.5485 - accuracy: 0.7794 - val_loss: 1.9992 - val_accuracy: 0.2817\n",
            "Epoch 7/110\n",
            "183/183 [==============================] - 1s 3ms/step - loss: 0.5033 - accuracy: 0.8043 - val_loss: 2.1688 - val_accuracy: 0.3010\n",
            "Epoch 8/110\n",
            "183/183 [==============================] - 1s 3ms/step - loss: 0.4700 - accuracy: 0.8215 - val_loss: 2.3768 - val_accuracy: 0.2776\n",
            "Epoch 9/110\n",
            "183/183 [==============================] - 1s 3ms/step - loss: 0.4544 - accuracy: 0.8259 - val_loss: 2.2783 - val_accuracy: 0.2844\n",
            "Epoch 10/110\n",
            "183/183 [==============================] - 1s 3ms/step - loss: 0.4171 - accuracy: 0.8388 - val_loss: 2.3911 - val_accuracy: 0.2807\n",
            "Epoch 11/110\n",
            "183/183 [==============================] - 1s 3ms/step - loss: 0.4027 - accuracy: 0.8471 - val_loss: 2.3644 - val_accuracy: 0.2901\n",
            "Epoch 12/110\n",
            "183/183 [==============================] - 1s 3ms/step - loss: 0.3712 - accuracy: 0.8548 - val_loss: 2.4908 - val_accuracy: 0.2920\n",
            "Epoch 13/110\n",
            "183/183 [==============================] - 1s 3ms/step - loss: 0.3564 - accuracy: 0.8707 - val_loss: 2.4736 - val_accuracy: 0.2986\n",
            "Epoch 14/110\n",
            "183/183 [==============================] - 1s 3ms/step - loss: 0.3413 - accuracy: 0.8676 - val_loss: 2.7867 - val_accuracy: 0.2737\n",
            "Epoch 15/110\n",
            "183/183 [==============================] - 1s 3ms/step - loss: 0.3352 - accuracy: 0.8698 - val_loss: 2.5636 - val_accuracy: 0.3095\n",
            "Epoch 16/110\n",
            "183/183 [==============================] - 1s 3ms/step - loss: 0.3105 - accuracy: 0.8820 - val_loss: 2.5993 - val_accuracy: 0.3086\n",
            "Epoch 17/110\n",
            "183/183 [==============================] - 1s 3ms/step - loss: 0.3134 - accuracy: 0.8813 - val_loss: 2.7468 - val_accuracy: 0.3023\n",
            "Epoch 18/110\n",
            "183/183 [==============================] - 1s 3ms/step - loss: 0.3094 - accuracy: 0.8821 - val_loss: 2.6122 - val_accuracy: 0.2890\n",
            "Epoch 19/110\n",
            "183/183 [==============================] - 1s 3ms/step - loss: 0.2869 - accuracy: 0.8920 - val_loss: 2.6643 - val_accuracy: 0.2769\n",
            "Epoch 20/110\n",
            "183/183 [==============================] - 1s 3ms/step - loss: 0.2906 - accuracy: 0.8898 - val_loss: 2.7163 - val_accuracy: 0.2789\n",
            "Epoch 21/110\n",
            "183/183 [==============================] - 1s 3ms/step - loss: 0.2792 - accuracy: 0.8930 - val_loss: 2.7747 - val_accuracy: 0.2872\n",
            "Epoch 22/110\n",
            "183/183 [==============================] - 1s 3ms/step - loss: 0.2704 - accuracy: 0.8993 - val_loss: 2.8276 - val_accuracy: 0.2826\n",
            "Epoch 23/110\n",
            "183/183 [==============================] - 1s 3ms/step - loss: 0.2661 - accuracy: 0.9051 - val_loss: 2.6545 - val_accuracy: 0.2877\n",
            "Epoch 24/110\n",
            "183/183 [==============================] - 1s 3ms/step - loss: 0.2504 - accuracy: 0.9131 - val_loss: 2.9179 - val_accuracy: 0.2820\n",
            "Epoch 25/110\n",
            "183/183 [==============================] - 1s 3ms/step - loss: 0.2337 - accuracy: 0.9112 - val_loss: 2.8646 - val_accuracy: 0.2938\n",
            "Epoch 26/110\n",
            "183/183 [==============================] - 1s 3ms/step - loss: 0.2411 - accuracy: 0.9039 - val_loss: 2.8763 - val_accuracy: 0.2999\n",
            "Epoch 27/110\n",
            "183/183 [==============================] - 1s 3ms/step - loss: 0.2248 - accuracy: 0.9198 - val_loss: 2.8615 - val_accuracy: 0.2901\n",
            "Epoch 28/110\n",
            "183/183 [==============================] - 1s 3ms/step - loss: 0.2321 - accuracy: 0.9137 - val_loss: 3.0160 - val_accuracy: 0.2815\n",
            "Epoch 29/110\n",
            "183/183 [==============================] - 1s 3ms/step - loss: 0.2271 - accuracy: 0.9141 - val_loss: 2.7676 - val_accuracy: 0.2988\n",
            "Epoch 30/110\n",
            "183/183 [==============================] - 0s 3ms/step - loss: 0.2154 - accuracy: 0.9192 - val_loss: 3.0225 - val_accuracy: 0.2877\n",
            "Epoch 31/110\n",
            "183/183 [==============================] - 1s 3ms/step - loss: 0.2092 - accuracy: 0.9231 - val_loss: 3.1183 - val_accuracy: 0.2881\n",
            "Epoch 32/110\n",
            "183/183 [==============================] - 1s 3ms/step - loss: 0.2109 - accuracy: 0.9180 - val_loss: 2.9681 - val_accuracy: 0.2868\n",
            "Epoch 33/110\n",
            "183/183 [==============================] - 1s 3ms/step - loss: 0.1979 - accuracy: 0.9291 - val_loss: 3.1192 - val_accuracy: 0.2942\n",
            "Epoch 34/110\n",
            "183/183 [==============================] - 1s 3ms/step - loss: 0.2083 - accuracy: 0.9203 - val_loss: 2.9449 - val_accuracy: 0.2931\n",
            "Epoch 35/110\n",
            "183/183 [==============================] - 1s 3ms/step - loss: 0.1899 - accuracy: 0.9259 - val_loss: 3.0543 - val_accuracy: 0.2734\n",
            "Epoch 36/110\n",
            "183/183 [==============================] - 1s 3ms/step - loss: 0.1988 - accuracy: 0.9278 - val_loss: 3.0801 - val_accuracy: 0.2984\n",
            "Epoch 37/110\n",
            "183/183 [==============================] - 1s 3ms/step - loss: 0.1895 - accuracy: 0.9333 - val_loss: 3.0695 - val_accuracy: 0.3030\n",
            "Epoch 38/110\n",
            "183/183 [==============================] - 1s 3ms/step - loss: 0.1928 - accuracy: 0.9274 - val_loss: 3.0607 - val_accuracy: 0.2894\n",
            "Epoch 39/110\n",
            "183/183 [==============================] - 1s 3ms/step - loss: 0.1724 - accuracy: 0.9390 - val_loss: 3.0841 - val_accuracy: 0.2890\n",
            "Epoch 40/110\n",
            "183/183 [==============================] - 1s 3ms/step - loss: 0.1804 - accuracy: 0.9317 - val_loss: 3.0044 - val_accuracy: 0.3030\n",
            "Epoch 41/110\n",
            "183/183 [==============================] - 1s 3ms/step - loss: 0.1727 - accuracy: 0.9375 - val_loss: 3.2566 - val_accuracy: 0.2944\n",
            "Epoch 42/110\n",
            "183/183 [==============================] - 1s 3ms/step - loss: 0.1694 - accuracy: 0.9353 - val_loss: 3.1509 - val_accuracy: 0.2905\n",
            "Epoch 43/110\n",
            "183/183 [==============================] - 1s 3ms/step - loss: 0.1678 - accuracy: 0.9382 - val_loss: 3.3085 - val_accuracy: 0.2837\n",
            "Epoch 44/110\n",
            "183/183 [==============================] - 1s 3ms/step - loss: 0.1658 - accuracy: 0.9368 - val_loss: 3.2462 - val_accuracy: 0.2960\n",
            "Epoch 45/110\n",
            "183/183 [==============================] - 1s 3ms/step - loss: 0.1646 - accuracy: 0.9396 - val_loss: 3.3090 - val_accuracy: 0.2977\n",
            "Epoch 46/110\n",
            "183/183 [==============================] - 1s 3ms/step - loss: 0.1815 - accuracy: 0.9320 - val_loss: 3.4353 - val_accuracy: 0.3043\n",
            "Epoch 47/110\n",
            "183/183 [==============================] - 1s 3ms/step - loss: 0.1636 - accuracy: 0.9400 - val_loss: 3.4954 - val_accuracy: 0.2988\n",
            "Epoch 48/110\n",
            "183/183 [==============================] - 1s 3ms/step - loss: 0.1614 - accuracy: 0.9422 - val_loss: 3.0812 - val_accuracy: 0.2874\n",
            "Epoch 49/110\n",
            "183/183 [==============================] - 1s 3ms/step - loss: 0.1605 - accuracy: 0.9398 - val_loss: 3.3992 - val_accuracy: 0.2870\n",
            "Epoch 50/110\n",
            "183/183 [==============================] - 1s 3ms/step - loss: 0.1548 - accuracy: 0.9452 - val_loss: 3.3159 - val_accuracy: 0.2955\n",
            "Epoch 51/110\n",
            "183/183 [==============================] - 1s 3ms/step - loss: 0.1563 - accuracy: 0.9420 - val_loss: 3.4890 - val_accuracy: 0.3003\n",
            "Epoch 52/110\n",
            "183/183 [==============================] - 1s 3ms/step - loss: 0.1538 - accuracy: 0.9432 - val_loss: 3.3418 - val_accuracy: 0.2813\n",
            "Epoch 53/110\n",
            "183/183 [==============================] - 1s 3ms/step - loss: 0.1471 - accuracy: 0.9463 - val_loss: 3.3301 - val_accuracy: 0.3021\n",
            "Epoch 54/110\n",
            "183/183 [==============================] - 1s 3ms/step - loss: 0.1508 - accuracy: 0.9456 - val_loss: 3.3527 - val_accuracy: 0.3128\n",
            "Epoch 55/110\n",
            "183/183 [==============================] - 1s 3ms/step - loss: 0.1558 - accuracy: 0.9434 - val_loss: 3.2150 - val_accuracy: 0.2824\n",
            "Epoch 56/110\n",
            "183/183 [==============================] - 1s 3ms/step - loss: 0.1396 - accuracy: 0.9501 - val_loss: 3.4494 - val_accuracy: 0.2933\n",
            "Epoch 57/110\n",
            "183/183 [==============================] - 0s 3ms/step - loss: 0.1465 - accuracy: 0.9437 - val_loss: 3.6902 - val_accuracy: 0.2778\n",
            "Epoch 58/110\n",
            "183/183 [==============================] - 1s 3ms/step - loss: 0.1276 - accuracy: 0.9544 - val_loss: 3.6896 - val_accuracy: 0.2734\n",
            "Epoch 59/110\n",
            "183/183 [==============================] - 1s 3ms/step - loss: 0.1291 - accuracy: 0.9541 - val_loss: 3.5163 - val_accuracy: 0.2896\n",
            "Epoch 60/110\n",
            "183/183 [==============================] - 1s 3ms/step - loss: 0.1320 - accuracy: 0.9523 - val_loss: 3.5355 - val_accuracy: 0.2918\n",
            "Epoch 61/110\n",
            "183/183 [==============================] - 1s 3ms/step - loss: 0.1201 - accuracy: 0.9557 - val_loss: 3.4952 - val_accuracy: 0.2835\n",
            "Epoch 62/110\n",
            "183/183 [==============================] - 1s 3ms/step - loss: 0.1244 - accuracy: 0.9552 - val_loss: 3.3828 - val_accuracy: 0.2780\n",
            "Epoch 63/110\n",
            "183/183 [==============================] - 1s 3ms/step - loss: 0.1230 - accuracy: 0.9566 - val_loss: 3.6709 - val_accuracy: 0.3019\n",
            "Epoch 64/110\n",
            "183/183 [==============================] - 1s 3ms/step - loss: 0.1208 - accuracy: 0.9552 - val_loss: 3.4864 - val_accuracy: 0.3032\n",
            "Epoch 65/110\n",
            "183/183 [==============================] - 1s 3ms/step - loss: 0.1175 - accuracy: 0.9604 - val_loss: 3.5934 - val_accuracy: 0.3016\n",
            "Epoch 66/110\n",
            "183/183 [==============================] - 1s 3ms/step - loss: 0.1246 - accuracy: 0.9533 - val_loss: 3.7012 - val_accuracy: 0.2874\n",
            "Epoch 67/110\n",
            "183/183 [==============================] - 1s 3ms/step - loss: 0.1137 - accuracy: 0.9570 - val_loss: 3.4943 - val_accuracy: 0.2839\n",
            "Epoch 68/110\n",
            "183/183 [==============================] - 1s 3ms/step - loss: 0.1227 - accuracy: 0.9575 - val_loss: 3.3161 - val_accuracy: 0.2898\n",
            "Epoch 69/110\n",
            "183/183 [==============================] - 1s 3ms/step - loss: 0.1113 - accuracy: 0.9576 - val_loss: 3.6891 - val_accuracy: 0.2848\n",
            "Epoch 70/110\n",
            "183/183 [==============================] - 1s 3ms/step - loss: 0.1169 - accuracy: 0.9555 - val_loss: 3.8715 - val_accuracy: 0.2914\n",
            "Epoch 71/110\n",
            "183/183 [==============================] - 1s 3ms/step - loss: 0.1195 - accuracy: 0.9567 - val_loss: 3.7324 - val_accuracy: 0.3012\n",
            "Epoch 72/110\n",
            "183/183 [==============================] - 1s 3ms/step - loss: 0.1064 - accuracy: 0.9654 - val_loss: 3.7113 - val_accuracy: 0.2778\n",
            "Epoch 73/110\n",
            "183/183 [==============================] - 1s 3ms/step - loss: 0.1039 - accuracy: 0.9647 - val_loss: 3.6195 - val_accuracy: 0.2800\n",
            "Epoch 74/110\n",
            "183/183 [==============================] - 1s 3ms/step - loss: 0.1154 - accuracy: 0.9577 - val_loss: 3.6210 - val_accuracy: 0.2995\n",
            "Epoch 75/110\n",
            "183/183 [==============================] - 1s 3ms/step - loss: 0.1062 - accuracy: 0.9622 - val_loss: 3.7864 - val_accuracy: 0.2966\n",
            "Epoch 76/110\n",
            "183/183 [==============================] - 1s 3ms/step - loss: 0.1096 - accuracy: 0.9645 - val_loss: 3.7228 - val_accuracy: 0.2885\n",
            "Epoch 77/110\n",
            "183/183 [==============================] - 1s 3ms/step - loss: 0.1070 - accuracy: 0.9655 - val_loss: 3.6755 - val_accuracy: 0.2970\n",
            "Epoch 78/110\n",
            "183/183 [==============================] - 1s 3ms/step - loss: 0.1066 - accuracy: 0.9628 - val_loss: 3.9682 - val_accuracy: 0.2986\n",
            "Epoch 79/110\n",
            "183/183 [==============================] - 1s 3ms/step - loss: 0.1041 - accuracy: 0.9639 - val_loss: 3.8541 - val_accuracy: 0.2929\n",
            "Epoch 80/110\n",
            "183/183 [==============================] - 1s 3ms/step - loss: 0.0932 - accuracy: 0.9674 - val_loss: 3.8211 - val_accuracy: 0.2887\n",
            "Epoch 81/110\n",
            "183/183 [==============================] - 1s 3ms/step - loss: 0.1017 - accuracy: 0.9662 - val_loss: 3.7652 - val_accuracy: 0.2868\n",
            "Epoch 82/110\n",
            "183/183 [==============================] - 1s 3ms/step - loss: 0.0983 - accuracy: 0.9655 - val_loss: 3.5569 - val_accuracy: 0.2789\n",
            "Epoch 83/110\n",
            "183/183 [==============================] - 1s 3ms/step - loss: 0.1011 - accuracy: 0.9649 - val_loss: 3.8678 - val_accuracy: 0.2850\n",
            "Epoch 84/110\n",
            "183/183 [==============================] - 1s 3ms/step - loss: 0.0923 - accuracy: 0.9664 - val_loss: 3.8450 - val_accuracy: 0.2890\n",
            "Epoch 85/110\n",
            "183/183 [==============================] - 1s 3ms/step - loss: 0.0926 - accuracy: 0.9682 - val_loss: 3.8262 - val_accuracy: 0.2761\n",
            "Epoch 86/110\n",
            "183/183 [==============================] - 1s 3ms/step - loss: 0.1032 - accuracy: 0.9666 - val_loss: 3.9144 - val_accuracy: 0.2745\n",
            "Epoch 87/110\n",
            "183/183 [==============================] - 1s 3ms/step - loss: 0.1032 - accuracy: 0.9606 - val_loss: 3.6312 - val_accuracy: 0.2846\n",
            "Epoch 88/110\n",
            "183/183 [==============================] - 1s 3ms/step - loss: 0.0959 - accuracy: 0.9641 - val_loss: 3.7089 - val_accuracy: 0.2813\n",
            "Epoch 89/110\n",
            "183/183 [==============================] - 1s 3ms/step - loss: 0.1041 - accuracy: 0.9638 - val_loss: 3.8866 - val_accuracy: 0.2813\n",
            "Epoch 90/110\n",
            "183/183 [==============================] - 1s 3ms/step - loss: 0.0827 - accuracy: 0.9734 - val_loss: 3.9735 - val_accuracy: 0.2955\n",
            "Epoch 91/110\n",
            "183/183 [==============================] - 1s 3ms/step - loss: 0.0874 - accuracy: 0.9687 - val_loss: 3.8212 - val_accuracy: 0.2822\n",
            "Epoch 92/110\n",
            "183/183 [==============================] - 1s 3ms/step - loss: 0.0943 - accuracy: 0.9706 - val_loss: 3.7441 - val_accuracy: 0.2817\n",
            "Epoch 93/110\n",
            "183/183 [==============================] - 1s 3ms/step - loss: 0.0817 - accuracy: 0.9700 - val_loss: 4.1339 - val_accuracy: 0.2721\n",
            "Epoch 94/110\n",
            "183/183 [==============================] - 1s 3ms/step - loss: 0.0860 - accuracy: 0.9707 - val_loss: 3.8662 - val_accuracy: 0.2868\n",
            "Epoch 95/110\n",
            "183/183 [==============================] - 1s 3ms/step - loss: 0.0817 - accuracy: 0.9728 - val_loss: 4.0973 - val_accuracy: 0.3021\n",
            "Epoch 96/110\n",
            "183/183 [==============================] - 1s 3ms/step - loss: 0.0806 - accuracy: 0.9717 - val_loss: 3.9729 - val_accuracy: 0.3036\n",
            "Epoch 97/110\n",
            "183/183 [==============================] - 1s 3ms/step - loss: 0.0931 - accuracy: 0.9698 - val_loss: 4.0526 - val_accuracy: 0.2828\n",
            "Epoch 98/110\n",
            "183/183 [==============================] - 1s 3ms/step - loss: 0.0862 - accuracy: 0.9706 - val_loss: 3.8631 - val_accuracy: 0.2763\n",
            "Epoch 99/110\n",
            "183/183 [==============================] - 1s 3ms/step - loss: 0.0849 - accuracy: 0.9716 - val_loss: 4.1554 - val_accuracy: 0.2726\n",
            "Epoch 100/110\n",
            "183/183 [==============================] - 1s 3ms/step - loss: 0.0883 - accuracy: 0.9704 - val_loss: 4.1613 - val_accuracy: 0.2848\n",
            "Epoch 101/110\n",
            "183/183 [==============================] - 1s 3ms/step - loss: 0.0887 - accuracy: 0.9698 - val_loss: 3.9169 - val_accuracy: 0.2778\n",
            "Epoch 102/110\n",
            "183/183 [==============================] - 1s 3ms/step - loss: 0.0850 - accuracy: 0.9726 - val_loss: 4.1794 - val_accuracy: 0.2909\n",
            "Epoch 103/110\n",
            "183/183 [==============================] - 1s 3ms/step - loss: 0.0750 - accuracy: 0.9751 - val_loss: 4.1445 - val_accuracy: 0.2920\n",
            "Epoch 104/110\n",
            "183/183 [==============================] - 1s 3ms/step - loss: 0.0766 - accuracy: 0.9727 - val_loss: 4.1022 - val_accuracy: 0.2990\n",
            "Epoch 105/110\n",
            "183/183 [==============================] - 1s 3ms/step - loss: 0.0849 - accuracy: 0.9707 - val_loss: 4.0291 - val_accuracy: 0.2949\n",
            "Epoch 106/110\n",
            "183/183 [==============================] - 1s 3ms/step - loss: 0.0853 - accuracy: 0.9707 - val_loss: 4.2083 - val_accuracy: 0.2774\n",
            "Epoch 107/110\n",
            "183/183 [==============================] - 1s 3ms/step - loss: 0.0806 - accuracy: 0.9710 - val_loss: 3.7916 - val_accuracy: 0.2949\n",
            "Epoch 108/110\n",
            "183/183 [==============================] - 1s 3ms/step - loss: 0.0735 - accuracy: 0.9753 - val_loss: 4.1746 - val_accuracy: 0.2745\n",
            "Epoch 109/110\n",
            "183/183 [==============================] - 1s 3ms/step - loss: 0.0799 - accuracy: 0.9752 - val_loss: 4.0998 - val_accuracy: 0.3019\n",
            "Epoch 110/110\n",
            "183/183 [==============================] - 1s 3ms/step - loss: 0.0828 - accuracy: 0.9741 - val_loss: 4.1601 - val_accuracy: 0.2885\n"
          ],
          "name": "stdout"
        }
      ]
    },
    {
      "cell_type": "code",
      "metadata": {
        "colab": {
          "base_uri": "https://localhost:8080/"
        },
        "id": "387YZlXH8sMf",
        "outputId": "b5f85348-34e8-44b1-b165-7df32ea1cedb"
      },
      "source": [
        "drop_predictions = dropout_model.predict(X_test)"
      ],
      "execution_count": null,
      "outputs": [
        {
          "output_type": "stream",
          "text": [
            "/usr/local/lib/python3.7/dist-packages/keras/engine/sequential.py:450: UserWarning: `model.predict_classes()` is deprecated and will be removed after 2021-01-01. Please use instead:* `np.argmax(model.predict(x), axis=-1)`,   if your model does multi-class classification   (e.g. if it uses a `softmax` last-layer activation).* `(model.predict(x) > 0.5).astype(\"int32\")`,   if your model does binary classification   (e.g. if it uses a `sigmoid` last-layer activation).\n",
            "  warnings.warn('`model.predict_classes()` is deprecated and '\n"
          ],
          "name": "stderr"
        }
      ]
    },
    {
      "cell_type": "code",
      "metadata": {
        "colab": {
          "base_uri": "https://localhost:8080/"
        },
        "id": "Sa8Ga0v980kh",
        "outputId": "0d081767-b18b-4839-e229-54dd9d89c0f5"
      },
      "source": [
        "sum(y_test == drop_predictions)"
      ],
      "execution_count": null,
      "outputs": [
        {
          "output_type": "execute_result",
          "data": {
            "text/plain": [
              "1320"
            ]
          },
          "metadata": {
            "tags": []
          },
          "execution_count": 28
        }
      ]
    },
    {
      "cell_type": "code",
      "metadata": {
        "colab": {
          "base_uri": "https://localhost:8080/"
        },
        "id": "csn5w8gp872J",
        "outputId": "507193a2-da8d-4acf-ada7-c8d08d1ef9ca"
      },
      "source": [
        "(sum(y_test == drop_predictions)/len(y_test))*100"
      ],
      "execution_count": null,
      "outputs": [
        {
          "output_type": "execute_result",
          "data": {
            "text/plain": [
              "28.852459016393446"
            ]
          },
          "metadata": {
            "tags": []
          },
          "execution_count": 29
        }
      ]
    },
    {
      "cell_type": "code",
      "metadata": {
        "colab": {
          "base_uri": "https://localhost:8080/"
        },
        "id": "2XrZK2ZXA4Dw",
        "outputId": "c8d7f9a4-9340-49ac-b748-82ed808e98d7"
      },
      "source": [
        "print(classification_report(y_test, drop_predictions))"
      ],
      "execution_count": null,
      "outputs": [
        {
          "output_type": "stream",
          "text": [
            "              precision    recall  f1-score   support\n",
            "\n",
            "           0       0.28      0.29      0.28      1525\n",
            "           1       0.29      0.42      0.34      1525\n",
            "           2       0.31      0.16      0.21      1525\n",
            "\n",
            "    accuracy                           0.29      4575\n",
            "   macro avg       0.29      0.29      0.28      4575\n",
            "weighted avg       0.29      0.29      0.28      4575\n",
            "\n"
          ],
          "name": "stdout"
        }
      ]
    },
    {
      "cell_type": "code",
      "metadata": {
        "colab": {
          "base_uri": "https://localhost:8080/",
          "height": 572
        },
        "id": "GbYWdVa5lHtA",
        "outputId": "efbc8741-b2cc-4f09-c695-418e9dfa8006"
      },
      "source": [
        "# Making plots\n",
        "plt.plot(hist.history['loss'], label='train')\n",
        "plt.plot(hist.history['val_loss'], label='val')\n",
        "plt.title('Baseline with Dropout: Loss and Validation Loss')\n",
        "plt.ylabel('Loss')\n",
        "plt.xlabel('Epochs')\n",
        "plt.legend();\n",
        "plt.show()\n",
        "\n",
        "plt.plot(hist.history['accuracy'], label='train')\n",
        "plt.plot(hist.history['val_accuracy'], label='val')\n",
        "plt.title('Baseline with Dropout: Accuracy and Validation Accuracy')\n",
        "plt.ylabel('Accuracy')\n",
        "plt.xlabel('Epochs')\n",
        "plt.legend();\n",
        "plt.show()"
      ],
      "execution_count": null,
      "outputs": [
        {
          "output_type": "display_data",
          "data": {
            "image/png": "[encoded data removed]",
            "text/plain": [
              "<Figure size 432x288 with 1 Axes>"
            ]
          },
          "metadata": {
            "tags": [],
            "needs_background": "light"
          }
        },
        {
          "output_type": "display_data",
          "data": {
            "image/png": "[encoded data removed]",
            "text/plain": [
              "<Figure size 432x288 with 1 Axes>"
            ]
          },
          "metadata": {
            "tags": [],
            "needs_background": "light"
          }
        }
      ]
    }
  ]
}