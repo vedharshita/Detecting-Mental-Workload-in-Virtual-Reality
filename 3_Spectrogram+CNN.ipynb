{
  "nbformat": 4,
  "nbformat_minor": 0,
  "metadata": {
    "colab": {
      "name": "3_Spectrogram+CNN.ipynb",
      "provenance": [],
      "collapsed_sections": [],
      "authorship_tag": "ABX9TyONouXdTARLWFUvptuDfJNz",
      "include_colab_link": true
    },
    "kernelspec": {
      "display_name": "Python 3",
      "name": "python3"
    },
    "language_info": {
      "name": "python"
    },
    "accelerator": "GPU"
  },
  "cells": [
    {
      "cell_type": "markdown",
      "metadata": {
        "id": "view-in-github",
        "colab_type": "text"
      },
      "source": [
        "<a href=\"https://colab.research.google.com/github/vedharshita/Detecting-Mental-Workload-in-Virtual-Reality/blob/main/3_Spectrogram%2BCNN.ipynb\" target=\"_parent\"><img src=\"https://colab.research.google.com/assets/colab-badge.svg\" alt=\"Open In Colab\"/></a>"
      ]
    },
    {
      "cell_type": "markdown",
      "metadata": {
        "id": "Bmxmr6M0cwBO"
      },
      "source": [
        "# ***Detecting Cognitive Workload Using Fourier Transform (FFT) and Power Spectral Density (PSD) on Wireless EEG Spectral Data***\n",
        "\n",
        "---\n",
        "\n",
        "EEG data is converted into multi-channel spectrogram images, which allows for greater spectral and temporal coefficient correlation, before being fed into a convolutional neural network (CNN). "
      ]
    },
    {
      "cell_type": "code",
      "metadata": {
        "colab": {
          "base_uri": "https://localhost:8080/"
        },
        "id": "PfYh-mgwcR4u",
        "outputId": "80148f09-b571-40cc-8eca-bcb01f0db52b"
      },
      "source": [
        "## Mounting gdrive\n",
        "from google.colab import drive\n",
        "drive.mount('/content/gdrive')"
      ],
      "execution_count": null,
      "outputs": [
        {
          "output_type": "stream",
          "text": [
            "Mounted at /content/gdrive\n"
          ],
          "name": "stdout"
        }
      ]
    },
    {
      "cell_type": "code",
      "metadata": {
        "id": "bDL0TxfGcyrX"
      },
      "source": [
        "## Import Statements\n",
        "import os\n",
        "import pandas as pd\n",
        "import numpy as np\n",
        "import matplotlib.pyplot as plt\n",
        "import matplotlib.dates as md\n",
        "import scipy.io\n",
        "from matplotlib.pyplot import specgram\n",
        "\n",
        "from tensorflow.keras.preprocessing.image import ImageDataGenerator\n",
        "from tensorflow.keras.applications.vgg16 import VGG16\n",
        "from tensorflow.keras.applications.vgg16 import preprocess_input\n",
        "from tensorflow.keras.models import Model, Sequential\n",
        "from tensorflow.keras.optimizers import Adam\n",
        "from tensorflow.keras.layers import Dense, Conv2D, MaxPool2D , Flatten\n",
        "from tensorflow.keras.losses import categorical_crossentropy\n",
        "from tensorflow.keras.callbacks import ModelCheckpoint, EarlyStopping\n",
        "from tensorflow.keras import metrics\n",
        "from sklearn.metrics import classification_report,confusion_matrix\n",
        "\n",
        "from sklearn.utils import class_weight\n",
        "from collections import Counter\n",
        "from os import listdir\n",
        "from os.path import isfile, join"
      ],
      "execution_count": null,
      "outputs": []
    },
    {
      "cell_type": "code",
      "metadata": {
        "id": "bYod64qzoIT7"
      },
      "source": [
        "## Setting path for data files on colab\n",
        "root_dir = \"/content/gdrive/MyDrive/VR Mental Workload/\"\n",
        "raw_dir = root_dir + \"data/VRData2019/\"\n",
        "csv_dir = raw_dir + \"csv/\"\n",
        "nback_dir = raw_dir + \"nback_csv/\"\n",
        "spec_dir = raw_dir + \"spec_dir/\"\n",
        "train_dir = spec_dir + \"train/\"\n",
        "test_dir = spec_dir + \"test/\"\n",
        "os.chdir(nback_dir)"
      ],
      "execution_count": null,
      "outputs": []
    },
    {
      "cell_type": "markdown",
      "metadata": {
        "id": "qxwnV2aDcN7Z"
      },
      "source": [
        "Training:  ['S03', 'S08', 'S14', 'S15', 'S07', 'S06', 'S11', 'S02', 'S05', 'S01']\n",
        "\n",
        "\n",
        "Testing:  ['S04', 'S09', 'S10', 'S12', 'S13']"
      ]
    },
    {
      "cell_type": "code",
      "metadata": {
        "colab": {
          "base_uri": "https://localhost:8080/"
        },
        "id": "BDpfhYricepJ",
        "outputId": "514b5560-0881-466c-eae8-2072bf1222b8"
      },
      "source": [
        "## Training Testing files segregation\n",
        "p_tr = ['S03', 'S08', 'S14', 'S15', 'S07', 'S06', 'S11', 'S02', 'S05', 'S01']\n",
        "p_te = ['S04', 'S09', 'S10', 'S12', 'S13']\n",
        "tr_files = []\n",
        "te_files = []\n",
        "lst0 = sorted(os.listdir())\n",
        "for i in p_tr:\n",
        "  for file in lst0:\n",
        "    if file.startswith(i):\n",
        "      tr_files.append(file)\n",
        "for i in p_te:\n",
        "  for file in lst0:\n",
        "    if file.startswith(i):\n",
        "      te_files.append(file)\n",
        "\n",
        "print(tr_files)\n",
        "print(te_files)"
      ],
      "execution_count": null,
      "outputs": [
        {
          "output_type": "stream",
          "text": [
            "['S03_nback0.csv', 'S03_nback1.csv', 'S03_nback2.csv', 'S08_nback0.csv', 'S08_nback1.csv', 'S08_nback2.csv', 'S14_nback0.csv', 'S14_nback1.csv', 'S14_nback2.csv', 'S15_nback0.csv', 'S15_nback1.csv', 'S15_nback2.csv', 'S07_nback0.csv', 'S07_nback1.csv', 'S07_nback2.csv', 'S06_nback0.csv', 'S06_nback1.csv', 'S06_nback2.csv', 'S11_nback0.csv', 'S11_nback1.csv', 'S11_nback2.csv', 'S02_nback0.csv', 'S02_nback1.csv', 'S02_nback2.csv', 'S05_nback0.csv', 'S05_nback1.csv', 'S05_nback2.csv', 'S01_nback0.csv', 'S01_nback1.csv', 'S01_nback2.csv']\n",
            "['S04_nback0.csv', 'S04_nback1.csv', 'S04_nback2.csv', 'S09_nback0.csv', 'S09_nback1.csv', 'S09_nback2.csv', 'S10_nback0.csv', 'S10_nback1.csv', 'S10_nback2.csv', 'S12_nback0.csv', 'S12_nback1.csv', 'S12_nback2.csv', 'S13_nback0.csv', 'S13_nback1.csv', 'S13_nback2.csv']\n"
          ],
          "name": "stdout"
        }
      ]
    },
    {
      "cell_type": "markdown",
      "metadata": {
        "id": "-bQEjrMoCIxm"
      },
      "source": [
        "### **STEP 6: Creating Spectrograms for CNN**\n"
      ]
    },
    {
      "cell_type": "code",
      "metadata": {
        "id": "SULPGrei7Tkb"
      },
      "source": [
        "## Creating Spectrograms\n",
        "def create_Spectogram():\n",
        "  for i in tr_files:\n",
        "    os.chdir(nback_dir)\n",
        "    df = pd.read_csv(i)\n",
        "    os.chdir(train_dir)\n",
        "    for j in df.columns[15:]:\n",
        "      fig, ax = plt.subplots(1,figsize=(12,4))\n",
        "      ax.specgram(df[j], Fs = 256, cmap = plt.cm.jet)\n",
        "      ax.set(yticklabels=[], xticklabels=[])\n",
        "      ax.tick_params(left=False, bottom=False, top=False, right=False )\n",
        "      ax.axis('off')\n",
        "      # ax.set_title(i.split(\"_\")[0] + \"_\" + i.split(\"_\")[1] + \"_\" +  j + '_Spectrogram')\n",
        "      # ax.set_ylabel('Freq (Hz)')\n",
        "      # ax.set_xlabel('Time')\n",
        "\n",
        "      if(\"nback0\" in i):\n",
        "        os.chdir(train_dir + \"0/\")\n",
        "      elif(\"nback1\" in i):\n",
        "        os.chdir(train_dir + \"1/\")\n",
        "      elif(\"nback2\" in i):\n",
        "        os.chdir(train_dir + \"2/\")\n",
        "      plt.savefig(i.split(\"_\")[0] + \"_\" + i.split(\"_\")[1] + \"_\" +  j + \"_Spec.png\", bbox_inches='tight')\n",
        "\n",
        "  for i in te_files:\n",
        "    os.chdir(nback_dir)\n",
        "    df = pd.read_csv(i)\n",
        "    os.chdir(test_dir)\n",
        "    for j in df.columns[15:]:\n",
        "      fig, ax = plt.subplots(1,figsize=(12,4))\n",
        "      ax.specgram(df[j], Fs = 256, cmap = plt.cm.jet)\n",
        "      ax.set(yticklabels=[], xticklabels=[])\n",
        "      ax.tick_params(left=False, bottom=False, top=False, right=False )\n",
        "      ax.axis('off')\n",
        "      # ax.set_title(i.split(\"_\")[0] + \"_\" + i.split(\"_\")[1] + \"_\" +  j + '_Spectrogram')\n",
        "      # ax.set_ylabel('Freq (Hz)')\n",
        "      # ax.set_xlabel('Time')\n",
        "\n",
        "      if(\"nback0\" in i):\n",
        "        os.chdir(test_dir + \"0/\")\n",
        "      elif(\"nback1\" in i):\n",
        "        os.chdir(test_dir + \"1/\")\n",
        "      elif(\"nback2\" in i):\n",
        "        os.chdir(test_dir + \"2/\")\n",
        "      plt.savefig(i.split(\"_\")[0] + \"_\" + i.split(\"_\")[1] + \"_\" +  j + \"_Spec.png\", bbox_inches='tight')\n",
        "\n",
        "create_Spectogram()"
      ],
      "execution_count": null,
      "outputs": []
    },
    {
      "cell_type": "markdown",
      "metadata": {
        "id": "fuOxId_TIGa4"
      },
      "source": [
        "### **STEP 7: Feeding Spectrograms in CNN**\n"
      ]
    },
    {
      "cell_type": "code",
      "metadata": {
        "colab": {
          "base_uri": "https://localhost:8080/"
        },
        "id": "_zw6dJpBZDlG",
        "outputId": "048c1500-0d08-4f90-d9b8-f81c38ca8c5e"
      },
      "source": [
        "## Loading Input images\n",
        "os.chdir(train_dir)\n",
        "trdata = ImageDataGenerator()\n",
        "traindata = trdata.flow_from_directory(directory=train_dir, target_size=(224,224))\n",
        "os.chdir(test_dir)\n",
        "tsdata = ImageDataGenerator()\n",
        "testdata = tsdata.flow_from_directory(directory=test_dir, target_size=(224,224))"
      ],
      "execution_count": null,
      "outputs": [
        {
          "output_type": "stream",
          "text": [
            "Found 240 images belonging to 3 classes.\n",
            "Found 120 images belonging to 3 classes.\n"
          ],
          "name": "stdout"
        }
      ]
    },
    {
      "cell_type": "code",
      "metadata": {
        "colab": {
          "base_uri": "https://localhost:8080/"
        },
        "id": "P88d1QG2gGdz",
        "outputId": "1b511049-48f8-4011-c9fa-0eeb8cf1a3e1"
      },
      "source": [
        "## Feeding into VGG16 \n",
        "vgg16 = VGG16(weights='imagenet')\n",
        "vgg16.summary()\n",
        "\n",
        "x  = vgg16.get_layer('fc2').output\n",
        "prediction = Dense(3, activation='softmax', name='predictions')(x)\n",
        "\n",
        "model = Model(inputs=vgg16.input, outputs=prediction)"
      ],
      "execution_count": null,
      "outputs": [
        {
          "output_type": "stream",
          "text": [
            "Downloading data from https://storage.googleapis.com/tensorflow/keras-applications/vgg16/vgg16_weights_tf_dim_ordering_tf_kernels.h5\n",
            "553467904/553467096 [==============================] - 3s 0us/step\n",
            "Model: \"vgg16\"\n",
            "_________________________________________________________________\n",
            "Layer (type)                 Output Shape              Param #   \n",
            "=================================================================\n",
            "input_1 (InputLayer)         [(None, 224, 224, 3)]     0         \n",
            "_________________________________________________________________\n",
            "block1_conv1 (Conv2D)        (None, 224, 224, 64)      1792      \n",
            "_________________________________________________________________\n",
            "block1_conv2 (Conv2D)        (None, 224, 224, 64)      36928     \n",
            "_________________________________________________________________\n",
            "block1_pool (MaxPooling2D)   (None, 112, 112, 64)      0         \n",
            "_________________________________________________________________\n",
            "block2_conv1 (Conv2D)        (None, 112, 112, 128)     73856     \n",
            "_________________________________________________________________\n",
            "block2_conv2 (Conv2D)        (None, 112, 112, 128)     147584    \n",
            "_________________________________________________________________\n",
            "block2_pool (MaxPooling2D)   (None, 56, 56, 128)       0         \n",
            "_________________________________________________________________\n",
            "block3_conv1 (Conv2D)        (None, 56, 56, 256)       295168    \n",
            "_________________________________________________________________\n",
            "block3_conv2 (Conv2D)        (None, 56, 56, 256)       590080    \n",
            "_________________________________________________________________\n",
            "block3_conv3 (Conv2D)        (None, 56, 56, 256)       590080    \n",
            "_________________________________________________________________\n",
            "block3_pool (MaxPooling2D)   (None, 28, 28, 256)       0         \n",
            "_________________________________________________________________\n",
            "block4_conv1 (Conv2D)        (None, 28, 28, 512)       1180160   \n",
            "_________________________________________________________________\n",
            "block4_conv2 (Conv2D)        (None, 28, 28, 512)       2359808   \n",
            "_________________________________________________________________\n",
            "block4_conv3 (Conv2D)        (None, 28, 28, 512)       2359808   \n",
            "_________________________________________________________________\n",
            "block4_pool (MaxPooling2D)   (None, 14, 14, 512)       0         \n",
            "_________________________________________________________________\n",
            "block5_conv1 (Conv2D)        (None, 14, 14, 512)       2359808   \n",
            "_________________________________________________________________\n",
            "block5_conv2 (Conv2D)        (None, 14, 14, 512)       2359808   \n",
            "_________________________________________________________________\n",
            "block5_conv3 (Conv2D)        (None, 14, 14, 512)       2359808   \n",
            "_________________________________________________________________\n",
            "block5_pool (MaxPooling2D)   (None, 7, 7, 512)         0         \n",
            "_________________________________________________________________\n",
            "flatten (Flatten)            (None, 25088)             0         \n",
            "_________________________________________________________________\n",
            "fc1 (Dense)                  (None, 4096)              102764544 \n",
            "_________________________________________________________________\n",
            "fc2 (Dense)                  (None, 4096)              16781312  \n",
            "_________________________________________________________________\n",
            "predictions (Dense)          (None, 1000)              4097000   \n",
            "=================================================================\n",
            "Total params: 138,357,544\n",
            "Trainable params: 138,357,544\n",
            "Non-trainable params: 0\n",
            "_________________________________________________________________\n"
          ],
          "name": "stdout"
        }
      ]
    },
    {
      "cell_type": "code",
      "metadata": {
        "colab": {
          "base_uri": "https://localhost:8080/"
        },
        "id": "DmZo76PZgJTQ",
        "outputId": "5ddab93e-044b-420b-eaa8-b14ba2f24b0d"
      },
      "source": [
        "## Trainable and non-Trainable parameters\n",
        "for layer in model.layers:\n",
        "    layer.trainable = False\n",
        "\n",
        "for layer in model.layers[-20:]:\n",
        "    layer.trainable = True\n",
        "    print(\"Layer '%s' is trainable\" % layer.name) "
      ],
      "execution_count": null,
      "outputs": [
        {
          "output_type": "stream",
          "text": [
            "Layer 'block1_pool' is trainable\n",
            "Layer 'block2_conv1' is trainable\n",
            "Layer 'block2_conv2' is trainable\n",
            "Layer 'block2_pool' is trainable\n",
            "Layer 'block3_conv1' is trainable\n",
            "Layer 'block3_conv2' is trainable\n",
            "Layer 'block3_conv3' is trainable\n",
            "Layer 'block3_pool' is trainable\n",
            "Layer 'block4_conv1' is trainable\n",
            "Layer 'block4_conv2' is trainable\n",
            "Layer 'block4_conv3' is trainable\n",
            "Layer 'block4_pool' is trainable\n",
            "Layer 'block5_conv1' is trainable\n",
            "Layer 'block5_conv2' is trainable\n",
            "Layer 'block5_conv3' is trainable\n",
            "Layer 'block5_pool' is trainable\n",
            "Layer 'flatten' is trainable\n",
            "Layer 'fc1' is trainable\n",
            "Layer 'fc2' is trainable\n",
            "Layer 'predictions' is trainable\n"
          ],
          "name": "stdout"
        }
      ]
    },
    {
      "cell_type": "code",
      "metadata": {
        "colab": {
          "base_uri": "https://localhost:8080/"
        },
        "id": "qKq_rVWzgMxU",
        "outputId": "b6c8eac0-6220-4950-f30f-645abe9f32ee"
      },
      "source": [
        "## Model Summary\n",
        "opt = Adam(lr=0.000001)\n",
        "model.compile(optimizer=opt, loss=categorical_crossentropy, \n",
        "              metrics=['accuracy', 'mae'])\n",
        "model.summary()"
      ],
      "execution_count": null,
      "outputs": [
        {
          "output_type": "stream",
          "text": [
            "Model: \"model\"\n",
            "_________________________________________________________________\n",
            "Layer (type)                 Output Shape              Param #   \n",
            "=================================================================\n",
            "input_1 (InputLayer)         [(None, 224, 224, 3)]     0         \n",
            "_________________________________________________________________\n",
            "block1_conv1 (Conv2D)        (None, 224, 224, 64)      1792      \n",
            "_________________________________________________________________\n",
            "block1_conv2 (Conv2D)        (None, 224, 224, 64)      36928     \n",
            "_________________________________________________________________\n",
            "block1_pool (MaxPooling2D)   (None, 112, 112, 64)      0         \n",
            "_________________________________________________________________\n",
            "block2_conv1 (Conv2D)        (None, 112, 112, 128)     73856     \n",
            "_________________________________________________________________\n",
            "block2_conv2 (Conv2D)        (None, 112, 112, 128)     147584    \n",
            "_________________________________________________________________\n",
            "block2_pool (MaxPooling2D)   (None, 56, 56, 128)       0         \n",
            "_________________________________________________________________\n",
            "block3_conv1 (Conv2D)        (None, 56, 56, 256)       295168    \n",
            "_________________________________________________________________\n",
            "block3_conv2 (Conv2D)        (None, 56, 56, 256)       590080    \n",
            "_________________________________________________________________\n",
            "block3_conv3 (Conv2D)        (None, 56, 56, 256)       590080    \n",
            "_________________________________________________________________\n",
            "block3_pool (MaxPooling2D)   (None, 28, 28, 256)       0         \n",
            "_________________________________________________________________\n",
            "block4_conv1 (Conv2D)        (None, 28, 28, 512)       1180160   \n",
            "_________________________________________________________________\n",
            "block4_conv2 (Conv2D)        (None, 28, 28, 512)       2359808   \n",
            "_________________________________________________________________\n",
            "block4_conv3 (Conv2D)        (None, 28, 28, 512)       2359808   \n",
            "_________________________________________________________________\n",
            "block4_pool (MaxPooling2D)   (None, 14, 14, 512)       0         \n",
            "_________________________________________________________________\n",
            "block5_conv1 (Conv2D)        (None, 14, 14, 512)       2359808   \n",
            "_________________________________________________________________\n",
            "block5_conv2 (Conv2D)        (None, 14, 14, 512)       2359808   \n",
            "_________________________________________________________________\n",
            "block5_conv3 (Conv2D)        (None, 14, 14, 512)       2359808   \n",
            "_________________________________________________________________\n",
            "block5_pool (MaxPooling2D)   (None, 7, 7, 512)         0         \n",
            "_________________________________________________________________\n",
            "flatten (Flatten)            (None, 25088)             0         \n",
            "_________________________________________________________________\n",
            "fc1 (Dense)                  (None, 4096)              102764544 \n",
            "_________________________________________________________________\n",
            "fc2 (Dense)                  (None, 4096)              16781312  \n",
            "_________________________________________________________________\n",
            "predictions (Dense)          (None, 3)                 12291     \n",
            "=================================================================\n",
            "Total params: 134,272,835\n",
            "Trainable params: 134,234,115\n",
            "Non-trainable params: 38,720\n",
            "_________________________________________________________________\n"
          ],
          "name": "stdout"
        },
        {
          "output_type": "stream",
          "text": [
            "/usr/local/lib/python3.7/dist-packages/tensorflow/python/keras/optimizer_v2/optimizer_v2.py:375: UserWarning: The `lr` argument is deprecated, use `learning_rate` instead.\n",
            "  \"The `lr` argument is deprecated, use `learning_rate` instead.\")\n"
          ],
          "name": "stderr"
        }
      ]
    },
    {
      "cell_type": "code",
      "metadata": {
        "id": "Kfcdt3KRgPM0"
      },
      "source": [
        "## Model Checkpoint and Early stopping criteria\n",
        "checkpoint = ModelCheckpoint(\"vgg16_base_res.h5\", monitor='val_accuracy', verbose=1, \n",
        "                             save_best_only=True, save_weights_only=False, mode='auto')\n",
        "early = EarlyStopping(monitor='val_accuracy', min_delta=0, patience=20, verbose=1, mode='auto')"
      ],
      "execution_count": null,
      "outputs": []
    },
    {
      "cell_type": "code",
      "metadata": {
        "colab": {
          "base_uri": "https://localhost:8080/"
        },
        "id": "QGHkwqnigQm5",
        "outputId": "d878345f-0fcc-4007-cb08-4f228741a490"
      },
      "source": [
        "## Class weights\n",
        "counter = Counter(traindata.classes)                       \n",
        "max_val = float(max(counter.values()))   \n",
        "class_weights = {class_id : max_val/num_images for class_id, num_images in counter.items()}\n",
        "class_weights"
      ],
      "execution_count": null,
      "outputs": [
        {
          "output_type": "execute_result",
          "data": {
            "text/plain": [
              "{0: 1.0, 1: 1.0, 2: 1.0}"
            ]
          },
          "metadata": {
            "tags": []
          },
          "execution_count": 11
        }
      ]
    },
    {
      "cell_type": "code",
      "metadata": {
        "colab": {
          "base_uri": "https://localhost:8080/"
        },
        "id": "JfdgCbgN7JNF",
        "outputId": "061b778a-c2ae-4f4d-a57b-e7374f1104c2"
      },
      "source": [
        "testdata.samples"
      ],
      "execution_count": null,
      "outputs": [
        {
          "output_type": "execute_result",
          "data": {
            "text/plain": [
              "120"
            ]
          },
          "metadata": {
            "tags": []
          },
          "execution_count": 12
        }
      ]
    },
    {
      "cell_type": "code",
      "metadata": {
        "colab": {
          "base_uri": "https://localhost:8080/"
        },
        "id": "4n9t_ZcqgTAF",
        "outputId": "74233aa1-f547-496f-9fc9-40d8689275b3"
      },
      "source": [
        "## 1. Fitting the model with Model Checkpoint and Early stopping criteria\n",
        "hist = model.fit(traindata, steps_per_epoch=traindata.samples//traindata.batch_size, validation_data=testdata, \n",
        "                 class_weight=class_weights, validation_steps=testdata.samples//testdata.batch_size, \n",
        "                 epochs=110,callbacks=[checkpoint,early])"
      ],
      "execution_count": null,
      "outputs": [
        {
          "output_type": "stream",
          "text": [
            "WARNING:tensorflow:From /usr/local/lib/python3.7/dist-packages/tensorflow/python/ops/array_ops.py:5049: calling gather (from tensorflow.python.ops.array_ops) with validate_indices is deprecated and will be removed in a future version.\n",
            "Instructions for updating:\n",
            "The `validate_indices` argument has no effect. Indices are always validated on CPU and never validated on GPU.\n",
            "Epoch 1/110\n",
            "7/7 [==============================] - 91s 8s/step - loss: 1.4257 - accuracy: 0.2596 - mae: 0.4624 - val_loss: 1.2972 - val_accuracy: 0.3125 - val_mae: 0.4508\n",
            "\n",
            "Epoch 00001: val_accuracy improved from -inf to 0.31250, saving model to vgg16_base_res.h5\n",
            "Epoch 2/110\n",
            "7/7 [==============================] - 8s 1s/step - loss: 1.1622 - accuracy: 0.3798 - mae: 0.4307 - val_loss: 1.1899 - val_accuracy: 0.3125 - val_mae: 0.4466\n",
            "\n",
            "Epoch 00002: val_accuracy did not improve from 0.31250\n",
            "Epoch 3/110\n",
            "7/7 [==============================] - 4s 588ms/step - loss: 1.0090 - accuracy: 0.5048 - mae: 0.4109 - val_loss: 1.1449 - val_accuracy: 0.2917 - val_mae: 0.4445\n",
            "\n",
            "Epoch 00003: val_accuracy did not improve from 0.31250\n",
            "Epoch 4/110\n",
            "7/7 [==============================] - 4s 546ms/step - loss: 0.9751 - accuracy: 0.5000 - mae: 0.3987 - val_loss: 1.1651 - val_accuracy: 0.3229 - val_mae: 0.4460\n",
            "\n",
            "Epoch 00004: val_accuracy improved from 0.31250 to 0.32292, saving model to vgg16_base_res.h5\n",
            "Epoch 5/110\n",
            "7/7 [==============================] - 4s 482ms/step - loss: 0.9249 - accuracy: 0.5865 - mae: 0.3873 - val_loss: 1.2226 - val_accuracy: 0.3333 - val_mae: 0.4497\n",
            "\n",
            "Epoch 00005: val_accuracy improved from 0.32292 to 0.33333, saving model to vgg16_base_res.h5\n",
            "Epoch 6/110\n",
            "7/7 [==============================] - 4s 495ms/step - loss: 0.8464 - accuracy: 0.6442 - mae: 0.3666 - val_loss: 1.2034 - val_accuracy: 0.2917 - val_mae: 0.4500\n",
            "\n",
            "Epoch 00006: val_accuracy did not improve from 0.33333\n",
            "Epoch 7/110\n",
            "7/7 [==============================] - 4s 504ms/step - loss: 0.8123 - accuracy: 0.7308 - mae: 0.3571 - val_loss: 1.1945 - val_accuracy: 0.2917 - val_mae: 0.4491\n",
            "\n",
            "Epoch 00007: val_accuracy did not improve from 0.33333\n",
            "Epoch 8/110\n",
            "7/7 [==============================] - 10s 2s/step - loss: 0.7590 - accuracy: 0.7692 - mae: 0.3408 - val_loss: 1.2496 - val_accuracy: 0.3229 - val_mae: 0.4556\n",
            "\n",
            "Epoch 00008: val_accuracy did not improve from 0.33333\n",
            "Epoch 9/110\n",
            "7/7 [==============================] - 4s 583ms/step - loss: 0.7105 - accuracy: 0.7933 - mae: 0.3249 - val_loss: 1.2640 - val_accuracy: 0.2396 - val_mae: 0.4536\n",
            "\n",
            "Epoch 00009: val_accuracy did not improve from 0.33333\n",
            "Epoch 10/110\n",
            "7/7 [==============================] - 4s 533ms/step - loss: 0.6690 - accuracy: 0.8173 - mae: 0.3114 - val_loss: 1.1678 - val_accuracy: 0.2917 - val_mae: 0.4408\n",
            "\n",
            "Epoch 00010: val_accuracy did not improve from 0.33333\n",
            "Epoch 11/110\n",
            "7/7 [==============================] - 4s 532ms/step - loss: 0.6199 - accuracy: 0.8990 - mae: 0.2953 - val_loss: 1.2420 - val_accuracy: 0.3229 - val_mae: 0.4517\n",
            "\n",
            "Epoch 00011: val_accuracy did not improve from 0.33333\n",
            "Epoch 12/110\n",
            "7/7 [==============================] - 4s 502ms/step - loss: 0.5497 - accuracy: 0.9327 - mae: 0.2691 - val_loss: 1.2556 - val_accuracy: 0.3125 - val_mae: 0.4502\n",
            "\n",
            "Epoch 00012: val_accuracy did not improve from 0.33333\n",
            "Epoch 13/110\n",
            "7/7 [==============================] - 4s 509ms/step - loss: 0.5303 - accuracy: 0.9231 - mae: 0.2607 - val_loss: 1.2556 - val_accuracy: 0.3750 - val_mae: 0.4454\n",
            "\n",
            "Epoch 00013: val_accuracy improved from 0.33333 to 0.37500, saving model to vgg16_base_res.h5\n",
            "Epoch 14/110\n",
            "7/7 [==============================] - 5s 784ms/step - loss: 0.4752 - accuracy: 0.9471 - mae: 0.2378 - val_loss: 1.2926 - val_accuracy: 0.3125 - val_mae: 0.4529\n",
            "\n",
            "Epoch 00014: val_accuracy did not improve from 0.37500\n",
            "Epoch 15/110\n",
            "7/7 [==============================] - 4s 551ms/step - loss: 0.4369 - accuracy: 0.9471 - mae: 0.2224 - val_loss: 1.3543 - val_accuracy: 0.2500 - val_mae: 0.4593\n",
            "\n",
            "Epoch 00015: val_accuracy did not improve from 0.37500\n",
            "Epoch 16/110\n",
            "7/7 [==============================] - 4s 558ms/step - loss: 0.3962 - accuracy: 0.9471 - mae: 0.2035 - val_loss: 1.3267 - val_accuracy: 0.3333 - val_mae: 0.4520\n",
            "\n",
            "Epoch 00016: val_accuracy did not improve from 0.37500\n",
            "Epoch 17/110\n",
            "7/7 [==============================] - 4s 559ms/step - loss: 0.3758 - accuracy: 0.9615 - mae: 0.1945 - val_loss: 1.4168 - val_accuracy: 0.3125 - val_mae: 0.4605\n",
            "\n",
            "Epoch 00017: val_accuracy did not improve from 0.37500\n",
            "Epoch 18/110\n",
            "7/7 [==============================] - 4s 516ms/step - loss: 0.3266 - accuracy: 0.9663 - mae: 0.1722 - val_loss: 1.4298 - val_accuracy: 0.2812 - val_mae: 0.4664\n",
            "\n",
            "Epoch 00018: val_accuracy did not improve from 0.37500\n",
            "Epoch 19/110\n",
            "7/7 [==============================] - 4s 531ms/step - loss: 0.3004 - accuracy: 0.9821 - mae: 0.1613 - val_loss: 1.3762 - val_accuracy: 0.3229 - val_mae: 0.4477\n",
            "\n",
            "Epoch 00019: val_accuracy did not improve from 0.37500\n",
            "Epoch 20/110\n",
            "7/7 [==============================] - 4s 526ms/step - loss: 0.2617 - accuracy: 0.9856 - mae: 0.1425 - val_loss: 1.4226 - val_accuracy: 0.3125 - val_mae: 0.4511\n",
            "\n",
            "Epoch 00020: val_accuracy did not improve from 0.37500\n",
            "Epoch 21/110\n",
            "7/7 [==============================] - 4s 558ms/step - loss: 0.2441 - accuracy: 0.9904 - mae: 0.1335 - val_loss: 1.4604 - val_accuracy: 0.2917 - val_mae: 0.4557\n",
            "\n",
            "Epoch 00021: val_accuracy did not improve from 0.37500\n",
            "Epoch 22/110\n",
            "7/7 [==============================] - 4s 516ms/step - loss: 0.2237 - accuracy: 0.9856 - mae: 0.1222 - val_loss: 1.5067 - val_accuracy: 0.3229 - val_mae: 0.4553\n",
            "\n",
            "Epoch 00022: val_accuracy did not improve from 0.37500\n",
            "Epoch 23/110\n",
            "7/7 [==============================] - 4s 514ms/step - loss: 0.2071 - accuracy: 0.9856 - mae: 0.1145 - val_loss: 1.4725 - val_accuracy: 0.3021 - val_mae: 0.4625\n",
            "\n",
            "Epoch 00023: val_accuracy did not improve from 0.37500\n",
            "Epoch 24/110\n",
            "7/7 [==============================] - 4s 509ms/step - loss: 0.1782 - accuracy: 0.9952 - mae: 0.1014 - val_loss: 1.5466 - val_accuracy: 0.3333 - val_mae: 0.4543\n",
            "\n",
            "Epoch 00024: val_accuracy did not improve from 0.37500\n",
            "Epoch 25/110\n",
            "7/7 [==============================] - 4s 488ms/step - loss: 0.1549 - accuracy: 0.9904 - mae: 0.0884 - val_loss: 1.5666 - val_accuracy: 0.2812 - val_mae: 0.4647\n",
            "\n",
            "Epoch 00025: val_accuracy did not improve from 0.37500\n",
            "Epoch 26/110\n",
            "7/7 [==============================] - 3s 486ms/step - loss: 0.1400 - accuracy: 0.9952 - mae: 0.0809 - val_loss: 1.6689 - val_accuracy: 0.3021 - val_mae: 0.4658\n",
            "\n",
            "Epoch 00026: val_accuracy did not improve from 0.37500\n",
            "Epoch 27/110\n",
            "7/7 [==============================] - 4s 484ms/step - loss: 0.1318 - accuracy: 0.9952 - mae: 0.0767 - val_loss: 1.6784 - val_accuracy: 0.3021 - val_mae: 0.4682\n",
            "\n",
            "Epoch 00027: val_accuracy did not improve from 0.37500\n",
            "Epoch 28/110\n",
            "7/7 [==============================] - 4s 512ms/step - loss: 0.1150 - accuracy: 1.0000 - mae: 0.0684 - val_loss: 1.7010 - val_accuracy: 0.2812 - val_mae: 0.4704\n",
            "\n",
            "Epoch 00028: val_accuracy did not improve from 0.37500\n",
            "Epoch 29/110\n",
            "7/7 [==============================] - 4s 488ms/step - loss: 0.0997 - accuracy: 1.0000 - mae: 0.0600 - val_loss: 1.6736 - val_accuracy: 0.2708 - val_mae: 0.4697\n",
            "\n",
            "Epoch 00029: val_accuracy did not improve from 0.37500\n",
            "Epoch 30/110\n",
            "7/7 [==============================] - 4s 489ms/step - loss: 0.0968 - accuracy: 1.0000 - mae: 0.0577 - val_loss: 1.6510 - val_accuracy: 0.3542 - val_mae: 0.4488\n",
            "\n",
            "Epoch 00030: val_accuracy did not improve from 0.37500\n",
            "Epoch 31/110\n",
            "7/7 [==============================] - 4s 489ms/step - loss: 0.0835 - accuracy: 1.0000 - mae: 0.0503 - val_loss: 1.7264 - val_accuracy: 0.3229 - val_mae: 0.4599\n",
            "\n",
            "Epoch 00031: val_accuracy did not improve from 0.37500\n",
            "Epoch 32/110\n",
            "7/7 [==============================] - 4s 488ms/step - loss: 0.0795 - accuracy: 1.0000 - mae: 0.0480 - val_loss: 1.7392 - val_accuracy: 0.3438 - val_mae: 0.4528\n",
            "\n",
            "Epoch 00032: val_accuracy did not improve from 0.37500\n",
            "Epoch 33/110\n",
            "7/7 [==============================] - 4s 483ms/step - loss: 0.0707 - accuracy: 1.0000 - mae: 0.0433 - val_loss: 1.7214 - val_accuracy: 0.3229 - val_mae: 0.4576\n",
            "\n",
            "Epoch 00033: val_accuracy did not improve from 0.37500\n",
            "Epoch 00033: early stopping\n"
          ],
          "name": "stdout"
        }
      ]
    },
    {
      "cell_type": "code",
      "metadata": {
        "colab": {
          "base_uri": "https://localhost:8080/",
          "height": 851
        },
        "id": "lgXtUrHOgXvv",
        "outputId": "5c658556-9f1f-44a3-9234-30cb5ee7bf77"
      },
      "source": [
        "## Making plots for condition 1\n",
        "plt.plot(hist.history['loss'], label='train')\n",
        "plt.plot(hist.history['val_loss'], label='val')\n",
        "plt.title('VGG16: Training Loss and Validation Loss (0.000001 = Adam LR)')\n",
        "plt.ylabel('Loss')\n",
        "plt.xlabel('Epochs')\n",
        "plt.legend();\n",
        "plt.show()\n",
        "\n",
        "plt.plot(hist.history['accuracy'], label='train')\n",
        "plt.plot(hist.history['val_accuracy'], label='val')\n",
        "plt.title('VGG16: Training Accuracy and Validation Accuracy (0.000001 = Adam LR)')\n",
        "plt.ylabel('Accuracy')\n",
        "plt.xlabel('Epochs')\n",
        "plt.legend();\n",
        "plt.show()\n",
        "\n",
        "plt.plot(hist.history['mae'], label='train')\n",
        "plt.plot(hist.history['val_mae'], label='val')\n",
        "plt.title('VGG16: Training MAE and Validation MAE (0.000001 = Adam LR)')\n",
        "plt.ylabel('MAE')\n",
        "plt.xlabel('Epochs')\n",
        "plt.legend();\n",
        "plt.show()"
      ],
      "execution_count": null,
      "outputs": [
        {
          "output_type": "display_data",
          "data": {
            "image/png": "[encoded data removed]",
            "text/plain": [
              "<Figure size 432x288 with 1 Axes>"
            ]
          },
          "metadata": {
            "tags": [],
            "needs_background": "light"
          }
        },
        {
          "output_type": "display_data",
          "data": {
            "image/png": "[encoded data removed]",
            "text/plain": [
              "<Figure size 432x288 with 1 Axes>"
            ]
          },
          "metadata": {
            "tags": [],
            "needs_background": "light"
          }
        },
        {
          "output_type": "display_data",
          "data": {
            "image/png": "[encoded data removed]",
            "text/plain": [
              "<Figure size 432x288 with 1 Axes>"
            ]
          },
          "metadata": {
            "tags": [],
            "needs_background": "light"
          }
        }
      ]
    },
    {
      "cell_type": "code",
      "metadata": {
        "colab": {
          "base_uri": "https://localhost:8080/"
        },
        "id": "zYMLfRvpoLSd",
        "outputId": "55c18cc2-358e-49b1-b73d-cc16f821a36e"
      },
      "source": [
        "testdata.samples//testdata.batch_size + 1"
      ],
      "execution_count": null,
      "outputs": [
        {
          "output_type": "execute_result",
          "data": {
            "text/plain": [
              "4"
            ]
          },
          "metadata": {
            "tags": []
          },
          "execution_count": 16
        }
      ]
    },
    {
      "cell_type": "code",
      "metadata": {
        "colab": {
          "base_uri": "https://localhost:8080/"
        },
        "id": "pmdFAYconbVu",
        "outputId": "c29b5480-a06a-4963-dc1e-a18e200a3ad1"
      },
      "source": [
        "Y_pred = model.predict(testdata, testdata.samples//testdata.batch_size)\n",
        "y_pred = np.argmax(Y_pred, axis=1)\n",
        "print('Confusion Matrix')\n",
        "print(confusion_matrix(testdata.classes, y_pred))\n",
        "print('Classification Report')\n",
        "# target_names = ['Cats', 'Dogs', 'Horse']\n",
        "print(classification_report(testdata.classes, y_pred))"
      ],
      "execution_count": null,
      "outputs": [
        {
          "output_type": "stream",
          "text": [
            "Confusion Matrix\n",
            "[[12 19  9]\n",
            " [12 19  9]\n",
            " [ 6 23 11]]\n",
            "Classification Report\n",
            "              precision    recall  f1-score   support\n",
            "\n",
            "           0       0.40      0.30      0.34        40\n",
            "           1       0.31      0.47      0.38        40\n",
            "           2       0.38      0.28      0.32        40\n",
            "\n",
            "    accuracy                           0.35       120\n",
            "   macro avg       0.36      0.35      0.35       120\n",
            "weighted avg       0.36      0.35      0.35       120\n",
            "\n"
          ],
          "name": "stdout"
        }
      ]
    },
    {
      "cell_type": "code",
      "metadata": {
        "colab": {
          "base_uri": "https://localhost:8080/"
        },
        "id": "D0tAu0kO_ORz",
        "outputId": "46aaf601-f580-4e42-a168-f0d97ed1001a"
      },
      "source": [
        "## 2. Fitting the model without Model Checkpoint and Early stopping criteria\n",
        "hist1 = model.fit(traindata, steps_per_epoch=traindata.samples//traindata.batch_size, validation_data=testdata, \n",
        "                 class_weight=class_weights, validation_steps=testdata.samples//testdata.batch_size, \n",
        "                 epochs=110,callbacks=None)"
      ],
      "execution_count": null,
      "outputs": [
        {
          "output_type": "stream",
          "text": [
            "Epoch 1/110\n",
            "7/7 [==============================] - 4s 540ms/step - loss: 0.0596 - accuracy: 1.0000 - mae: 0.0371 - val_loss: 1.7746 - val_accuracy: 0.2708 - val_mae: 0.4667\n",
            "Epoch 2/110\n",
            "7/7 [==============================] - 4s 539ms/step - loss: 0.0556 - accuracy: 1.0000 - mae: 0.0346 - val_loss: 1.7574 - val_accuracy: 0.3021 - val_mae: 0.4599\n",
            "Epoch 3/110\n",
            "7/7 [==============================] - 4s 508ms/step - loss: 0.0503 - accuracy: 1.0000 - mae: 0.0317 - val_loss: 1.9075 - val_accuracy: 0.2917 - val_mae: 0.4692\n",
            "Epoch 4/110\n",
            "7/7 [==============================] - 4s 550ms/step - loss: 0.0415 - accuracy: 1.0000 - mae: 0.0263 - val_loss: 1.9399 - val_accuracy: 0.2708 - val_mae: 0.4759\n",
            "Epoch 5/110\n",
            "7/7 [==============================] - 4s 508ms/step - loss: 0.0441 - accuracy: 1.0000 - mae: 0.0274 - val_loss: 1.9697 - val_accuracy: 0.2812 - val_mae: 0.4707\n",
            "Epoch 6/110\n",
            "7/7 [==============================] - 4s 532ms/step - loss: 0.0390 - accuracy: 1.0000 - mae: 0.0246 - val_loss: 1.8159 - val_accuracy: 0.3229 - val_mae: 0.4504\n",
            "Epoch 7/110\n",
            "7/7 [==============================] - 4s 525ms/step - loss: 0.0370 - accuracy: 1.0000 - mae: 0.0234 - val_loss: 1.8721 - val_accuracy: 0.2917 - val_mae: 0.4608\n",
            "Epoch 8/110\n",
            "7/7 [==============================] - 4s 494ms/step - loss: 0.0326 - accuracy: 1.0000 - mae: 0.0208 - val_loss: 1.8804 - val_accuracy: 0.3125 - val_mae: 0.4552\n",
            "Epoch 9/110\n",
            "7/7 [==============================] - 4s 490ms/step - loss: 0.0329 - accuracy: 1.0000 - mae: 0.0209 - val_loss: 1.8432 - val_accuracy: 0.2812 - val_mae: 0.4622\n",
            "Epoch 10/110\n",
            "7/7 [==============================] - 4s 492ms/step - loss: 0.0293 - accuracy: 1.0000 - mae: 0.0187 - val_loss: 1.9508 - val_accuracy: 0.2812 - val_mae: 0.4666\n",
            "Epoch 11/110\n",
            "7/7 [==============================] - 4s 515ms/step - loss: 0.0260 - accuracy: 1.0000 - mae: 0.0167 - val_loss: 1.9536 - val_accuracy: 0.2708 - val_mae: 0.4623\n",
            "Epoch 12/110\n",
            "7/7 [==============================] - 4s 514ms/step - loss: 0.0237 - accuracy: 1.0000 - mae: 0.0153 - val_loss: 2.0162 - val_accuracy: 0.3021 - val_mae: 0.4652\n",
            "Epoch 13/110\n",
            "7/7 [==============================] - 4s 495ms/step - loss: 0.0231 - accuracy: 1.0000 - mae: 0.0149 - val_loss: 2.0357 - val_accuracy: 0.3021 - val_mae: 0.4635\n",
            "Epoch 14/110\n",
            "7/7 [==============================] - 4s 494ms/step - loss: 0.0202 - accuracy: 1.0000 - mae: 0.0131 - val_loss: 2.1370 - val_accuracy: 0.2500 - val_mae: 0.4807\n",
            "Epoch 15/110\n",
            "7/7 [==============================] - 4s 501ms/step - loss: 0.0198 - accuracy: 1.0000 - mae: 0.0128 - val_loss: 2.0885 - val_accuracy: 0.2812 - val_mae: 0.4689\n",
            "Epoch 16/110\n",
            "7/7 [==============================] - 4s 514ms/step - loss: 0.0173 - accuracy: 1.0000 - mae: 0.0112 - val_loss: 2.1728 - val_accuracy: 0.2708 - val_mae: 0.4704\n",
            "Epoch 17/110\n",
            "7/7 [==============================] - 4s 492ms/step - loss: 0.0167 - accuracy: 1.0000 - mae: 0.0109 - val_loss: 2.2043 - val_accuracy: 0.2500 - val_mae: 0.4794\n",
            "Epoch 18/110\n",
            "7/7 [==============================] - 4s 516ms/step - loss: 0.0151 - accuracy: 1.0000 - mae: 0.0099 - val_loss: 2.1405 - val_accuracy: 0.2812 - val_mae: 0.4657\n",
            "Epoch 19/110\n",
            "7/7 [==============================] - 4s 490ms/step - loss: 0.0145 - accuracy: 1.0000 - mae: 0.0095 - val_loss: 2.1836 - val_accuracy: 0.2812 - val_mae: 0.4741\n",
            "Epoch 20/110\n",
            "7/7 [==============================] - 4s 522ms/step - loss: 0.0135 - accuracy: 1.0000 - mae: 0.0088 - val_loss: 2.2146 - val_accuracy: 0.2292 - val_mae: 0.4868\n",
            "Epoch 21/110\n",
            "7/7 [==============================] - 4s 537ms/step - loss: 0.0120 - accuracy: 1.0000 - mae: 0.0078 - val_loss: 2.0805 - val_accuracy: 0.3021 - val_mae: 0.4527\n",
            "Epoch 22/110\n",
            "7/7 [==============================] - 4s 498ms/step - loss: 0.0129 - accuracy: 1.0000 - mae: 0.0085 - val_loss: 2.2708 - val_accuracy: 0.2500 - val_mae: 0.4778\n",
            "Epoch 23/110\n",
            "7/7 [==============================] - 4s 495ms/step - loss: 0.0121 - accuracy: 1.0000 - mae: 0.0079 - val_loss: 2.2986 - val_accuracy: 0.2812 - val_mae: 0.4764\n",
            "Epoch 24/110\n",
            "7/7 [==============================] - 4s 494ms/step - loss: 0.0107 - accuracy: 1.0000 - mae: 0.0070 - val_loss: 2.3080 - val_accuracy: 0.2604 - val_mae: 0.4830\n",
            "Epoch 25/110\n",
            "7/7 [==============================] - 4s 493ms/step - loss: 0.0103 - accuracy: 1.0000 - mae: 0.0067 - val_loss: 2.2134 - val_accuracy: 0.2396 - val_mae: 0.4780\n",
            "Epoch 26/110\n",
            "7/7 [==============================] - 4s 491ms/step - loss: 0.0094 - accuracy: 1.0000 - mae: 0.0062 - val_loss: 2.3061 - val_accuracy: 0.2396 - val_mae: 0.4744\n",
            "Epoch 27/110\n",
            "7/7 [==============================] - 3s 529ms/step - loss: 0.0084 - accuracy: 1.0000 - mae: 0.0055 - val_loss: 2.2078 - val_accuracy: 0.3229 - val_mae: 0.4540\n",
            "Epoch 28/110\n",
            "7/7 [==============================] - 4s 535ms/step - loss: 0.0077 - accuracy: 1.0000 - mae: 0.0051 - val_loss: 2.2932 - val_accuracy: 0.2708 - val_mae: 0.4751\n",
            "Epoch 29/110\n",
            "7/7 [==============================] - 4s 490ms/step - loss: 0.0077 - accuracy: 1.0000 - mae: 0.0050 - val_loss: 2.3936 - val_accuracy: 0.2396 - val_mae: 0.4949\n",
            "Epoch 30/110\n",
            "7/7 [==============================] - 4s 496ms/step - loss: 0.0072 - accuracy: 1.0000 - mae: 0.0047 - val_loss: 2.3771 - val_accuracy: 0.2500 - val_mae: 0.4857\n",
            "Epoch 31/110\n",
            "7/7 [==============================] - 4s 491ms/step - loss: 0.0074 - accuracy: 1.0000 - mae: 0.0049 - val_loss: 2.2872 - val_accuracy: 0.2917 - val_mae: 0.4723\n",
            "Epoch 32/110\n",
            "7/7 [==============================] - 4s 490ms/step - loss: 0.0071 - accuracy: 1.0000 - mae: 0.0047 - val_loss: 2.3484 - val_accuracy: 0.2708 - val_mae: 0.4720\n",
            "Epoch 33/110\n",
            "7/7 [==============================] - 4s 521ms/step - loss: 0.0068 - accuracy: 1.0000 - mae: 0.0045 - val_loss: 2.3274 - val_accuracy: 0.2708 - val_mae: 0.4754\n",
            "Epoch 34/110\n",
            "7/7 [==============================] - 4s 496ms/step - loss: 0.0064 - accuracy: 1.0000 - mae: 0.0042 - val_loss: 2.4365 - val_accuracy: 0.2500 - val_mae: 0.4827\n",
            "Epoch 35/110\n",
            "7/7 [==============================] - 4s 491ms/step - loss: 0.0059 - accuracy: 1.0000 - mae: 0.0039 - val_loss: 2.1517 - val_accuracy: 0.3125 - val_mae: 0.4544\n",
            "Epoch 36/110\n",
            "7/7 [==============================] - 4s 494ms/step - loss: 0.0055 - accuracy: 1.0000 - mae: 0.0036 - val_loss: 2.3124 - val_accuracy: 0.2812 - val_mae: 0.4675\n",
            "Epoch 37/110\n",
            "7/7 [==============================] - 4s 491ms/step - loss: 0.0052 - accuracy: 1.0000 - mae: 0.0034 - val_loss: 2.4480 - val_accuracy: 0.2708 - val_mae: 0.4710\n",
            "Epoch 38/110\n",
            "7/7 [==============================] - 4s 491ms/step - loss: 0.0054 - accuracy: 1.0000 - mae: 0.0036 - val_loss: 2.4991 - val_accuracy: 0.2396 - val_mae: 0.4880\n",
            "Epoch 39/110\n",
            "7/7 [==============================] - 4s 491ms/step - loss: 0.0049 - accuracy: 1.0000 - mae: 0.0033 - val_loss: 2.3344 - val_accuracy: 0.3021 - val_mae: 0.4619\n",
            "Epoch 40/110\n",
            "7/7 [==============================] - 4s 493ms/step - loss: 0.0048 - accuracy: 1.0000 - mae: 0.0032 - val_loss: 2.4365 - val_accuracy: 0.2604 - val_mae: 0.4840\n",
            "Epoch 41/110\n",
            "7/7 [==============================] - 3s 528ms/step - loss: 0.0047 - accuracy: 1.0000 - mae: 0.0031 - val_loss: 2.3811 - val_accuracy: 0.2812 - val_mae: 0.4681\n",
            "Epoch 42/110\n",
            "7/7 [==============================] - 4s 490ms/step - loss: 0.0042 - accuracy: 1.0000 - mae: 0.0028 - val_loss: 2.3107 - val_accuracy: 0.2708 - val_mae: 0.4744\n",
            "Epoch 43/110\n",
            "7/7 [==============================] - 4s 490ms/step - loss: 0.0042 - accuracy: 1.0000 - mae: 0.0028 - val_loss: 2.3172 - val_accuracy: 0.2917 - val_mae: 0.4592\n",
            "Epoch 44/110\n",
            "7/7 [==============================] - 4s 519ms/step - loss: 0.0039 - accuracy: 1.0000 - mae: 0.0026 - val_loss: 2.6441 - val_accuracy: 0.2917 - val_mae: 0.4782\n",
            "Epoch 45/110\n",
            "7/7 [==============================] - 4s 491ms/step - loss: 0.0039 - accuracy: 1.0000 - mae: 0.0026 - val_loss: 2.5463 - val_accuracy: 0.2604 - val_mae: 0.4874\n",
            "Epoch 46/110\n",
            "7/7 [==============================] - 4s 491ms/step - loss: 0.0036 - accuracy: 1.0000 - mae: 0.0024 - val_loss: 2.5095 - val_accuracy: 0.3021 - val_mae: 0.4667\n",
            "Epoch 47/110\n",
            "7/7 [==============================] - 4s 489ms/step - loss: 0.0033 - accuracy: 1.0000 - mae: 0.0022 - val_loss: 2.3774 - val_accuracy: 0.3125 - val_mae: 0.4516\n",
            "Epoch 48/110\n",
            "7/7 [==============================] - 4s 486ms/step - loss: 0.0034 - accuracy: 1.0000 - mae: 0.0023 - val_loss: 2.4212 - val_accuracy: 0.3229 - val_mae: 0.4557\n",
            "Epoch 49/110\n",
            "7/7 [==============================] - 4s 488ms/step - loss: 0.0031 - accuracy: 1.0000 - mae: 0.0021 - val_loss: 2.4276 - val_accuracy: 0.2604 - val_mae: 0.4792\n",
            "Epoch 50/110\n",
            "7/7 [==============================] - 4s 490ms/step - loss: 0.0030 - accuracy: 1.0000 - mae: 0.0020 - val_loss: 2.5823 - val_accuracy: 0.2812 - val_mae: 0.4751\n",
            "Epoch 51/110\n",
            "7/7 [==============================] - 4s 491ms/step - loss: 0.0030 - accuracy: 1.0000 - mae: 0.0020 - val_loss: 2.3996 - val_accuracy: 0.2708 - val_mae: 0.4725\n",
            "Epoch 52/110\n",
            "7/7 [==============================] - 4s 535ms/step - loss: 0.0028 - accuracy: 1.0000 - mae: 0.0019 - val_loss: 2.5108 - val_accuracy: 0.2500 - val_mae: 0.4759\n",
            "Epoch 53/110\n",
            "7/7 [==============================] - 4s 524ms/step - loss: 0.0027 - accuracy: 1.0000 - mae: 0.0018 - val_loss: 2.5265 - val_accuracy: 0.2604 - val_mae: 0.4774\n",
            "Epoch 54/110\n",
            "7/7 [==============================] - 4s 495ms/step - loss: 0.0025 - accuracy: 1.0000 - mae: 0.0016 - val_loss: 2.5341 - val_accuracy: 0.2708 - val_mae: 0.4720\n",
            "Epoch 55/110\n",
            "7/7 [==============================] - 4s 494ms/step - loss: 0.0026 - accuracy: 1.0000 - mae: 0.0018 - val_loss: 2.4104 - val_accuracy: 0.2708 - val_mae: 0.4757\n",
            "Epoch 56/110\n",
            "7/7 [==============================] - 4s 491ms/step - loss: 0.0024 - accuracy: 1.0000 - mae: 0.0016 - val_loss: 2.5394 - val_accuracy: 0.3125 - val_mae: 0.4550\n",
            "Epoch 57/110\n",
            "7/7 [==============================] - 4s 491ms/step - loss: 0.0024 - accuracy: 1.0000 - mae: 0.0016 - val_loss: 2.6574 - val_accuracy: 0.2292 - val_mae: 0.4971\n",
            "Epoch 58/110\n",
            "7/7 [==============================] - 4s 492ms/step - loss: 0.0024 - accuracy: 1.0000 - mae: 0.0016 - val_loss: 2.4820 - val_accuracy: 0.2812 - val_mae: 0.4680\n",
            "Epoch 59/110\n",
            "7/7 [==============================] - 4s 523ms/step - loss: 0.0021 - accuracy: 1.0000 - mae: 0.0014 - val_loss: 2.5316 - val_accuracy: 0.2917 - val_mae: 0.4645\n",
            "Epoch 60/110\n",
            "7/7 [==============================] - 4s 490ms/step - loss: 0.0022 - accuracy: 1.0000 - mae: 0.0015 - val_loss: 2.3968 - val_accuracy: 0.3125 - val_mae: 0.4536\n",
            "Epoch 61/110\n",
            "7/7 [==============================] - 4s 490ms/step - loss: 0.0020 - accuracy: 1.0000 - mae: 0.0013 - val_loss: 2.6371 - val_accuracy: 0.2604 - val_mae: 0.4812\n",
            "Epoch 62/110\n",
            "7/7 [==============================] - 4s 494ms/step - loss: 0.0020 - accuracy: 1.0000 - mae: 0.0013 - val_loss: 2.5572 - val_accuracy: 0.2812 - val_mae: 0.4688\n",
            "Epoch 63/110\n",
            "7/7 [==============================] - 4s 494ms/step - loss: 0.0019 - accuracy: 1.0000 - mae: 0.0012 - val_loss: 2.7902 - val_accuracy: 0.2292 - val_mae: 0.4967\n",
            "Epoch 64/110\n",
            "7/7 [==============================] - 4s 494ms/step - loss: 0.0019 - accuracy: 1.0000 - mae: 0.0013 - val_loss: 2.6373 - val_accuracy: 0.2708 - val_mae: 0.4739\n",
            "Epoch 65/110\n",
            "7/7 [==============================] - 4s 490ms/step - loss: 0.0019 - accuracy: 1.0000 - mae: 0.0012 - val_loss: 2.7887 - val_accuracy: 0.2500 - val_mae: 0.4918\n",
            "Epoch 66/110\n",
            "7/7 [==============================] - 4s 494ms/step - loss: 0.0017 - accuracy: 1.0000 - mae: 0.0011 - val_loss: 2.5571 - val_accuracy: 0.2917 - val_mae: 0.4653\n",
            "Epoch 67/110\n",
            "7/7 [==============================] - 4s 495ms/step - loss: 0.0017 - accuracy: 1.0000 - mae: 0.0011 - val_loss: 2.6554 - val_accuracy: 0.2604 - val_mae: 0.4772\n",
            "Epoch 68/110\n",
            "7/7 [==============================] - 4s 542ms/step - loss: 0.0017 - accuracy: 1.0000 - mae: 0.0011 - val_loss: 2.6362 - val_accuracy: 0.2604 - val_mae: 0.4771\n",
            "Epoch 69/110\n",
            "7/7 [==============================] - 4s 536ms/step - loss: 0.0015 - accuracy: 1.0000 - mae: 0.0010 - val_loss: 2.7237 - val_accuracy: 0.2812 - val_mae: 0.4768\n",
            "Epoch 70/110\n",
            "7/7 [==============================] - 4s 520ms/step - loss: 0.0015 - accuracy: 1.0000 - mae: 0.0010 - val_loss: 2.5769 - val_accuracy: 0.3021 - val_mae: 0.4600\n",
            "Epoch 71/110\n",
            "7/7 [==============================] - 4s 537ms/step - loss: 0.0015 - accuracy: 1.0000 - mae: 9.7469e-04 - val_loss: 2.7635 - val_accuracy: 0.2604 - val_mae: 0.4757\n",
            "Epoch 72/110\n",
            "7/7 [==============================] - 4s 500ms/step - loss: 0.0014 - accuracy: 1.0000 - mae: 9.3179e-04 - val_loss: 2.7874 - val_accuracy: 0.2917 - val_mae: 0.4716\n",
            "Epoch 73/110\n",
            "7/7 [==============================] - 4s 501ms/step - loss: 0.0014 - accuracy: 1.0000 - mae: 9.2748e-04 - val_loss: 2.7480 - val_accuracy: 0.2812 - val_mae: 0.4767\n",
            "Epoch 74/110\n",
            "7/7 [==============================] - 4s 493ms/step - loss: 0.0014 - accuracy: 1.0000 - mae: 9.0382e-04 - val_loss: 2.6592 - val_accuracy: 0.2812 - val_mae: 0.4681\n",
            "Epoch 75/110\n",
            "7/7 [==============================] - 4s 538ms/step - loss: 0.0013 - accuracy: 1.0000 - mae: 8.4578e-04 - val_loss: 2.6460 - val_accuracy: 0.2917 - val_mae: 0.4689\n",
            "Epoch 76/110\n",
            "7/7 [==============================] - 4s 494ms/step - loss: 0.0012 - accuracy: 1.0000 - mae: 8.2913e-04 - val_loss: 2.5650 - val_accuracy: 0.3229 - val_mae: 0.4535\n",
            "Epoch 77/110\n",
            "7/7 [==============================] - 4s 503ms/step - loss: 0.0012 - accuracy: 1.0000 - mae: 7.9629e-04 - val_loss: 2.5771 - val_accuracy: 0.2708 - val_mae: 0.4685\n",
            "Epoch 78/110\n",
            "7/7 [==============================] - 4s 500ms/step - loss: 0.0012 - accuracy: 1.0000 - mae: 7.8339e-04 - val_loss: 2.6675 - val_accuracy: 0.3021 - val_mae: 0.4636\n",
            "Epoch 79/110\n",
            "7/7 [==============================] - 4s 497ms/step - loss: 0.0011 - accuracy: 1.0000 - mae: 7.4934e-04 - val_loss: 2.5940 - val_accuracy: 0.2812 - val_mae: 0.4672\n",
            "Epoch 80/110\n",
            "7/7 [==============================] - 4s 520ms/step - loss: 0.0011 - accuracy: 1.0000 - mae: 7.2279e-04 - val_loss: 2.7509 - val_accuracy: 0.2812 - val_mae: 0.4724\n",
            "Epoch 81/110\n",
            "7/7 [==============================] - 4s 505ms/step - loss: 0.0010 - accuracy: 1.0000 - mae: 6.6716e-04 - val_loss: 2.9526 - val_accuracy: 0.2604 - val_mae: 0.4860\n",
            "Epoch 82/110\n",
            "7/7 [==============================] - 4s 501ms/step - loss: 0.0011 - accuracy: 1.0000 - mae: 7.0648e-04 - val_loss: 2.7947 - val_accuracy: 0.2604 - val_mae: 0.4767\n",
            "Epoch 83/110\n",
            "7/7 [==============================] - 4s 519ms/step - loss: 0.0010 - accuracy: 1.0000 - mae: 6.6999e-04 - val_loss: 2.8159 - val_accuracy: 0.2708 - val_mae: 0.4764\n",
            "Epoch 84/110\n",
            "7/7 [==============================] - 4s 504ms/step - loss: 0.0010 - accuracy: 1.0000 - mae: 6.8473e-04 - val_loss: 2.8330 - val_accuracy: 0.2708 - val_mae: 0.4703\n",
            "Epoch 85/110\n",
            "7/7 [==============================] - 4s 497ms/step - loss: 9.1760e-04 - accuracy: 1.0000 - mae: 6.1081e-04 - val_loss: 2.6207 - val_accuracy: 0.3021 - val_mae: 0.4586\n",
            "Epoch 86/110\n",
            "7/7 [==============================] - 4s 498ms/step - loss: 8.7050e-04 - accuracy: 1.0000 - mae: 5.7953e-04 - val_loss: 2.8550 - val_accuracy: 0.2604 - val_mae: 0.4801\n",
            "Epoch 87/110\n",
            "7/7 [==============================] - 4s 499ms/step - loss: 9.6614e-04 - accuracy: 1.0000 - mae: 6.4310e-04 - val_loss: 2.7668 - val_accuracy: 0.2708 - val_mae: 0.4752\n",
            "Epoch 88/110\n",
            "7/7 [==============================] - 4s 519ms/step - loss: 9.0458e-04 - accuracy: 1.0000 - mae: 6.0214e-04 - val_loss: 2.7240 - val_accuracy: 0.3125 - val_mae: 0.4530\n",
            "Epoch 89/110\n",
            "7/7 [==============================] - 4s 541ms/step - loss: 9.2656e-04 - accuracy: 1.0000 - mae: 6.1677e-04 - val_loss: 2.8795 - val_accuracy: 0.2604 - val_mae: 0.4826\n",
            "Epoch 90/110\n",
            "7/7 [==============================] - 4s 497ms/step - loss: 8.7822e-04 - accuracy: 1.0000 - mae: 5.8463e-04 - val_loss: 2.9338 - val_accuracy: 0.2500 - val_mae: 0.4787\n",
            "Epoch 91/110\n",
            "7/7 [==============================] - 4s 496ms/step - loss: 8.0690e-04 - accuracy: 1.0000 - mae: 5.3718e-04 - val_loss: 2.9498 - val_accuracy: 0.2812 - val_mae: 0.4775\n",
            "Epoch 92/110\n",
            "7/7 [==============================] - 4s 496ms/step - loss: 7.8047e-04 - accuracy: 1.0000 - mae: 5.1963e-04 - val_loss: 2.7568 - val_accuracy: 0.2917 - val_mae: 0.4679\n",
            "Epoch 93/110\n",
            "7/7 [==============================] - 4s 498ms/step - loss: 8.2598e-04 - accuracy: 1.0000 - mae: 5.4990e-04 - val_loss: 2.6991 - val_accuracy: 0.3021 - val_mae: 0.4586\n",
            "Epoch 94/110\n",
            "7/7 [==============================] - 4s 520ms/step - loss: 7.4403e-04 - accuracy: 1.0000 - mae: 4.9541e-04 - val_loss: 2.8384 - val_accuracy: 0.2812 - val_mae: 0.4700\n",
            "Epoch 95/110\n",
            "7/7 [==============================] - 4s 520ms/step - loss: 7.4314e-04 - accuracy: 1.0000 - mae: 4.9481e-04 - val_loss: 2.7305 - val_accuracy: 0.3021 - val_mae: 0.4582\n",
            "Epoch 96/110\n",
            "7/7 [==============================] - 4s 498ms/step - loss: 7.2993e-04 - accuracy: 1.0000 - mae: 4.8602e-04 - val_loss: 2.8386 - val_accuracy: 0.2917 - val_mae: 0.4714\n",
            "Epoch 97/110\n",
            "7/7 [==============================] - 4s 519ms/step - loss: 6.7088e-04 - accuracy: 1.0000 - mae: 4.4672e-04 - val_loss: 2.7916 - val_accuracy: 0.2708 - val_mae: 0.4714\n",
            "Epoch 98/110\n",
            "7/7 [==============================] - 4s 500ms/step - loss: 6.5999e-04 - accuracy: 1.0000 - mae: 4.3949e-04 - val_loss: 2.8610 - val_accuracy: 0.2708 - val_mae: 0.4638\n",
            "Epoch 99/110\n",
            "7/7 [==============================] - 3s 522ms/step - loss: 6.5834e-04 - accuracy: 1.0000 - mae: 4.3838e-04 - val_loss: 2.7009 - val_accuracy: 0.2812 - val_mae: 0.4622\n",
            "Epoch 100/110\n",
            "7/7 [==============================] - 4s 498ms/step - loss: 6.6129e-04 - accuracy: 1.0000 - mae: 4.4035e-04 - val_loss: 2.9070 - val_accuracy: 0.2604 - val_mae: 0.4753\n",
            "Epoch 101/110\n",
            "7/7 [==============================] - 4s 497ms/step - loss: 6.3003e-04 - accuracy: 1.0000 - mae: 4.1954e-04 - val_loss: 2.9967 - val_accuracy: 0.2604 - val_mae: 0.4828\n",
            "Epoch 102/110\n",
            "7/7 [==============================] - 4s 499ms/step - loss: 6.3341e-04 - accuracy: 1.0000 - mae: 4.2180e-04 - val_loss: 2.6532 - val_accuracy: 0.3021 - val_mae: 0.4568\n",
            "Epoch 103/110\n",
            "7/7 [==============================] - 4s 497ms/step - loss: 5.9445e-04 - accuracy: 1.0000 - mae: 3.9589e-04 - val_loss: 2.8835 - val_accuracy: 0.2604 - val_mae: 0.4799\n",
            "Epoch 104/110\n",
            "7/7 [==============================] - 4s 493ms/step - loss: 5.8166e-04 - accuracy: 1.0000 - mae: 3.8738e-04 - val_loss: 2.8909 - val_accuracy: 0.2917 - val_mae: 0.4756\n",
            "Epoch 105/110\n",
            "7/7 [==============================] - 4s 496ms/step - loss: 5.7052e-04 - accuracy: 1.0000 - mae: 3.7997e-04 - val_loss: 3.0410 - val_accuracy: 0.2604 - val_mae: 0.4879\n",
            "Epoch 106/110\n",
            "7/7 [==============================] - 4s 523ms/step - loss: 5.7337e-04 - accuracy: 1.0000 - mae: 3.8186e-04 - val_loss: 2.8767 - val_accuracy: 0.3125 - val_mae: 0.4670\n",
            "Epoch 107/110\n",
            "7/7 [==============================] - 4s 498ms/step - loss: 4.8885e-04 - accuracy: 1.0000 - mae: 3.2562e-04 - val_loss: 2.8239 - val_accuracy: 0.2708 - val_mae: 0.4815\n",
            "Epoch 108/110\n",
            "7/7 [==============================] - 4s 499ms/step - loss: 5.1380e-04 - accuracy: 1.0000 - mae: 3.4222e-04 - val_loss: 2.8983 - val_accuracy: 0.3125 - val_mae: 0.4660\n",
            "Epoch 109/110\n",
            "7/7 [==============================] - 4s 498ms/step - loss: 5.4129e-04 - accuracy: 1.0000 - mae: 3.6052e-04 - val_loss: 2.9283 - val_accuracy: 0.3021 - val_mae: 0.4711\n",
            "Epoch 110/110\n",
            "7/7 [==============================] - 3s 531ms/step - loss: 5.1271e-04 - accuracy: 1.0000 - mae: 3.4149e-04 - val_loss: 3.0475 - val_accuracy: 0.2708 - val_mae: 0.4841\n"
          ],
          "name": "stdout"
        }
      ]
    },
    {
      "cell_type": "code",
      "metadata": {
        "colab": {
          "base_uri": "https://localhost:8080/",
          "height": 851
        },
        "id": "HdJZ41b6_RSW",
        "outputId": "2f3709ce-003d-4a9a-bcb8-c87d3b141ffd"
      },
      "source": [
        "## Making plots for condition 2\n",
        "plt.plot(hist1.history['loss'], label='train')\n",
        "plt.plot(hist1.history['val_loss'], label='val')\n",
        "plt.title('VGG16: Training Loss and Validation Loss (0.000001 = Adam LR)')\n",
        "plt.ylabel('Loss')\n",
        "plt.xlabel('Epochs')\n",
        "plt.legend();\n",
        "plt.show()\n",
        "\n",
        "plt.plot(hist1.history['accuracy'], label='train')\n",
        "plt.plot(hist1.history['val_accuracy'], label='val')\n",
        "plt.title('VGG16: Training Accuracy and Validation Accuracy (0.000001 = Adam LR)')\n",
        "plt.ylabel('Accuracy')\n",
        "plt.xlabel('Epochs')\n",
        "plt.legend();\n",
        "plt.show()\n",
        "\n",
        "plt.plot(hist1.history['mae'], label='train')\n",
        "plt.plot(hist1.history['val_mae'], label='val')\n",
        "plt.title('VGG16: Training MAE and Validation MAE (0.000001 = Adam LR)')\n",
        "plt.ylabel('MAE')\n",
        "plt.xlabel('Epochs')\n",
        "plt.legend();\n",
        "plt.show()"
      ],
      "execution_count": null,
      "outputs": [
        {
          "output_type": "display_data",
          "data": {
            "image/png": "[encoded data removed]",
            "text/plain": [
              "<Figure size 432x288 with 1 Axes>"
            ]
          },
          "metadata": {
            "tags": [],
            "needs_background": "light"
          }
        },
        {
          "output_type": "display_data",
          "data": {
            "image/png": "[encoded data removed]",
            "text/plain": [
              "<Figure size 432x288 with 1 Axes>"
            ]
          },
          "metadata": {
            "tags": [],
            "needs_background": "light"
          }
        },
        {
          "output_type": "display_data",
          "data": {
            "image/png": "[encoded data removed]",
            "text/plain": [
              "<Figure size 432x288 with 1 Axes>"
            ]
          },
          "metadata": {
            "tags": [],
            "needs_background": "light"
          }
        }
      ]
    },
    {
      "cell_type": "code",
      "metadata": {
        "colab": {
          "base_uri": "https://localhost:8080/"
        },
        "id": "RaLjnuHeqGOW",
        "outputId": "08c300a5-19cb-49f6-ec54-05f22e984b68"
      },
      "source": [
        "Y_pred = model.predict(testdata, testdata.samples//testdata.batch_size)\n",
        "y_pred = np.argmax(Y_pred, axis=1)\n",
        "print('Confusion Matrix')\n",
        "print(confusion_matrix(testdata.classes, y_pred))\n",
        "print('Classification Report')\n",
        "# target_names = ['Cats', 'Dogs', 'Horse']\n",
        "print(classification_report(testdata.classes, y_pred))"
      ],
      "execution_count": null,
      "outputs": [
        {
          "output_type": "stream",
          "text": [
            "Confusion Matrix\n",
            "[[10 18 12]\n",
            " [14 14 12]\n",
            " [ 9 24  7]]\n",
            "Classification Report\n",
            "              precision    recall  f1-score   support\n",
            "\n",
            "           0       0.30      0.25      0.27        40\n",
            "           1       0.25      0.35      0.29        40\n",
            "           2       0.23      0.17      0.20        40\n",
            "\n",
            "    accuracy                           0.26       120\n",
            "   macro avg       0.26      0.26      0.25       120\n",
            "weighted avg       0.26      0.26      0.25       120\n",
            "\n"
          ],
          "name": "stdout"
        }
      ]
    }
  ]
}