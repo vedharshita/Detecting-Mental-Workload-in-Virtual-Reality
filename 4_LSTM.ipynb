{
  "nbformat": 4,
  "nbformat_minor": 0,
  "metadata": {
    "colab": {
      "name": "4_LSTM.ipynb",
      "provenance": [],
      "collapsed_sections": [],
      "include_colab_link": true
    },
    "kernelspec": {
      "display_name": "Python 3",
      "name": "python3"
    },
    "language_info": {
      "name": "python"
    },
    "accelerator": "GPU"
  },
  "cells": [
    {
      "cell_type": "markdown",
      "metadata": {
        "id": "view-in-github",
        "colab_type": "text"
      },
      "source": [
        "<a href=\"https://colab.research.google.com/github/vedharshita/Detecting-Mental-Workload-in-Virtual-Reality/blob/main/4_LSTM.ipynb\" target=\"_parent\"><img src=\"https://colab.research.google.com/assets/colab-badge.svg\" alt=\"Open In Colab\"/></a>"
      ]
    },
    {
      "cell_type": "markdown",
      "metadata": {
        "id": "Bmxmr6M0cwBO"
      },
      "source": [
        "# Detecting Mental Workload in Virtual Reality Using EEG Spectral Data: A Deep Learning Approach\n",
        "\n",
        "---"
      ]
    },
    {
      "cell_type": "code",
      "metadata": {
        "colab": {
          "base_uri": "https://localhost:8080/"
        },
        "id": "PfYh-mgwcR4u",
        "outputId": "8fa72a5e-8ca1-4f4a-e35c-8cca99bc7ccb"
      },
      "source": [
        "## Mounting gdrive\n",
        "from google.colab import drive\n",
        "drive.mount('/content/gdrive')"
      ],
      "execution_count": null,
      "outputs": [
        {
          "output_type": "stream",
          "text": [
            "Mounted at /content/gdrive\n"
          ],
          "name": "stdout"
        }
      ]
    },
    {
      "cell_type": "code",
      "metadata": {
        "id": "bDL0TxfGcyrX"
      },
      "source": [
        "## Import Statements\n",
        "import os\n",
        "import matplotlib.pyplot as plt\n",
        "import pandas as pd\n",
        "import seaborn as sns\n",
        "from sklearn.manifold import TSNE\n",
        "from sklearn.preprocessing import StandardScaler\n",
        "from sklearn.model_selection import train_test_split\n",
        "from sklearn.metrics import accuracy_score\n",
        "from sklearn.preprocessing import LabelEncoder\n",
        "import numpy as np\n",
        "import tensorflow as tf\n",
        "from tensorflow.keras import Sequential\n",
        "from keras.optimizers import SGD\n",
        "from tensorflow.keras.layers import Dense, Dropout\n",
        "from tensorflow.keras.layers import Embedding\n",
        "from tensorflow.keras.layers import LSTM\n",
        "tf.keras.backend.clear_session()\n",
        "from keras.utils import np_utils\n",
        "from tensorflow.keras.utils import to_categorical\n",
        "from sklearn.metrics import classification_report"
      ],
      "execution_count": null,
      "outputs": []
    },
    {
      "cell_type": "code",
      "metadata": {
        "id": "bYod64qzoIT7"
      },
      "source": [
        "## Setting path for data files on colab\n",
        "root_dir = \"/content/gdrive/MyDrive/VR Mental Workload/\"\n",
        "raw_dir = root_dir + \"data/VRData2019/\"\n",
        "model_file_dir = raw_dir + \"model_file_dir/\"\n",
        "os.chdir(model_file_dir)"
      ],
      "execution_count": null,
      "outputs": []
    },
    {
      "cell_type": "code",
      "metadata": {
        "colab": {
          "base_uri": "https://localhost:8080/"
        },
        "id": "dSVPbnSjBhHT",
        "outputId": "32608e8a-79a3-4ce2-8715-0fef391a57cd"
      },
      "source": [
        "## Loading final csv in df\n",
        "features_df = pd.read_csv(r'/content/gdrive/MyDrive/VR Mental Workload/data/VRData2019/model_file_dir/df.csv')\n",
        "features_df = features_df.drop(['Unnamed: 0', 'Unnamed: 0.1'], axis=1)\n",
        "features_df = features_df.reindex(sorted(features_df.columns), axis=1)\n",
        "features_df\n",
        "\n",
        "train_df = pd.read_csv(r'/content/gdrive/MyDrive/VR Mental Workload/data/VRData2019/model_file_dir/train.csv')\n",
        "train_df = train_df.drop(['Unnamed: 0', 'Unnamed: 0.1'], axis=1)\n",
        "train_df = train_df.reindex(sorted(train_df.columns), axis=1)\n",
        "train_df\n",
        "\n",
        "test_df = pd.read_csv(r'/content/gdrive/MyDrive/VR Mental Workload/data/VRData2019/model_file_dir/test.csv')\n",
        "test_df = test_df.drop(['Unnamed: 0', 'Unnamed: 0.1'], axis=1)\n",
        "test_df = test_df.reindex(sorted(test_df.columns), axis=1)\n",
        "test_df\n",
        "\n",
        "print(features_df.shape, train_df.shape, test_df.shape)"
      ],
      "execution_count": null,
      "outputs": [
        {
          "output_type": "stream",
          "text": [
            "(13723, 41) (9148, 41) (4575, 41)\n"
          ],
          "name": "stdout"
        }
      ]
    },
    {
      "cell_type": "code",
      "metadata": {
        "id": "5uKJu9mcBl_e"
      },
      "source": [
        "## Feature scaling - StandardScaler -- Standardize features by removing the mean and scaling to unit variance and Train Test Split\n",
        "X = features_df[features_df.columns[1:]]\n",
        "y = features_df['nback']\n",
        "\n",
        "X_train = train_df[train_df.columns[1:]]\n",
        "X_test = test_df[test_df.columns[1:]]\n",
        "y_train = train_df['nback']\n",
        "y_test = test_df['nback']"
      ],
      "execution_count": null,
      "outputs": []
    },
    {
      "cell_type": "code",
      "metadata": {
        "id": "KzY6RhiZPw_t"
      },
      "source": [
        "## One hot encode labels\n",
        "label_encoder = LabelEncoder()\n",
        "label_encoder.fit(y_train)\n",
        "encoded_y_train = label_encoder.transform(y_train)\n",
        "dummy_y_train = np_utils.to_categorical(encoded_y_train)\n",
        "y_train1 = to_categorical(y_train)\n",
        "y_test1 = to_categorical(y_test)"
      ],
      "execution_count": null,
      "outputs": []
    },
    {
      "cell_type": "code",
      "metadata": {
        "colab": {
          "base_uri": "https://localhost:8080/"
        },
        "id": "T_oOHa3eCPSd",
        "outputId": "b149b923-7900-4781-d66e-7d6da265c867"
      },
      "source": [
        "## Converting to numpy arrays\n",
        "X_train1 = X_train.to_numpy()\n",
        "X_test1 = X_test.to_numpy()\n",
        "print(X_train1.shape, X_test1.shape)"
      ],
      "execution_count": null,
      "outputs": [
        {
          "output_type": "stream",
          "text": [
            "(9148, 40) (4575, 40)\n"
          ],
          "name": "stdout"
        }
      ]
    },
    {
      "cell_type": "code",
      "metadata": {
        "id": "QuMTpQrWEo83"
      },
      "source": [
        "## Reshaping the input\n",
        "X_train1 = X_train1.reshape((X_train1.shape[0],1,X_train1.shape[1]))\n",
        "X_test1 = X_test1.reshape((X_test1.shape[0],1,X_test1.shape[1]))"
      ],
      "execution_count": null,
      "outputs": []
    },
    {
      "cell_type": "markdown",
      "metadata": {
        "id": "scbkybj6CkEF"
      },
      "source": [
        "### **STEP 8: DL Modeling - LSTM**\n"
      ]
    },
    {
      "cell_type": "code",
      "metadata": {
        "colab": {
          "base_uri": "https://localhost:8080/"
        },
        "id": "Wj-JlS8gB9-b",
        "outputId": "00dc670f-4a3d-41d6-9610-5415401b368e"
      },
      "source": [
        "## LSTM Model\n",
        "model = Sequential()\n",
        "model.add(LSTM(64, input_shape = (1,40), activation=\"relu\",return_sequences=True))\n",
        "model.add(Dropout(0.2))\n",
        "model.add(LSTM(32,activation=\"relu\"))\n",
        "model.add(Dropout(0.2))\n",
        "model.add(Dense(32))\n",
        "model.add(Dense(32))\n",
        "model.add(Dense(32))\n",
        "model.add(Dense(16))\n",
        "model.add(Dense(16))\n",
        "model.add(Dense(8))\n",
        "model.add(Dense(8))\n",
        "model.add(Dense(3, activation='sigmoid'))\n",
        "model.compile(loss = 'categorical_crossentropy', optimizer = \"adam\", metrics = ['accuracy'])\n",
        "model.summary()"
      ],
      "execution_count": null,
      "outputs": [
        {
          "output_type": "stream",
          "text": [
            "WARNING:tensorflow:Layer lstm will not use cuDNN kernels since it doesn't meet the criteria. It will use a generic GPU kernel as fallback when running on GPU.\n",
            "WARNING:tensorflow:Layer lstm_1 will not use cuDNN kernels since it doesn't meet the criteria. It will use a generic GPU kernel as fallback when running on GPU.\n",
            "Model: \"sequential\"\n",
            "_________________________________________________________________\n",
            "Layer (type)                 Output Shape              Param #   \n",
            "=================================================================\n",
            "lstm (LSTM)                  (None, 1, 64)             26880     \n",
            "_________________________________________________________________\n",
            "dropout (Dropout)            (None, 1, 64)             0         \n",
            "_________________________________________________________________\n",
            "lstm_1 (LSTM)                (None, 32)                12416     \n",
            "_________________________________________________________________\n",
            "dropout_1 (Dropout)          (None, 32)                0         \n",
            "_________________________________________________________________\n",
            "dense (Dense)                (None, 32)                1056      \n",
            "_________________________________________________________________\n",
            "dense_1 (Dense)              (None, 32)                1056      \n",
            "_________________________________________________________________\n",
            "dense_2 (Dense)              (None, 32)                1056      \n",
            "_________________________________________________________________\n",
            "dense_3 (Dense)              (None, 16)                528       \n",
            "_________________________________________________________________\n",
            "dense_4 (Dense)              (None, 16)                272       \n",
            "_________________________________________________________________\n",
            "dense_5 (Dense)              (None, 8)                 136       \n",
            "_________________________________________________________________\n",
            "dense_6 (Dense)              (None, 8)                 72        \n",
            "_________________________________________________________________\n",
            "dense_7 (Dense)              (None, 3)                 27        \n",
            "=================================================================\n",
            "Total params: 43,499\n",
            "Trainable params: 43,499\n",
            "Non-trainable params: 0\n",
            "_________________________________________________________________\n"
          ],
          "name": "stdout"
        }
      ]
    },
    {
      "cell_type": "code",
      "metadata": {
        "colab": {
          "base_uri": "https://localhost:8080/"
        },
        "id": "tTrD3cTnCBEh",
        "outputId": "d938605a-473e-416d-fa3e-df6cd0c00565"
      },
      "source": [
        "## Fitting the model\n",
        "hist = model.fit(X_train1, y_train1, validation_data=(X_test1,y_test1), epochs = 110)\n",
        "# score, acc = model.evaluate(X_test, y_test)"
      ],
      "execution_count": null,
      "outputs": [
        {
          "output_type": "stream",
          "text": [
            "Epoch 1/110\n",
            "286/286 [==============================] - 8s 10ms/step - loss: 1.0784 - accuracy: 0.3830 - val_loss: 1.1804 - val_accuracy: 0.3143\n",
            "Epoch 2/110\n",
            "286/286 [==============================] - 2s 9ms/step - loss: 0.9458 - accuracy: 0.5099 - val_loss: 1.3038 - val_accuracy: 0.3226\n",
            "Epoch 3/110\n",
            "286/286 [==============================] - 2s 8ms/step - loss: 0.8464 - accuracy: 0.5888 - val_loss: 1.4861 - val_accuracy: 0.3259\n",
            "Epoch 4/110\n",
            "286/286 [==============================] - 2s 9ms/step - loss: 0.7409 - accuracy: 0.6677 - val_loss: 1.7493 - val_accuracy: 0.3069\n",
            "Epoch 5/110\n",
            "286/286 [==============================] - 2s 9ms/step - loss: 0.6580 - accuracy: 0.7184 - val_loss: 1.6207 - val_accuracy: 0.3478\n",
            "Epoch 6/110\n",
            "286/286 [==============================] - 2s 9ms/step - loss: 0.5956 - accuracy: 0.7574 - val_loss: 1.6488 - val_accuracy: 0.3113\n",
            "Epoch 7/110\n",
            "286/286 [==============================] - 3s 9ms/step - loss: 0.5536 - accuracy: 0.7757 - val_loss: 1.9130 - val_accuracy: 0.3152\n",
            "Epoch 8/110\n",
            "286/286 [==============================] - 3s 9ms/step - loss: 0.5342 - accuracy: 0.7837 - val_loss: 1.8432 - val_accuracy: 0.3161\n",
            "Epoch 9/110\n",
            "286/286 [==============================] - 3s 9ms/step - loss: 0.4921 - accuracy: 0.8053 - val_loss: 1.9159 - val_accuracy: 0.3064\n",
            "Epoch 10/110\n",
            "286/286 [==============================] - 2s 9ms/step - loss: 0.4690 - accuracy: 0.8142 - val_loss: 1.9001 - val_accuracy: 0.3384\n",
            "Epoch 11/110\n",
            "286/286 [==============================] - 3s 9ms/step - loss: 0.4476 - accuracy: 0.8241 - val_loss: 2.2526 - val_accuracy: 0.3311\n",
            "Epoch 12/110\n",
            "286/286 [==============================] - 3s 9ms/step - loss: 0.4338 - accuracy: 0.8305 - val_loss: 2.1611 - val_accuracy: 0.3049\n",
            "Epoch 13/110\n",
            "286/286 [==============================] - 2s 9ms/step - loss: 0.4212 - accuracy: 0.8356 - val_loss: 2.2805 - val_accuracy: 0.3082\n",
            "Epoch 14/110\n",
            "286/286 [==============================] - 3s 9ms/step - loss: 0.4083 - accuracy: 0.8416 - val_loss: 2.2139 - val_accuracy: 0.3167\n",
            "Epoch 15/110\n",
            "286/286 [==============================] - 3s 9ms/step - loss: 0.3988 - accuracy: 0.8486 - val_loss: 2.2216 - val_accuracy: 0.3064\n",
            "Epoch 16/110\n",
            "286/286 [==============================] - 3s 9ms/step - loss: 0.3748 - accuracy: 0.8561 - val_loss: 2.1921 - val_accuracy: 0.3281\n",
            "Epoch 17/110\n",
            "286/286 [==============================] - 3s 9ms/step - loss: 0.3738 - accuracy: 0.8564 - val_loss: 2.1665 - val_accuracy: 0.3163\n",
            "Epoch 18/110\n",
            "286/286 [==============================] - 3s 9ms/step - loss: 0.3592 - accuracy: 0.8690 - val_loss: 2.3139 - val_accuracy: 0.3163\n",
            "Epoch 19/110\n",
            "286/286 [==============================] - 3s 9ms/step - loss: 0.3548 - accuracy: 0.8623 - val_loss: 2.5665 - val_accuracy: 0.3148\n",
            "Epoch 20/110\n",
            "286/286 [==============================] - 2s 9ms/step - loss: 0.3443 - accuracy: 0.8699 - val_loss: 2.2545 - val_accuracy: 0.3180\n",
            "Epoch 21/110\n",
            "286/286 [==============================] - 3s 9ms/step - loss: 0.3398 - accuracy: 0.8693 - val_loss: 2.3793 - val_accuracy: 0.3281\n",
            "Epoch 22/110\n",
            "286/286 [==============================] - 3s 9ms/step - loss: 0.3411 - accuracy: 0.8706 - val_loss: 2.2689 - val_accuracy: 0.3246\n",
            "Epoch 23/110\n",
            "286/286 [==============================] - 2s 9ms/step - loss: 0.3334 - accuracy: 0.8778 - val_loss: 2.4519 - val_accuracy: 0.3325\n",
            "Epoch 24/110\n",
            "286/286 [==============================] - 2s 9ms/step - loss: 0.3130 - accuracy: 0.8769 - val_loss: 2.4430 - val_accuracy: 0.3242\n",
            "Epoch 25/110\n",
            "286/286 [==============================] - 2s 9ms/step - loss: 0.3235 - accuracy: 0.8770 - val_loss: 2.6490 - val_accuracy: 0.3257\n",
            "Epoch 26/110\n",
            "286/286 [==============================] - 2s 9ms/step - loss: 0.3140 - accuracy: 0.8792 - val_loss: 2.5731 - val_accuracy: 0.3132\n",
            "Epoch 27/110\n",
            "286/286 [==============================] - 2s 9ms/step - loss: 0.3062 - accuracy: 0.8828 - val_loss: 2.5470 - val_accuracy: 0.3141\n",
            "Epoch 28/110\n",
            "286/286 [==============================] - 2s 9ms/step - loss: 0.3005 - accuracy: 0.8896 - val_loss: 2.3942 - val_accuracy: 0.3058\n",
            "Epoch 29/110\n",
            "286/286 [==============================] - 3s 9ms/step - loss: 0.2887 - accuracy: 0.8919 - val_loss: 2.4094 - val_accuracy: 0.3375\n",
            "Epoch 30/110\n",
            "286/286 [==============================] - 2s 9ms/step - loss: 0.2949 - accuracy: 0.8906 - val_loss: 2.4135 - val_accuracy: 0.3030\n",
            "Epoch 31/110\n",
            "286/286 [==============================] - 2s 9ms/step - loss: 0.2924 - accuracy: 0.8920 - val_loss: 2.5303 - val_accuracy: 0.3228\n",
            "Epoch 32/110\n",
            "286/286 [==============================] - 2s 9ms/step - loss: 0.2808 - accuracy: 0.8949 - val_loss: 2.5382 - val_accuracy: 0.3027\n",
            "Epoch 33/110\n",
            "286/286 [==============================] - 3s 9ms/step - loss: 0.2846 - accuracy: 0.8924 - val_loss: 2.4905 - val_accuracy: 0.3115\n",
            "Epoch 34/110\n",
            "286/286 [==============================] - 2s 9ms/step - loss: 0.2908 - accuracy: 0.8932 - val_loss: 2.5125 - val_accuracy: 0.3158\n",
            "Epoch 35/110\n",
            "286/286 [==============================] - 3s 9ms/step - loss: 0.2736 - accuracy: 0.8955 - val_loss: 2.4119 - val_accuracy: 0.3185\n",
            "Epoch 36/110\n",
            "286/286 [==============================] - 2s 9ms/step - loss: 0.2772 - accuracy: 0.8943 - val_loss: 2.6629 - val_accuracy: 0.3084\n",
            "Epoch 37/110\n",
            "286/286 [==============================] - 3s 9ms/step - loss: 0.2634 - accuracy: 0.9034 - val_loss: 3.0558 - val_accuracy: 0.3082\n",
            "Epoch 38/110\n",
            "286/286 [==============================] - 3s 9ms/step - loss: 0.2756 - accuracy: 0.8937 - val_loss: 2.5815 - val_accuracy: 0.3257\n",
            "Epoch 39/110\n",
            "286/286 [==============================] - 2s 9ms/step - loss: 0.2708 - accuracy: 0.9028 - val_loss: 2.8789 - val_accuracy: 0.3237\n",
            "Epoch 40/110\n",
            "286/286 [==============================] - 2s 9ms/step - loss: 0.2712 - accuracy: 0.9013 - val_loss: 2.5070 - val_accuracy: 0.3067\n",
            "Epoch 41/110\n",
            "286/286 [==============================] - 3s 9ms/step - loss: 0.2654 - accuracy: 0.9044 - val_loss: 2.6646 - val_accuracy: 0.3274\n",
            "Epoch 42/110\n",
            "286/286 [==============================] - 2s 9ms/step - loss: 0.2609 - accuracy: 0.9027 - val_loss: 2.7296 - val_accuracy: 0.3351\n",
            "Epoch 43/110\n",
            "286/286 [==============================] - 3s 9ms/step - loss: 0.2632 - accuracy: 0.9000 - val_loss: 2.7125 - val_accuracy: 0.3268\n",
            "Epoch 44/110\n",
            "286/286 [==============================] - 2s 9ms/step - loss: 0.2652 - accuracy: 0.8991 - val_loss: 2.8929 - val_accuracy: 0.3307\n",
            "Epoch 45/110\n",
            "286/286 [==============================] - 2s 9ms/step - loss: 0.2540 - accuracy: 0.9064 - val_loss: 2.7141 - val_accuracy: 0.3128\n",
            "Epoch 46/110\n",
            "286/286 [==============================] - 3s 9ms/step - loss: 0.2560 - accuracy: 0.9041 - val_loss: 2.7476 - val_accuracy: 0.3145\n",
            "Epoch 47/110\n",
            "286/286 [==============================] - 2s 9ms/step - loss: 0.2481 - accuracy: 0.9045 - val_loss: 2.6109 - val_accuracy: 0.3141\n",
            "Epoch 48/110\n",
            "286/286 [==============================] - 3s 9ms/step - loss: 0.2478 - accuracy: 0.9081 - val_loss: 2.8248 - val_accuracy: 0.3167\n",
            "Epoch 49/110\n",
            "286/286 [==============================] - 2s 9ms/step - loss: 0.2456 - accuracy: 0.9127 - val_loss: 2.5981 - val_accuracy: 0.3255\n",
            "Epoch 50/110\n",
            "286/286 [==============================] - 2s 9ms/step - loss: 0.2456 - accuracy: 0.9094 - val_loss: 2.9386 - val_accuracy: 0.3270\n",
            "Epoch 51/110\n",
            "286/286 [==============================] - 2s 9ms/step - loss: 0.2550 - accuracy: 0.9045 - val_loss: 3.1630 - val_accuracy: 0.3185\n",
            "Epoch 52/110\n",
            "286/286 [==============================] - 2s 9ms/step - loss: 0.2586 - accuracy: 0.9040 - val_loss: 2.8639 - val_accuracy: 0.3021\n",
            "Epoch 53/110\n",
            "286/286 [==============================] - 2s 9ms/step - loss: 0.2361 - accuracy: 0.9108 - val_loss: 3.0523 - val_accuracy: 0.3156\n",
            "Epoch 54/110\n",
            "286/286 [==============================] - 3s 9ms/step - loss: 0.2358 - accuracy: 0.9116 - val_loss: 2.8189 - val_accuracy: 0.2968\n",
            "Epoch 55/110\n",
            "286/286 [==============================] - 3s 9ms/step - loss: 0.2534 - accuracy: 0.9065 - val_loss: 2.7271 - val_accuracy: 0.2925\n",
            "Epoch 56/110\n",
            "286/286 [==============================] - 2s 9ms/step - loss: 0.2333 - accuracy: 0.9141 - val_loss: 2.4326 - val_accuracy: 0.3121\n",
            "Epoch 57/110\n",
            "286/286 [==============================] - 2s 9ms/step - loss: 0.2460 - accuracy: 0.9084 - val_loss: 2.5380 - val_accuracy: 0.3117\n",
            "Epoch 58/110\n",
            "286/286 [==============================] - 3s 9ms/step - loss: 0.2256 - accuracy: 0.9150 - val_loss: 2.9766 - val_accuracy: 0.3064\n",
            "Epoch 59/110\n",
            "286/286 [==============================] - 2s 9ms/step - loss: 0.2371 - accuracy: 0.9110 - val_loss: 3.1559 - val_accuracy: 0.2997\n",
            "Epoch 60/110\n",
            "286/286 [==============================] - 2s 9ms/step - loss: 0.2339 - accuracy: 0.9146 - val_loss: 3.0809 - val_accuracy: 0.3191\n",
            "Epoch 61/110\n",
            "286/286 [==============================] - 3s 9ms/step - loss: 0.2343 - accuracy: 0.9150 - val_loss: 2.9137 - val_accuracy: 0.3047\n",
            "Epoch 62/110\n",
            "286/286 [==============================] - 3s 9ms/step - loss: 0.2253 - accuracy: 0.9194 - val_loss: 2.6473 - val_accuracy: 0.2879\n",
            "Epoch 63/110\n",
            "286/286 [==============================] - 3s 9ms/step - loss: 0.2197 - accuracy: 0.9197 - val_loss: 2.6873 - val_accuracy: 0.3093\n",
            "Epoch 64/110\n",
            "286/286 [==============================] - 2s 9ms/step - loss: 0.2297 - accuracy: 0.9159 - val_loss: 2.7667 - val_accuracy: 0.3084\n",
            "Epoch 65/110\n",
            "286/286 [==============================] - 3s 9ms/step - loss: 0.2309 - accuracy: 0.9162 - val_loss: 2.8378 - val_accuracy: 0.3121\n",
            "Epoch 66/110\n",
            "286/286 [==============================] - 3s 9ms/step - loss: 0.2240 - accuracy: 0.9166 - val_loss: 2.6988 - val_accuracy: 0.3069\n",
            "Epoch 67/110\n",
            "286/286 [==============================] - 2s 9ms/step - loss: 0.2228 - accuracy: 0.9167 - val_loss: 2.8632 - val_accuracy: 0.3176\n",
            "Epoch 68/110\n",
            "286/286 [==============================] - 2s 9ms/step - loss: 0.2160 - accuracy: 0.9221 - val_loss: 2.8307 - val_accuracy: 0.3198\n",
            "Epoch 69/110\n",
            "286/286 [==============================] - 3s 9ms/step - loss: 0.2227 - accuracy: 0.9180 - val_loss: 2.7027 - val_accuracy: 0.3161\n",
            "Epoch 70/110\n",
            "286/286 [==============================] - 3s 9ms/step - loss: 0.2186 - accuracy: 0.9176 - val_loss: 3.0244 - val_accuracy: 0.3148\n",
            "Epoch 71/110\n",
            "286/286 [==============================] - 2s 9ms/step - loss: 0.2196 - accuracy: 0.9211 - val_loss: 3.0975 - val_accuracy: 0.3176\n",
            "Epoch 72/110\n",
            "286/286 [==============================] - 3s 9ms/step - loss: 0.2248 - accuracy: 0.9165 - val_loss: 2.5993 - val_accuracy: 0.3110\n",
            "Epoch 73/110\n",
            "286/286 [==============================] - 2s 9ms/step - loss: 0.2145 - accuracy: 0.9199 - val_loss: 2.8932 - val_accuracy: 0.3178\n",
            "Epoch 74/110\n",
            "286/286 [==============================] - 3s 9ms/step - loss: 0.2115 - accuracy: 0.9205 - val_loss: 3.0542 - val_accuracy: 0.3071\n",
            "Epoch 75/110\n",
            "286/286 [==============================] - 2s 9ms/step - loss: 0.2122 - accuracy: 0.9211 - val_loss: 3.0236 - val_accuracy: 0.3134\n",
            "Epoch 76/110\n",
            "286/286 [==============================] - 2s 9ms/step - loss: 0.2121 - accuracy: 0.9238 - val_loss: 2.9241 - val_accuracy: 0.2868\n",
            "Epoch 77/110\n",
            "286/286 [==============================] - 3s 9ms/step - loss: 0.2073 - accuracy: 0.9194 - val_loss: 2.9373 - val_accuracy: 0.3034\n",
            "Epoch 78/110\n",
            "286/286 [==============================] - 3s 9ms/step - loss: 0.2143 - accuracy: 0.9214 - val_loss: 3.1871 - val_accuracy: 0.3202\n",
            "Epoch 79/110\n",
            "286/286 [==============================] - 2s 9ms/step - loss: 0.2089 - accuracy: 0.9224 - val_loss: 3.0579 - val_accuracy: 0.2931\n",
            "Epoch 80/110\n",
            "286/286 [==============================] - 3s 9ms/step - loss: 0.2061 - accuracy: 0.9237 - val_loss: 2.9759 - val_accuracy: 0.3198\n",
            "Epoch 81/110\n",
            "286/286 [==============================] - 3s 9ms/step - loss: 0.2098 - accuracy: 0.9234 - val_loss: 2.8759 - val_accuracy: 0.3143\n",
            "Epoch 82/110\n",
            "286/286 [==============================] - 2s 9ms/step - loss: 0.2067 - accuracy: 0.9216 - val_loss: 3.0369 - val_accuracy: 0.3156\n",
            "Epoch 83/110\n",
            "286/286 [==============================] - 3s 9ms/step - loss: 0.2057 - accuracy: 0.9276 - val_loss: 2.7619 - val_accuracy: 0.3169\n",
            "Epoch 84/110\n",
            "286/286 [==============================] - 3s 9ms/step - loss: 0.2000 - accuracy: 0.9294 - val_loss: 2.7797 - val_accuracy: 0.3207\n",
            "Epoch 85/110\n",
            "286/286 [==============================] - 3s 9ms/step - loss: 0.2155 - accuracy: 0.9247 - val_loss: 2.8185 - val_accuracy: 0.3117\n",
            "Epoch 86/110\n",
            "286/286 [==============================] - 3s 9ms/step - loss: 0.2151 - accuracy: 0.9201 - val_loss: 2.9050 - val_accuracy: 0.3224\n",
            "Epoch 87/110\n",
            "286/286 [==============================] - 3s 9ms/step - loss: 0.2081 - accuracy: 0.9267 - val_loss: 3.0699 - val_accuracy: 0.3270\n",
            "Epoch 88/110\n",
            "286/286 [==============================] - 3s 9ms/step - loss: 0.1939 - accuracy: 0.9298 - val_loss: 3.0249 - val_accuracy: 0.3207\n",
            "Epoch 89/110\n",
            "286/286 [==============================] - 3s 9ms/step - loss: 0.1991 - accuracy: 0.9258 - val_loss: 2.7043 - val_accuracy: 0.3235\n",
            "Epoch 90/110\n",
            "286/286 [==============================] - 3s 9ms/step - loss: 0.1993 - accuracy: 0.9279 - val_loss: 3.1808 - val_accuracy: 0.2936\n",
            "Epoch 91/110\n",
            "286/286 [==============================] - 2s 9ms/step - loss: 0.1932 - accuracy: 0.9257 - val_loss: 3.0939 - val_accuracy: 0.3064\n",
            "Epoch 92/110\n",
            "286/286 [==============================] - 3s 9ms/step - loss: 0.1977 - accuracy: 0.9293 - val_loss: 3.0219 - val_accuracy: 0.3117\n",
            "Epoch 93/110\n",
            "286/286 [==============================] - 3s 9ms/step - loss: 0.2039 - accuracy: 0.9261 - val_loss: 2.7587 - val_accuracy: 0.3051\n",
            "Epoch 94/110\n",
            "286/286 [==============================] - 3s 9ms/step - loss: 0.2004 - accuracy: 0.9283 - val_loss: 2.8734 - val_accuracy: 0.3093\n",
            "Epoch 95/110\n",
            "286/286 [==============================] - 3s 9ms/step - loss: 0.1959 - accuracy: 0.9251 - val_loss: 3.3610 - val_accuracy: 0.3038\n",
            "Epoch 96/110\n",
            "286/286 [==============================] - 2s 9ms/step - loss: 0.2043 - accuracy: 0.9264 - val_loss: 3.3080 - val_accuracy: 0.3274\n",
            "Epoch 97/110\n",
            "286/286 [==============================] - 2s 9ms/step - loss: 0.2002 - accuracy: 0.9272 - val_loss: 3.1918 - val_accuracy: 0.3056\n",
            "Epoch 98/110\n",
            "286/286 [==============================] - 3s 9ms/step - loss: 0.2022 - accuracy: 0.9277 - val_loss: 3.0084 - val_accuracy: 0.3119\n",
            "Epoch 99/110\n",
            "286/286 [==============================] - 3s 9ms/step - loss: 0.1966 - accuracy: 0.9323 - val_loss: 2.9743 - val_accuracy: 0.3110\n",
            "Epoch 100/110\n",
            "286/286 [==============================] - 3s 9ms/step - loss: 0.1946 - accuracy: 0.9284 - val_loss: 3.0002 - val_accuracy: 0.3189\n",
            "Epoch 101/110\n",
            "286/286 [==============================] - 3s 9ms/step - loss: 0.1984 - accuracy: 0.9237 - val_loss: 2.8918 - val_accuracy: 0.3023\n",
            "Epoch 102/110\n",
            "286/286 [==============================] - 2s 9ms/step - loss: 0.1895 - accuracy: 0.9295 - val_loss: 3.0229 - val_accuracy: 0.3191\n",
            "Epoch 103/110\n",
            "286/286 [==============================] - 3s 9ms/step - loss: 0.1877 - accuracy: 0.9309 - val_loss: 3.0123 - val_accuracy: 0.2977\n",
            "Epoch 104/110\n",
            "286/286 [==============================] - 3s 9ms/step - loss: 0.1959 - accuracy: 0.9259 - val_loss: 3.1509 - val_accuracy: 0.3224\n",
            "Epoch 105/110\n",
            "286/286 [==============================] - 2s 9ms/step - loss: 0.1935 - accuracy: 0.9305 - val_loss: 3.2295 - val_accuracy: 0.3263\n",
            "Epoch 106/110\n",
            "286/286 [==============================] - 3s 9ms/step - loss: 0.1992 - accuracy: 0.9281 - val_loss: 2.9276 - val_accuracy: 0.3073\n",
            "Epoch 107/110\n",
            "286/286 [==============================] - 3s 9ms/step - loss: 0.1871 - accuracy: 0.9287 - val_loss: 3.0621 - val_accuracy: 0.3038\n",
            "Epoch 108/110\n",
            "286/286 [==============================] - 2s 9ms/step - loss: 0.1999 - accuracy: 0.9264 - val_loss: 2.9706 - val_accuracy: 0.3165\n",
            "Epoch 109/110\n",
            "286/286 [==============================] - 3s 9ms/step - loss: 0.1903 - accuracy: 0.9308 - val_loss: 3.0551 - val_accuracy: 0.2925\n",
            "Epoch 110/110\n",
            "286/286 [==============================] - 3s 9ms/step - loss: 0.1942 - accuracy: 0.9287 - val_loss: 3.1407 - val_accuracy: 0.3095\n"
          ],
          "name": "stdout"
        }
      ]
    },
    {
      "cell_type": "code",
      "metadata": {
        "colab": {
          "base_uri": "https://localhost:8080/"
        },
        "id": "LVzYrpdSCEvn",
        "outputId": "c84671f3-a4fa-4e32-b6da-a07f444d17d2"
      },
      "source": [
        "## Predicting from model\n",
        "pred = model.predict(X_test1)\n",
        "predict_classes = np.argmax(pred,axis=1)\n",
        "predict_classes"
      ],
      "execution_count": null,
      "outputs": [
        {
          "output_type": "execute_result",
          "data": {
            "text/plain": [
              "array([2, 2, 2, ..., 1, 0, 0])"
            ]
          },
          "metadata": {
            "tags": []
          },
          "execution_count": 11
        }
      ]
    },
    {
      "cell_type": "code",
      "metadata": {
        "colab": {
          "base_uri": "https://localhost:8080/"
        },
        "id": "LDUcnIevTFTP",
        "outputId": "0ea6ae01-a37a-4314-d816-baa2c400c933"
      },
      "source": [
        "## Test Accuracy\n",
        "correct = accuracy_score(y_test,predict_classes)\n",
        "print(f\"Test Accuracy: {correct}\")"
      ],
      "execution_count": null,
      "outputs": [
        {
          "output_type": "stream",
          "text": [
            "Test Accuracy: 0.30950819672131147\n"
          ],
          "name": "stdout"
        }
      ]
    },
    {
      "cell_type": "code",
      "metadata": {
        "colab": {
          "base_uri": "https://localhost:8080/"
        },
        "id": "9uYM-tTg55XG",
        "outputId": "d5d838bc-a09b-43ea-f357-56a112b5fb60"
      },
      "source": [
        "## Confusion Matrix\n",
        "print(classification_report(y_test, predict_classes))"
      ],
      "execution_count": null,
      "outputs": [
        {
          "output_type": "stream",
          "text": [
            "              precision    recall  f1-score   support\n",
            "\n",
            "           0       0.30      0.29      0.29      1525\n",
            "           1       0.30      0.44      0.36      1525\n",
            "           2       0.34      0.20      0.25      1525\n",
            "\n",
            "    accuracy                           0.31      4575\n",
            "   macro avg       0.31      0.31      0.30      4575\n",
            "weighted avg       0.31      0.31      0.30      4575\n",
            "\n"
          ],
          "name": "stdout"
        }
      ]
    },
    {
      "cell_type": "code",
      "metadata": {
        "colab": {
          "base_uri": "https://localhost:8080/",
          "height": 572
        },
        "id": "XJbGg96wHw8E",
        "outputId": "ec9c5293-d285-46bb-8f13-7fa1e158bc9b"
      },
      "source": [
        "# Making plots\n",
        "plt.plot(hist.history['loss'], label='train')\n",
        "plt.plot(hist.history['val_loss'], label='val')\n",
        "plt.title('LSTM: Loss and Validation Loss')\n",
        "plt.ylabel('Loss')\n",
        "plt.xlabel('Epochs')\n",
        "plt.legend();\n",
        "plt.show()\n",
        "\n",
        "plt.plot(hist.history['accuracy'], label='train')\n",
        "plt.plot(hist.history['val_accuracy'], label='val')\n",
        "plt.title('LSTM: Accuracy and Validation Accuracy')\n",
        "plt.ylabel('Accuracy')\n",
        "plt.xlabel('Epochs')\n",
        "plt.legend();\n",
        "plt.show()"
      ],
      "execution_count": null,
      "outputs": [
        {
          "output_type": "display_data",
          "data": {
            "image/png": "[encoded data removed]",
            "text/plain": [
              "<Figure size 432x288 with 1 Axes>"
            ]
          },
          "metadata": {
            "tags": [],
            "needs_background": "light"
          }
        },
        {
          "output_type": "display_data",
          "data": {
            "image/png": "[encoded data removed]",
            "text/plain": [
              "<Figure size 432x288 with 1 Axes>"
            ]
          },
          "metadata": {
            "tags": [],
            "needs_background": "light"
          }
        }
      ]
    }
  ]
}